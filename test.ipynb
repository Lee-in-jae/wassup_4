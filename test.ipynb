{
 "cells": [
  {
   "cell_type": "markdown",
   "id": "af7f1cfb-af56-428f-abfe-ef19de06f0ae",
   "metadata": {},
   "source": [
    "# hello world(서식)"
   ]
  },
  {
   "cell_type": "code",
   "execution_count": 3,
   "id": "9714b873-cbb6-44db-9917-be570259a7e6",
   "metadata": {},
   "outputs": [
    {
     "name": "stdout",
     "output_type": "stream",
     "text": [
      "hello world\n"
     ]
    }
   ],
   "source": [
    "# 안녕\n",
    "print(\"hello world\")"
   ]
  }
 ],
 "metadata": {
  "kernelspec": {
   "display_name": "Python 3 (ipykernel)",
   "language": "python",
   "name": "python3"
  },
  "language_info": {
   "codemirror_mode": {
    "name": "ipython",
    "version": 3
   },
   "file_extension": ".py",
   "mimetype": "text/x-python",
   "name": "python",
   "nbconvert_exporter": "python",
   "pygments_lexer": "ipython3",
   "version": "3.12.4"
  }
 },
 "nbformat": 4,
 "nbformat_minor": 5
}
