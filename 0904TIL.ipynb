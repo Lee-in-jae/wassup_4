{
 "cells": [
  {
   "cell_type": "code",
   "execution_count": 52,
   "id": "66b78dee-776a-49cf-ac92-de0b4db7f3a1",
   "metadata": {},
   "outputs": [
    {
     "name": "stdout",
     "output_type": "stream",
     "text": [
      "hello world\n"
     ]
    }
   ],
   "source": [
    "# 001 print 기초\n",
    "# 화면에 Hello World 문자열을 출력하세요.\n",
    "\n",
    "print(\"hello world\")"
   ]
  },
  {
   "cell_type": "code",
   "execution_count": 56,
   "id": "ae0e2dfd-0869-49fd-afd5-3725424b9851",
   "metadata": {},
   "outputs": [
    {
     "name": "stdout",
     "output_type": "stream",
     "text": [
      "Mary's cocmetics\n"
     ]
    }
   ],
   "source": [
    "#002 print 기초\n",
    "#화면에 Mary's cosmetics을 출력하세요. (중간에 '가 있음에 주의하세요)\n",
    "\n",
    "print(\"Mary's cocmetics\")"
   ]
  },
  {
   "cell_type": "code",
   "execution_count": 54,
   "id": "1a18d027-c33a-4f77-912b-fa18178d14ed",
   "metadata": {},
   "outputs": [
    {
     "name": "stdout",
     "output_type": "stream",
     "text": [
      "신씨가 소리질렀다.\"도둑이야\"\n"
     ]
    }
   ],
   "source": [
    "#003 print 기초\n",
    "#화면에 아래 문장을 출력하세요. (중간에 \"가 있음에 주의하세요.)\n",
    "\n",
    "print('신씨가 소리질렀다.\"도둑이야\"')"
   ]
  },
  {
   "cell_type": "code",
   "execution_count": 70,
   "id": "8e72a264-6480-4ca2-b0f1-5896e597ba6f",
   "metadata": {},
   "outputs": [
    {
     "name": "stdout",
     "output_type": "stream",
     "text": [
      "C:\\Windows\n"
     ]
    }
   ],
   "source": [
    "#004 print 기초\n",
    "#화면에 C:\\Windows를 출력하세요.\n",
    "\n",
    "print(\"C:\\\\Windows\")"
   ]
  },
  {
   "cell_type": "code",
   "execution_count": 78,
   "id": "9a8fb360-9409-4cc0-adcb-a10a9a0e0bc7",
   "metadata": {},
   "outputs": [
    {
     "name": "stdout",
     "output_type": "stream",
     "text": [
      "안녕하세요.\n",
      "만나서\t\t반갑습니다.\n"
     ]
    }
   ],
   "source": [
    "#005 print 탭과 줄바꿈\n",
    "#다음 코드를 실행해보고 \\t와 \\n의 역할을 설명해보세요.\n",
    "\n",
    "print(\"안녕하세요.\\n만나서\\t\\t반갑습니다.\")"
   ]
  },
  {
   "cell_type": "code",
   "execution_count": 80,
   "id": "caa9b5f4-ccc1-4835-83c3-e6cde2fbca13",
   "metadata": {},
   "outputs": [
    {
     "name": "stdout",
     "output_type": "stream",
     "text": [
      "오늘은 일요일\n"
     ]
    }
   ],
   "source": [
    "#006 print 여러 데이터 출력\n",
    "#print 함수에 두 개의 단어를 입력한 예제입니다. 아래 코드의 출력 결과를 예상해봅시다.\n",
    "\n",
    "print (\"오늘은\", \"일요일\")"
   ]
  },
  {
   "cell_type": "code",
   "execution_count": 2,
   "id": "ccdc17cc-9862-43db-8d11-5aad7e9005b8",
   "metadata": {},
   "outputs": [
    {
     "name": "stdout",
     "output_type": "stream",
     "text": [
      "naver;kakao;sk;samsung\n"
     ]
    }
   ],
   "source": [
    "# 007 print 기초\n",
    "\n",
    "# print() 함수를 사용하여 다음과 같이 출력하세요.\n",
    "\n",
    "# naver;kakao;sk;samsung\n",
    "\n",
    "print(\"naver;kakao;sk;samsung\")"
   ]
  },
  {
   "cell_type": "code",
   "execution_count": 82,
   "id": "4963d95d-0b9f-4f21-a250-a4c3b0d21230",
   "metadata": {},
   "outputs": [
    {
     "name": "stdout",
     "output_type": "stream",
     "text": [
      "naver/kakao/samsung\n"
     ]
    }
   ],
   "source": [
    "#008 print 기초\n",
    "#print() 함수를 사용하여 다음과 같이 출력하세요.\n",
    "#naver/kakao/sk/samsung\n",
    "\n",
    "print(\"naver/kakao/samsung\")"
   ]
  },
  {
   "cell_type": "code",
   "execution_count": 92,
   "id": "aff4bfc1-55a2-40c6-9047-c9e35ba3cc33",
   "metadata": {},
   "outputs": [
    {
     "name": "stdout",
     "output_type": "stream",
     "text": [
      "firstsecond\n"
     ]
    }
   ],
   "source": [
    "#다음 코드를 수정하여 줄바꿈이 없이 출력하세요. (힌트: end='') print 함수는 두 번 사용합니다. 세미콜론 (;)은 한줄에 여러 개의 명령을 작성하기 위해 사용합니다.\n",
    "\n",
    "#print(\"first\");print(\"second\")\n",
    "\n",
    "print(\"first\",end=\"\");print(\"second\")"
   ]
  },
  {
   "cell_type": "code",
   "execution_count": 94,
   "id": "536c8440-2a87-4918-b949-d89c10c2a993",
   "metadata": {},
   "outputs": [
    {
     "name": "stdout",
     "output_type": "stream",
     "text": [
      "5/3\n"
     ]
    }
   ],
   "source": [
    "#010 연산 결과 출력\n",
    "#5/3의 결과를 화면에 출력하세요.\n",
    "\n",
    "print(\"5/3\")"
   ]
  },
  {
   "cell_type": "code",
   "execution_count": 4,
   "id": "0b58b6fc-2d40-4c2d-b89c-65c5be67debe",
   "metadata": {},
   "outputs": [
    {
     "name": "stdout",
     "output_type": "stream",
     "text": [
      "500000\n"
     ]
    }
   ],
   "source": [
    "# 011 변수 사용하기\n",
    "# 삼성전자라는 변수로 50,000원을 바인딩해보세요. 삼성전자 주식 10주를 보유하고 있을 때 총 평가금액을 출력하세요.\n",
    "\n",
    "samsung = 50000\n",
    "print(samsung*10)"
   ]
  },
  {
   "cell_type": "code",
   "execution_count": 96,
   "id": "6093ce6a-46ea-4b2e-9486-24c3f98bb01e",
   "metadata": {},
   "outputs": [
    {
     "name": "stdout",
     "output_type": "stream",
     "text": [
      "298000000000000\n",
      "50000\n",
      "15.79\n"
     ]
    }
   ],
   "source": [
    "#012 변수 사용하기\n",
    "#다음 표는 삼성전자의 일부 투자정보입니다. 변수를 사용해서 시가총액, 현재가, PER 등을 바인딩해보세요.\n",
    "\n",
    "#항목\t값\n",
    "#시가총액\t298조\n",
    "#현재가\t50,000원\n",
    "#PER\t15.79\n",
    "\n",
    "시가총액 = 298000000000000\n",
    "현재가 = 50000\n",
    "PER = 15.79\n",
    "print(시가총액)\n",
    "print(현재가)\n",
    "print(PER)"
   ]
  },
  {
   "cell_type": "code",
   "execution_count": 98,
   "id": "40783510-14d1-49be-8482-d2aa52bc3cee",
   "metadata": {},
   "outputs": [
    {
     "name": "stdout",
     "output_type": "stream",
     "text": [
      "hello!python\n"
     ]
    }
   ],
   "source": [
    "#013 문자열 출력\n",
    "#변수 s와 t에는 각각 문자열이 바인딩 되어있습니다.\n",
    "\n",
    "s = \"hello\"\n",
    "t = \"python\"\n",
    "#두 변수를 이용하여 아래와 같이 출력해보세요.\n",
    "\n",
    "#실행 예:\n",
    "#hello! python\n",
    "print(s+\"!\"+t)\n"
   ]
  },
  {
   "cell_type": "code",
   "execution_count": 8,
   "id": "1b7b94f7-a556-44c5-b87c-3d9917584e95",
   "metadata": {},
   "outputs": [
    {
     "data": {
      "text/plain": [
       "8"
      ]
     },
     "execution_count": 8,
     "metadata": {},
     "output_type": "execute_result"
    }
   ],
   "source": [
    "# 014 파이썬을 이용한 값 계산\n",
    "\n",
    "# 아래 코드의 실행 결과를 예상해보세요.\n",
    "\n",
    "2 + 2 * 3 "
   ]
  },
  {
   "cell_type": "code",
   "execution_count": 100,
   "id": "2beb335a-922d-4427-a534-a3e3a5b10dbd",
   "metadata": {},
   "outputs": [
    {
     "name": "stdout",
     "output_type": "stream",
     "text": [
      "<class 'int'>\n"
     ]
    }
   ],
   "source": [
    "#type() 함수는 데이터 타입을 판별합니다. 변수 a에는 128 숫자가 바인딩돼 있어 type 함수가 int (정수)형임을 알려줍니다.\n",
    "\n",
    "#>> a = 128\n",
    "#>> print (type(a))\n",
    "#<class 'int'>\n",
    "#아래 변수에 바인딩된 값의 타입을 판별해보세요.\n",
    "\n",
    "#>> a = \"132\"\n",
    "\n",
    "a = 132\n",
    "print (type(a))"
   ]
  },
  {
   "cell_type": "code",
   "execution_count": 14,
   "id": "4a6e2f3e-5f96-448e-a441-e8c789bc871f",
   "metadata": {},
   "outputs": [
    {
     "data": {
      "text/plain": [
       "int"
      ]
     },
     "execution_count": 14,
     "metadata": {},
     "output_type": "execute_result"
    }
   ],
   "source": [
    "# 016 문자열을 정수로 변환\n",
    "# 문자열 '720'를 정수형으로 변환해보세요.\n",
    "\n",
    "num_str = \"720\"\n",
    "\n",
    "num_int = int(num_str)\n",
    "# type(num_str)\n",
    "type(num_int)"
   ]
  },
  {
   "cell_type": "code",
   "execution_count": 16,
   "id": "6de189c9-f4ae-44c9-b35a-3d2598f260a7",
   "metadata": {},
   "outputs": [
    {
     "name": "stdout",
     "output_type": "stream",
     "text": [
      "721 <class 'int'>\n"
     ]
    }
   ],
   "source": [
    "num_str = \"720\"  #형변환\n",
    "num_int = int(num_str)\n",
    "print(num_int+1, type(num_int))"
   ]
  },
  {
   "cell_type": "code",
   "execution_count": 106,
   "id": "7b0a4d0f-ea2d-4068-b8d4-eeb774ba54ea",
   "metadata": {},
   "outputs": [
    {
     "name": "stdout",
     "output_type": "stream",
     "text": [
      "100 <class 'str'>\n"
     ]
    }
   ],
   "source": [
    "#017 정수를 문자열 100으로 변환\n",
    "#정수 100을 문자열 '100'으로 변환해보세요.\n",
    "\n",
    "#num = 100\n",
    "num = 100\n",
    "change = str(num)\n",
    "print(change, type(change))"
   ]
  },
  {
   "cell_type": "code",
   "execution_count": 112,
   "id": "b8137f83-cf48-4454-9a96-7b89f83f64fa",
   "metadata": {},
   "outputs": [
    {
     "name": "stdout",
     "output_type": "stream",
     "text": [
      "15.79 <class 'float'>\n"
     ]
    }
   ],
   "source": [
    "#018 문자열을 실수로 변환\n",
    "#문자열 \"15.79\"를 실수(float) 타입으로 변환해보세요.\n",
    "\n",
    "num = \"15.79\"\n",
    "num = float(num)\n",
    "print(num,type(num))"
   ]
  },
  {
   "cell_type": "code",
   "execution_count": 122,
   "id": "bfa559bc-5d58-4ac9-917a-b6028db36953",
   "metadata": {},
   "outputs": [
    {
     "name": "stdout",
     "output_type": "stream",
     "text": [
      "2019\n"
     ]
    }
   ],
   "source": [
    "#019 문자열을 정수로 변환\n",
    "#year라는 변수가 문자열 타입의 연도를 바인딩하고 있습니다. 이를 정수로 변환한 후 최근 3년의 연도를 화면에 출력해보세요.\n",
    "\n",
    "#year = \"2020\"\n",
    "year = \"2020\"\n",
    "print(int(year)-1)\n"
   ]
  },
  {
   "cell_type": "code",
   "execution_count": 18,
   "id": "dc627896-aa18-4a18-8849-989736982555",
   "metadata": {},
   "outputs": [
    {
     "name": "stdout",
     "output_type": "stream",
     "text": [
      "1749024\n"
     ]
    }
   ],
   "source": [
    "# 020 파이썬 계산\n",
    "# 에이컨이 월 48,584원에 무이자 36개월의 조건으로 홈쇼핑에서 판매되고 있습니다. 총 금액은 계산한 후 이를 화면에 출력해보세요. (변수사용하기)\n",
    "\n",
    "month = 48584\n",
    "print(48584*36)"
   ]
  },
  {
   "cell_type": "code",
   "execution_count": 22,
   "id": "b24657e2-2118-4bdb-b59c-b15390f4057d",
   "metadata": {},
   "outputs": [
    {
     "name": "stdout",
     "output_type": "stream",
     "text": [
      "1749024\n"
     ]
    }
   ],
   "source": [
    "month = 48584\n",
    "all = month*36\n",
    "print(all)"
   ]
  },
  {
   "cell_type": "code",
   "execution_count": 134,
   "id": "976ba3f2-f9ad-4966-9291-9e513a9a9972",
   "metadata": {},
   "outputs": [
    {
     "name": "stdout",
     "output_type": "stream",
     "text": [
      "p t\n"
     ]
    }
   ],
   "source": [
    "#021 문자열 인덱싱\n",
    "#letters가 바인딩하는 문자열에서 첫번째와 세번째 문자를 출력하세요.\n",
    "\n",
    "letters = 'python'\n",
    "#실행 예\n",
    "#p t\n",
    "\n",
    "print(letters[0],letters[2])"
   ]
  },
  {
   "cell_type": "code",
   "execution_count": 136,
   "id": "724f3b42-7381-4eab-80b6-83accca27728",
   "metadata": {},
   "outputs": [
    {
     "name": "stdout",
     "output_type": "stream",
     "text": [
      "2210\n"
     ]
    }
   ],
   "source": [
    "#022 문자열 슬라이싱\n",
    "#자동차 번호가 다음과 같을 때 뒤에 4자리만 출력하세요.\n",
    "\n",
    "license_plate = \"24가 2210\"\n",
    "print(license_plate[-4:])"
   ]
  },
  {
   "cell_type": "code",
   "execution_count": 40,
   "id": "f86e69fd-ddf5-4d89-83f7-b595aec0a9e1",
   "metadata": {},
   "outputs": [
    {
     "name": "stdout",
     "output_type": "stream",
     "text": [
      "2210\n"
     ]
    }
   ],
   "source": [
    "# 022 문자열 슬라이싱\n",
    "# 자동차 번호가 다음과 같을 때 뒤에 4자리만 출력하세요.\n",
    "\n",
    "# >> license_plate = \"24가 2210\"\n",
    "# 실행 예: 2210\n",
    "\n",
    "license_plate = \"24가 2210\"\n",
    "print(license_plate[-4:11])"
   ]
  },
  {
   "cell_type": "code",
   "execution_count": null,
   "id": "e191f848-5f02-48a5-81d6-f54f87fdebfd",
   "metadata": {},
   "outputs": [],
   "source": [
    "# 023 문자열 인덱싱\n",
    "# 아래의 문자열에서 '홀' 만 출력하세요.\n",
    "# >> string = \"홀짝홀짝홀짝\"\n",
    "# 실행 예:\n",
    "# 홀홀홀\n",
    "\n",
    "print(string[::2])"
   ]
  },
  {
   "cell_type": "code",
   "execution_count": 44,
   "id": "fdf009ce-9871-4390-96ab-7027c67c440b",
   "metadata": {},
   "outputs": [
    {
     "name": "stdout",
     "output_type": "stream",
     "text": [
      "NOHTYP\n"
     ]
    }
   ],
   "source": [
    "# 024 문자열 슬라이싱\n",
    "# 문자열을 거꾸로 뒤집어 출력하세요.\n",
    "\n",
    "string = \"PYTHON\"\n",
    "# 실행 예:\n",
    "# NOHTYP\n",
    "\n",
    "print(string[::-1])"
   ]
  },
  {
   "cell_type": "code",
   "execution_count": 46,
   "id": "dccad060-8d52-4291-90ae-5bb11d4a3ec4",
   "metadata": {},
   "outputs": [
    {
     "data": {
      "text/plain": [
       "'010 1111 2222'"
      ]
     },
     "execution_count": 46,
     "metadata": {},
     "output_type": "execute_result"
    }
   ],
   "source": [
    "# 025 문자열 치환\n",
    "#아래의 전화번호에서 하이푼 ('-')을 제거하고 출력하세요.\n",
    "phone_number = \"010-1111-2222\"\n",
    "# 실행 예\n",
    "# 010 1111 2222\n",
    "# 정답확인\n",
    "\n",
    "phone_number.replace(\"-\",\" \")"
   ]
  },
  {
   "cell_type": "code",
   "execution_count": 138,
   "id": "fb92861d-90dc-474a-b986-76115f06094a",
   "metadata": {},
   "outputs": [
    {
     "data": {
      "text/plain": [
       "'01011112222'"
      ]
     },
     "execution_count": 138,
     "metadata": {},
     "output_type": "execute_result"
    }
   ],
   "source": [
    "#026 문자열 다루기\n",
    "#25번 문제의 전화번호를 아래와 같이 모두 붙여 출력하세요.\n",
    "\n",
    "#실행 예\n",
    "#01011112222\n",
    "\n",
    "phone_number = \"010-1111-2222\"\n",
    "phone_number.replace(\"-\",\"\")"
   ]
  },
  {
   "cell_type": "code",
   "execution_count": 146,
   "id": "5fd35a29-2712-48e0-b29e-775bf9381f3f",
   "metadata": {},
   "outputs": [
    {
     "name": "stdout",
     "output_type": "stream",
     "text": [
      "kr\n"
     ]
    }
   ],
   "source": [
    "#027 문자열 다루기\n",
    "#url 에 저장된 웹 페이지 주소에서 도메인을 출력하세요.\n",
    "\n",
    "url = \"http://sharebook.kr\"\n",
    "\n",
    "print(url[-2:])"
   ]
  },
  {
   "cell_type": "code",
   "execution_count": 148,
   "id": "d471510e-8531-4c7f-a382-b15e9562d423",
   "metadata": {},
   "outputs": [
    {
     "ename": "TypeError",
     "evalue": "'str' object does not support item assignment",
     "output_type": "error",
     "traceback": [
      "\u001b[1;31m---------------------------------------------------------------------------\u001b[0m",
      "\u001b[1;31mTypeError\u001b[0m                                 Traceback (most recent call last)",
      "Cell \u001b[1;32mIn[148], line 5\u001b[0m\n\u001b[0;32m      1\u001b[0m \u001b[38;5;66;03m#028 문자열은 immutable\u001b[39;00m\n\u001b[0;32m      2\u001b[0m \u001b[38;5;66;03m#아래 코드의 실행 결과를 예상해보세요.\u001b[39;00m\n\u001b[0;32m      4\u001b[0m lang \u001b[38;5;241m=\u001b[39m \u001b[38;5;124m'\u001b[39m\u001b[38;5;124mpython\u001b[39m\u001b[38;5;124m'\u001b[39m\n\u001b[1;32m----> 5\u001b[0m lang[\u001b[38;5;241m0\u001b[39m] \u001b[38;5;241m=\u001b[39m \u001b[38;5;124m'\u001b[39m\u001b[38;5;124mP\u001b[39m\u001b[38;5;124m'\u001b[39m\n\u001b[0;32m      6\u001b[0m \u001b[38;5;28mprint\u001b[39m(lang)\n",
      "\u001b[1;31mTypeError\u001b[0m: 'str' object does not support item assignment"
     ]
    }
   ],
   "source": [
    "#028 문자열은 immutable\n",
    "#아래 코드의 실행 결과를 예상해보세요.\n",
    "\n",
    "lang = 'python'\n",
    "lang[0] = 'P'\n",
    "print(lang)"
   ]
  },
  {
   "cell_type": "code",
   "execution_count": 150,
   "id": "d76957ab-b79f-42c7-8e47-957152f8f244",
   "metadata": {},
   "outputs": [
    {
     "data": {
      "text/plain": [
       "'Abcdfe2A354A32A'"
      ]
     },
     "execution_count": 150,
     "metadata": {},
     "output_type": "execute_result"
    }
   ],
   "source": [
    "#029 replace 메서드\n",
    "#아래 문자열에서 소문자 'a'를 대문자 'A'로 변경하세요.\n",
    "\n",
    "string = 'abcdfe2a354a32a'\n",
    "#실행 예:\n",
    "#Abcdfe2A354A32A\n",
    "\n",
    "string.replace('a','A')"
   ]
  },
  {
   "cell_type": "code",
   "execution_count": null,
   "id": "ecee3116-fc27-40a1-a0a3-bc3bf1258bf6",
   "metadata": {},
   "outputs": [],
   "source": [
    "#030 replace 메서드\n",
    "#아래 코드의 실행 결과를 예상해보세요.\n",
    "\n",
    "#>> string = 'abcd'\n",
    "#>> string.replace('b', 'B')\n",
    "#>> print(string)"
   ]
  },
  {
   "cell_type": "code",
   "execution_count": 152,
   "id": "5388d134-e732-454f-b9be-9ebb2ddec77c",
   "metadata": {},
   "outputs": [
    {
     "name": "stdout",
     "output_type": "stream",
     "text": [
      "34\n"
     ]
    }
   ],
   "source": [
    "#아래 코드의 실행 결과를 예상해보세요.\n",
    "\n",
    "a = \"3\"\n",
    "b = \"4\"\n",
    "print(a + b)"
   ]
  },
  {
   "cell_type": "code",
   "execution_count": 154,
   "id": "424bd505-2aba-46c2-827a-f917028c1123",
   "metadata": {},
   "outputs": [
    {
     "name": "stdout",
     "output_type": "stream",
     "text": [
      "HiHiHi\n"
     ]
    }
   ],
   "source": [
    "#032 문자열 곱하기\n",
    "#아래 코드의 실행 결과를 예상해보세요.\n",
    "\n",
    "print(\"Hi\" * 3)"
   ]
  },
  {
   "cell_type": "code",
   "execution_count": 156,
   "id": "5c1def90-fc64-406e-9388-3bd8c9b894bd",
   "metadata": {},
   "outputs": [
    {
     "name": "stdout",
     "output_type": "stream",
     "text": [
      "--------------------------------------------------------------------------------\n"
     ]
    }
   ],
   "source": [
    "#033 문자열 곱하기\n",
    "#화면에 '-'를 80개 출력하세요.\n",
    "\n",
    "#실행 예:\n",
    "#--------------------------------------------------------------------------------\n",
    "print('-'*80)"
   ]
  },
  {
   "cell_type": "code",
   "execution_count": 158,
   "id": "80f57a25-00f8-4db4-bb0b-a34f7603337e",
   "metadata": {},
   "outputs": [
    {
     "name": "stdout",
     "output_type": "stream",
     "text": [
      "pythonjavapythonjavapythonjava\n"
     ]
    }
   ],
   "source": [
    "#변수에 다음과 같은 문자열이 바인딩되어 있습니다.\n",
    "\n",
    "t1 = 'python'\n",
    "t2 = 'java'\n",
    "#변수에 문자열 더하기와 문자열 곱하기를 사용해서 아래와 같이 출력해보세요.\n",
    "\n",
    "#실행 예:\n",
    "#python java python java python java python java\n",
    "\n",
    "print((t1+t2)*3)"
   ]
  },
  {
   "cell_type": "code",
   "execution_count": 162,
   "id": "b74dcacc-30fb-4664-b9dd-c821f0990430",
   "metadata": {},
   "outputs": [
    {
     "name": "stdout",
     "output_type": "stream",
     "text": [
      "이름: 김민수 나이:10\n",
      "이름: 이철희 나이: 13\n"
     ]
    }
   ],
   "source": [
    "#035 문자열 출력\n",
    "\n",
    "#변수에 다음과 같이 문자열과 정수가 바인딩되어 있을 때 % formatting을 사용해서 다음과 같이 출력해보세요.\n",
    "\n",
    "name1 = \"김민수\" \n",
    "age1 = 10\n",
    "name2 = \"이철희\"\n",
    "age2 = 13\n",
    "#이름: 김민수 나이: 10\n",
    "#이름: 이철희 나이: 13\n",
    "\n",
    "print(\"이름: %s 나이:%d\" %(name1, age1))\n",
    "print(\"이름: %s 나이: %d\" %(name2, age2))"
   ]
  },
  {
   "cell_type": "code",
   "execution_count": 166,
   "id": "7810d075-ec1d-4a94-bf5d-b93cc0889102",
   "metadata": {},
   "outputs": [
    {
     "name": "stdout",
     "output_type": "stream",
     "text": [
      "이름: 김민수 나이: 10\n",
      "이름: 이철희 나이: 13\n"
     ]
    }
   ],
   "source": [
    "#036 문자열 출력\n",
    "#문자열의 format( ) 메서드를 사용해서 035번 문제를 다시 풀어보세요.\n",
    "\n",
    "name1 = \"김민수\" \n",
    "age1 = 10\n",
    "name2 = \"이철희\"\n",
    "age2 = 13\n",
    "#이름: 김민수 나이: 10\n",
    "#이름: 이철희 나이: 13\n",
    "\n",
    "print(\"이름: {} 나이: {}\".format(name1, age1))\n",
    "print(\"이름: {} 나이: {}\".format(name2, age2))"
   ]
  },
  {
   "cell_type": "code",
   "execution_count": 170,
   "id": "4851fd15-f738-4f8e-9792-f6002f6f5ac2",
   "metadata": {},
   "outputs": [
    {
     "name": "stdout",
     "output_type": "stream",
     "text": [
      "이름: 김민수 나이: 10\n",
      "이름: 이철희 나이: 13\n"
     ]
    }
   ],
   "source": [
    "#037 문자열 출력\n",
    "#파이썬 3.6부터 지원하는 f-string을 사용해서 035번 문제를 다시 풀어보세요.\n",
    "\n",
    "name1 = \"김민수\" \n",
    "age1 = 10\n",
    "name2 = \"이철희\"\n",
    "age2 = 13\n",
    "#이름: 김민수 나이: 10\n",
    "#이름: 이철희 나이: 13\n",
    "\n",
    "print(f'이름: {name1} 나이: {age1}')\n",
    "print(f'이름: {name2} 나이: {age2}')"
   ]
  },
  {
   "cell_type": "code",
   "execution_count": 186,
   "id": "0acc3370-e518-4d28-a374-9a87a1070771",
   "metadata": {},
   "outputs": [
    {
     "name": "stdout",
     "output_type": "stream",
     "text": [
      "5969782550 <class 'str'>\n"
     ]
    }
   ],
   "source": [
    "#038 컴마 제거하기\n",
    "#삼성전자의 상장주식수가 다음과 같습니다. 컴마를 제거한 후 이를 정수 타입으로 변환해보세요.\n",
    "상장주식수 = \"5,969,782,550\"\n",
    "제거 = (상장주식수.replace(\",\",\"\"))\n",
    "print(int(제거),type(제거))"
   ]
  },
  {
   "cell_type": "code",
   "execution_count": 192,
   "id": "73326d2e-9520-4690-94b3-7da9af48d310",
   "metadata": {},
   "outputs": [
    {
     "name": "stdout",
     "output_type": "stream",
     "text": [
      "2020/03\n"
     ]
    }
   ],
   "source": [
    "#039 문자열 슬라이싱\n",
    "#다음과 같은 문자열에서 '2020/03'만 출력하세요.\n",
    "\n",
    "분기 = \"2020/03(E) (IFRS연결)\"\n",
    "print(분기[0:7])"
   ]
  },
  {
   "cell_type": "code",
   "execution_count": 196,
   "id": "98fac2e2-8db0-4700-949b-6b0776204527",
   "metadata": {},
   "outputs": [
    {
     "name": "stdout",
     "output_type": "stream",
     "text": [
      "삼성전자\n"
     ]
    }
   ],
   "source": [
    "#040 strip 메서드\n",
    "#문자열의 좌우의 공백이 있을 때 이를 제거해보세요.\n",
    "\n",
    "data = \"   삼성전자    \"\n",
    "\n",
    "print(data.strip())"
   ]
  },
  {
   "cell_type": "code",
   "execution_count": 200,
   "id": "a6b7d3e7-1a0f-41b8-bb04-164c82741fd0",
   "metadata": {},
   "outputs": [
    {
     "data": {
      "text/plain": [
       "'BTC_KRW'"
      ]
     },
     "execution_count": 200,
     "metadata": {},
     "output_type": "execute_result"
    }
   ],
   "source": [
    "#041 upper 메서드\n",
    "#다음과 같은 문자열이 있을 때 이를 대문자 BTC_KRW로 변경하세요.\n",
    "\n",
    "ticker = \"btc_krw\"\n",
    "ticker.upper()"
   ]
  },
  {
   "cell_type": "code",
   "execution_count": 202,
   "id": "d1783097-ff76-4bec-9da9-6ed2364079b9",
   "metadata": {},
   "outputs": [
    {
     "data": {
      "text/plain": [
       "'btc_krw'"
      ]
     },
     "execution_count": 202,
     "metadata": {},
     "output_type": "execute_result"
    }
   ],
   "source": [
    "#042 lower 메서드\n",
    "#다음과 같은 문자열이 있을 때 이를 소문자 btc_krw로 변경하세요.\n",
    "\n",
    "ticker = \"BTC_KRW\"\n",
    "ticker.lower()"
   ]
  },
  {
   "cell_type": "code",
   "execution_count": 210,
   "id": "9cf1e9e6-c7d3-4a94-ae6a-90388b421e4e",
   "metadata": {},
   "outputs": [
    {
     "data": {
      "text/plain": [
       "'Hello'"
      ]
     },
     "execution_count": 210,
     "metadata": {},
     "output_type": "execute_result"
    }
   ],
   "source": [
    "#043 capitalize 메서드\n",
    "#문자열 'hello'가 있을 때 이를 'Hello'로 변경해보세요.\n",
    "hello = \"hello\"\n",
    "hello.capitalize()"
   ]
  },
  {
   "cell_type": "code",
   "execution_count": 214,
   "id": "69ee04be-4f8f-4fa9-ac14-b23e223389d8",
   "metadata": {},
   "outputs": [
    {
     "data": {
      "text/plain": [
       "True"
      ]
     },
     "execution_count": 214,
     "metadata": {},
     "output_type": "execute_result"
    }
   ],
   "source": [
    "#044 endswith 메서드\n",
    "#파일 이름이 문자열로 저장되어 있을 때 endswith 메서드를 사용해서 파일 이름이 'xlsx'로 끝나는지 확인해보세요.\n",
    "\n",
    "file_name = \"보고서.xlsx\"\n",
    "file_name.endswith(\"xlsx\")"
   ]
  },
  {
   "cell_type": "code",
   "execution_count": 216,
   "id": "31cc6af6-a2a4-47ad-acd6-1b0ed715e074",
   "metadata": {},
   "outputs": [
    {
     "data": {
      "text/plain": [
       "True"
      ]
     },
     "execution_count": 216,
     "metadata": {},
     "output_type": "execute_result"
    }
   ],
   "source": [
    "#045 endswith 메서드\n",
    "#파일 이름이 문자열로 저장되어 있을 때 endswith 메서드를 사용해서 파일 이름이 'xlsx' 또는 'xls'로 끝나는지 확인해보세요.\n",
    "\n",
    "file_name = \"보고서.xlsx\"\n",
    "file_name.endswith((\"xlsx\",\"xls\"))"
   ]
  },
  {
   "cell_type": "code",
   "execution_count": 218,
   "id": "f0bcdf69-8526-4498-b003-442d902e57f9",
   "metadata": {},
   "outputs": [
    {
     "data": {
      "text/plain": [
       "['hello', 'world']"
      ]
     },
     "execution_count": 218,
     "metadata": {},
     "output_type": "execute_result"
    }
   ],
   "source": [
    "#047 split 메서드\n",
    "#다음과 같은 문자열이 있을 때 공백을 기준으로 문자열을 나눠보세요.\n",
    "\n",
    "a = \"hello world\"\n",
    "a.split()"
   ]
  },
  {
   "cell_type": "code",
   "execution_count": 220,
   "id": "5c17a58f-37ef-4beb-acc0-b59e2a6423ea",
   "metadata": {},
   "outputs": [
    {
     "data": {
      "text/plain": [
       "['btc', 'krw']"
      ]
     },
     "execution_count": 220,
     "metadata": {},
     "output_type": "execute_result"
    }
   ],
   "source": [
    "#048 split 메서드\n",
    "#다음과 같이 문자열이 있을 때 btc와 krw로 나눠보세요.\n",
    "ticker = \"btc_krw\"\n",
    "ticker.split(\"_\")"
   ]
  },
  {
   "cell_type": "code",
   "execution_count": 222,
   "id": "cc282c75-b931-48a8-941b-40d6c137f2cc",
   "metadata": {},
   "outputs": [
    {
     "data": {
      "text/plain": [
       "['2020', '05', '01']"
      ]
     },
     "execution_count": 222,
     "metadata": {},
     "output_type": "execute_result"
    }
   ],
   "source": [
    "#049 split 메서드\n",
    "#다음과 같이 날짜를 표현하는 문자열이 있을 때 연도, 월, 일로 나눠보세요.\n",
    "\n",
    "date = \"2020-05-01\"\n",
    "date.split(\"-\")"
   ]
  },
  {
   "cell_type": "code",
   "execution_count": 226,
   "id": "897c6c37-6ceb-4934-8941-2a39f2b12ae5",
   "metadata": {},
   "outputs": [
    {
     "data": {
      "text/plain": [
       "'039490'"
      ]
     },
     "execution_count": 226,
     "metadata": {},
     "output_type": "execute_result"
    }
   ],
   "source": [
    "#050 rstrip 메서드\n",
    "#문자열의 오른쪽에 공백이 있을 때 이를 제거해보세요.\n",
    "\n",
    "data = \"039490     \"\n",
    "data.rstrip()"
   ]
  }
 ],
 "metadata": {
  "kernelspec": {
   "display_name": "Python 3 (ipykernel)",
   "language": "python",
   "name": "python3"
  },
  "language_info": {
   "codemirror_mode": {
    "name": "ipython",
    "version": 3
   },
   "file_extension": ".py",
   "mimetype": "text/x-python",
   "name": "python",
   "nbconvert_exporter": "python",
   "pygments_lexer": "ipython3",
   "version": "3.12.4"
  }
 },
 "nbformat": 4,
 "nbformat_minor": 5
}
