{
 "cells": [
  {
   "cell_type": "code",
   "execution_count": null,
   "id": "60d4345a-4fcc-4408-9392-2e359afaaa27",
   "metadata": {},
   "outputs": [],
   "source": [
    "#Numpy\n",
    "#numerical pyrhon\n",
    "#고성능 수치계산을위한 라이브러리\n",
    "#벡터나(한줄로 나열된) 행렬 연산에 편리한 기능 제공\n",
    "#모든 원소는 같은 자료형만 가능\n",
    "#대용량 데이터 관리하기 편함"
   ]
  },
  {
   "cell_type": "code",
   "execution_count": 37,
   "id": "01518948-7759-40f1-9169-0a06c0502b3a",
   "metadata": {},
   "outputs": [
    {
     "name": "stdout",
     "output_type": "stream",
     "text": [
      "[ 0  1  2  3  4  5  6  7  8  9 10 11 12 13 14]\n",
      "[[ 0  1  2  3  4]\n",
      " [ 5  6  7  8  9]\n",
      " [10 11 12 13 14]]\n",
      "(3, 5)\n",
      "int32\n",
      "2\n",
      "15\n"
     ]
    }
   ],
   "source": [
    "import numpy as np #np는 라이브러리:함수들을 다른사람들이 사용할 수 있도록 책으로 만들어 놓아 우리가 언제든지 사용할 수 잇음\n",
    "a = np.arange(15)\n",
    "print(a)\n",
    "a = a.reshape(3,5)       #reshape는 차원, 차원을 바꾸겠다. 3행 5열 # order = C 행부터 할당, F열부터 할당\n",
    "print(a)            #1차원에서 2차원으로 바꿈\n",
    "print(a.shape)\n",
    "print(a.dtype)\n",
    "print(a.ndim)     #차원이 몇 차원인지 알려줌\n",
    "print(a.ㅊ)  #갯수를 알려줌"
   ]
  },
  {
   "cell_type": "code",
   "execution_count": 55,
   "id": "f94c3f54-c689-4195-af10-1de3ac6d3ad9",
   "metadata": {},
   "outputs": [
    {
     "name": "stdout",
     "output_type": "stream",
     "text": [
      "<class 'list'>\n",
      "<class 'numpy.ndarray'>\n",
      "<class 'tuple'>\n",
      "<class 'numpy.ndarray'>\n",
      "<class 'set'>\n",
      "<class 'numpy.ndarray'>\n"
     ]
    }
   ],
   "source": [
    "b = [-1, 2, 5, -3, 0, 7, -9, 7, -4, -7] #list\n",
    "print(type(b))\n",
    "b = np.array(b)\n",
    "print(type(b))\n",
    "\n",
    "t = (10, 20, 30, 40, 50)\n",
    "print(type(t))\n",
    "t = np.array(t)\n",
    "print(type(t))\n",
    "\n",
    "s = {10, 20, 30, 40, 50}        #셋은 중복이 안됨    #딕셔너리는 넘페이 안됨. 판다스로 가능\n",
    "print(type(s))\n",
    "s =  np.array(s)\n",
    "print(type(s))\n",
    "\n"
   ]
  },
  {
   "cell_type": "code",
   "execution_count": 73,
   "id": "27fe3f30-86f9-4b3b-8a3e-ea618e27d7f4",
   "metadata": {},
   "outputs": [
    {
     "name": "stdout",
     "output_type": "stream",
     "text": [
      "(10,)\n",
      "1\n",
      "int32\n",
      "[-1  2  5 -3  0  7 -9  7 -4 -7]\n",
      "[1 2 5 3 0 7 9 7 4 7]\n",
      "[1.         1.41421356 2.23606798 1.73205081 0.         2.64575131\n",
      " 3.         2.64575131 2.         2.64575131]\n",
      "[ 1  4 25  9  0 49 81 49 16 49]\n",
      "[False False False False False False False False False False]\n",
      "-3\n",
      "-0.3\n",
      "7\n",
      "-9\n",
      "5\n",
      "6\n",
      "[-9 -7 -4 -3 -1  0  2  5  7  7]\n",
      "[ 7  7  5  2  0 -1 -3 -4 -7 -9]\n",
      "-0.5\n"
     ]
    }
   ],
   "source": [
    "print(b.shape)\n",
    "print(b. ndim)\n",
    "print(b.dtype)\n",
    "print(b)\n",
    "\n",
    "print(np.abs(b))   #절대값 구하는 함수\n",
    "#print(np.sqrt(b))   #제곱근을 구하는 함수\n",
    "print(np.sqrt(np.abs(b)))\n",
    "print(np.square(b))  #제곱\n",
    "print(np.isnan(b))    #nan이냐 아니냐\n",
    "print(np.sum(b))     #합계\n",
    "print(np.mean(b))    #평균\n",
    "print(np.max(b))     #최대값\n",
    "print(np.min(b))     #최소값\n",
    "print(np.argmax(b))  #최대값 인덱스\n",
    "print(np.argmin(b))  #최소값 인덱스\n",
    "print(np.sort(b))    #정렬 오름차순\n",
    "print(np.sort(b)[::-1]) #정렬 내림차순\n",
    "print(np.median(b))  #중간값"
   ]
  },
  {
   "cell_type": "code",
   "execution_count": null,
   "id": "007b2461-b985-4b3d-be98-bd23a1f6283d",
   "metadata": {},
   "outputs": [],
   "source": []
  }
 ],
 "metadata": {
  "kernelspec": {
   "display_name": "Python 3 (ipykernel)",
   "language": "python",
   "name": "python3"
  },
  "language_info": {
   "codemirror_mode": {
    "name": "ipython",
    "version": 3
   },
   "file_extension": ".py",
   "mimetype": "text/x-python",
   "name": "python",
   "nbconvert_exporter": "python",
   "pygments_lexer": "ipython3",
   "version": "3.12.4"
  }
 },
 "nbformat": 4,
 "nbformat_minor": 5
}
