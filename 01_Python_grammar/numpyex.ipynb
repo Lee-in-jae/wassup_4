{
 "cells": [
  {
   "cell_type": "code",
   "execution_count": null,
   "id": "60d4345a-4fcc-4408-9392-2e359afaaa27",
   "metadata": {},
   "outputs": [],
   "source": [
    "#Numpy\n",
    "#numerical pyrhon\n",
    "#고성능 수치계산을위한 라이브러리\n",
    "#벡터나(한줄로 나열된) 행렬 연산에 편리한 기능 제공\n",
    "#모든 원소는 같은 자료형만 가능\n",
    "#대용량 데이터 관리하기 편함"
   ]
  },
  {
   "cell_type": "code",
   "execution_count": 12,
   "id": "01518948-7759-40f1-9169-0a06c0502b3a",
   "metadata": {},
   "outputs": [
    {
     "name": "stdout",
     "output_type": "stream",
     "text": [
      "[ 0  1  2  3  4  5  6  7  8  9 10 11 12 13 14]\n",
      "[[ 0  1  2  3  4]\n",
      " [ 5  6  7  8  9]\n",
      " [10 11 12 13 14]]\n",
      "(3, 5)\n",
      "int32\n",
      "2\n",
      "2\n"
     ]
    }
   ],
   "source": [
    "import numpy as np #np는 라이브러리:함수들을 다른사람들이 사용할 수 있도록 책으로 만들어 놓아 우리가 언제든지 사용할 수 잇음\n",
    "a = np.arange(15)\n",
    "print(a)\n",
    "a = a.reshape(3,5)       #reshape는 차원, 차원을 바꾸겠다. 3행 5열 # order = C 행부터 할당, F열부터 할당\n",
    "print(a)            #1차원에서 2차원으로 바꿈\n",
    "print(a.shape)\n",
    "print(a.dtype)\n",
    "print(a.ndim)     #차원이 몇 차원인지 알려줌\n",
    "print(a.ndim)  #갯수를 알려줌"
   ]
  },
  {
   "cell_type": "code",
   "execution_count": 92,
   "id": "f94c3f54-c689-4195-af10-1de3ac6d3ad9",
   "metadata": {},
   "outputs": [
    {
     "name": "stdout",
     "output_type": "stream",
     "text": [
      "<class 'list'>\n",
      "<class 'numpy.ndarray'>\n",
      "[-1  2  5 -3  0  7 -9  7 -4 -7]\n",
      "<class 'tuple'>\n",
      "<class 'numpy.ndarray'>\n",
      "<class 'set'>\n",
      "<class 'numpy.ndarray'>\n"
     ]
    }
   ],
   "source": [
    "b = [-1, 2, 5, -3, 0, 7, -9, 7, -4, -7] #list\n",
    "print(type(b))\n",
    "b = np.array(b)\n",
    "print(type(b))\n",
    "print(b)\n",
    "\n",
    "t = (10, 20, 30, 40, 50)\n",
    "print(type(t))\n",
    "t = np.array(t)\n",
    "print(type(t))\n",
    "\n",
    "s = {10, 20, 30, 40, 50}        #셋은 중복이 안됨    #딕셔너리는 넘페이 안됨. 판다스로 가능\n",
    "print(type(s))\n",
    "s =  np.array(s)\n",
    "print(type(s))\n",
    "\n"
   ]
  },
  {
   "cell_type": "code",
   "execution_count": 73,
   "id": "27fe3f30-86f9-4b3b-8a3e-ea618e27d7f4",
   "metadata": {},
   "outputs": [
    {
     "name": "stdout",
     "output_type": "stream",
     "text": [
      "(10,)\n",
      "1\n",
      "int32\n",
      "[-1  2  5 -3  0  7 -9  7 -4 -7]\n",
      "[1 2 5 3 0 7 9 7 4 7]\n",
      "[1.         1.41421356 2.23606798 1.73205081 0.         2.64575131\n",
      " 3.         2.64575131 2.         2.64575131]\n",
      "[ 1  4 25  9  0 49 81 49 16 49]\n",
      "[False False False False False False False False False False]\n",
      "-3\n",
      "-0.3\n",
      "7\n",
      "-9\n",
      "5\n",
      "6\n",
      "[-9 -7 -4 -3 -1  0  2  5  7  7]\n",
      "[ 7  7  5  2  0 -1 -3 -4 -7 -9]\n",
      "-0.5\n"
     ]
    }
   ],
   "source": [
    "print(b.shape)\n",
    "print(b. ndim)\n",
    "print(b.dtype)\n",
    "print(b)\n",
    "\n",
    "print(np.abs(b))   #절대값 구하는 함수\n",
    "#print(np.sqrt(b))   #제곱근을 구하는 함수\n",
    "print(np.sqrt(np.abs(b)))\n",
    "print(np.square(b))  #제곱\n",
    "print(np.isnan(b))    #nan이냐 아니냐\n",
    "print(np.sum(b))     #합계\n",
    "print(np.mean(b))    #평균\n",
    "print(np.max(b))     #최대값\n",
    "print(np.min(b))     #최소값\n",
    "print(np.argmax(b))  #최대값 인덱스\n",
    "print(np.argmin(b))  #최소값 인덱스\n",
    "print(np.sort(b))    #정렬 오름차순\n",
    "print(np.sort(b)[::-1]) #정렬 내림차순\n",
    "print(np.median(b))  #중간값, "
   ]
  },
  {
   "cell_type": "code",
   "execution_count": null,
   "id": "007b2461-b985-4b3d-be98-bd23a1f6283d",
   "metadata": {},
   "outputs": [],
   "source": [
    "#결측값\n",
    "# 1, 1, 2, 2, 2, 3, 3, 3, 4, 6, 7, 100 평균을 구하면 맨 뒤 100땜에 평균이 확올라감. \n",
    "# 이때 중간값을 구함. 구하기 위해선 정렬이 돼 있어야함.\n",
    "#짝수일ㄷ땐 중앙값이 2개라 두개를 더하고 이를 반으로 나눠서 구함."
   ]
  },
  {
   "cell_type": "code",
   "execution_count": 28,
   "id": "4ce55af6-b8c1-4e78-a03b-4c164e5f7341",
   "metadata": {},
   "outputs": [
    {
     "name": "stdout",
     "output_type": "stream",
     "text": [
      "<class 'list'>\n",
      "<class 'numpy.ndarray'>\n",
      "[[1 2 3]\n",
      " [4 5 6]]\n",
      "21\n",
      "[5 7 9]\n",
      "[ 6 15]\n",
      "<class 'numpy.ndarray'>\n",
      "<class 'numpy.ndarray'>\n",
      "[[1 2 3]\n",
      " [4 5 6]]\n",
      "21\n",
      "[5 7 9]\n",
      "[ 6 15]\n",
      "[2. 5.]\n",
      "[3 6]\n",
      "1.707825127659933\n",
      "2.9166666666666665\n"
     ]
    }
   ],
   "source": [
    "c = [[1, 2, 3], [4, 5, 6]]\n",
    "print(type(c))\n",
    "c = np.array(c)\n",
    "print(type(c))\n",
    "print(c)\n",
    "print(np.sum(c))\n",
    "print(np.sum(c, axis=0)) #axis =0는 행끼리 더함\n",
    "print(np.sum(c, axis=1)) #axis = 1은 열끼리 더한것 = [[1, 2, 3], [4, 5, 6]]\n",
    "print(type(c))\n",
    "c = np.array(c)\n",
    "print(type(c))\n",
    "print(c)\n",
    "print(np.sum(c))\n",
    "print(np.sum(c, axis=0)) #axis =0는 행끼리 더함\n",
    "print(np.sum(c, axis=1)) #axis = 1은 열끼리 더한것\n",
    "print(np.median(c, axis=1))\n",
    "print(np.max(c, axis=1))\n",
    "\n",
    "print(np.std(c))  #표준편차\n",
    "print(np.var(c))  #분산"
   ]
  },
  {
   "cell_type": "code",
   "execution_count": 42,
   "id": "748fcc8c-b9b0-4488-80ac-6671f5de6b8a",
   "metadata": {},
   "outputs": [
    {
     "name": "stdout",
     "output_type": "stream",
     "text": [
      "[12 22 32 42 52]\n",
      "[11 22 33 44 55]\n",
      "[ 1  4  9 16 25]\n",
      "[ -5.44021111  18.25890501 -29.64094872  29.80452642 -13.11874269]\n",
      "[False False False  True  True]\n",
      "[ 9 18 27 36 45]\n",
      "[ 10  40  90 160 250]\n",
      "[10. 10. 10. 10. 10.]\n"
     ]
    }
   ],
   "source": [
    "#element wise\n",
    "d = [10,20,30,40,50]\n",
    "# print(d + 2)  #error\n",
    "d = np.array(d)\n",
    "print(d + 2)\n",
    "e = np.array([1,2, 3,4, 5]) #개수만 맞춰 놓으면 하나하나씩 계산 가능\n",
    "print(d + e)\n",
    "print(e ** 2)  #제곱\n",
    "print(d * np.sin(d)) #5개 싸인 구하기\n",
    "print(d > 35)  #비교 연산자 논리값으로 나오기에 주의\n",
    "print(np.subtract(d, e)) #빼기\n",
    "print(np.multiply(d, e)) #곱하기\n",
    "print(np.divide(d, e))  #나누기"
   ]
  },
  {
   "cell_type": "code",
   "execution_count": 56,
   "id": "e19b721a-9ad4-4d23-aeb8-2f79abb9a4ab",
   "metadata": {},
   "outputs": [
    {
     "name": "stdout",
     "output_type": "stream",
     "text": [
      "[[0 0]\n",
      " [3 4]]\n",
      "[[3 4]\n",
      " [5 4]]\n",
      "[[3 4]\n",
      " [5 4]]\n"
     ]
    }
   ],
   "source": [
    "f = np.array([[0, 1], [1, 1]])\n",
    "g = np.array([[2, 0], [3, 4]])\n",
    "print(f*g)\n",
    "print(f @ g) #행렬곱\n",
    "print(np.dot(f, g)) #행렬곱,함수도 제공함을 보여줌"
   ]
  },
  {
   "cell_type": "code",
   "execution_count": 80,
   "id": "fbca33c8-edbc-4ef0-a5f2-37f107603415",
   "metadata": {},
   "outputs": [
    {
     "name": "stdout",
     "output_type": "stream",
     "text": [
      "[0. 0. 0. 0. 0. 0. 0. 0. 0. 0.]\n",
      "[[0. 0. 0. 0. 0.]\n",
      " [0. 0. 0. 0. 0.]\n",
      " [0. 0. 0. 0. 0.]\n",
      " [0. 0. 0. 0. 0.]\n",
      " [0. 0. 0. 0. 0.]]\n",
      "[1. 1. 1. 1. 1. 1. 1. 1. 1. 1.]\n",
      "<class 'list'>\n",
      "[43, 87, 97, 23, 87, 27, 30, 79, 28, 62]\n",
      "11\n",
      "[[0.95154581 0.59174977]\n",
      " [0.76213342 0.9138196 ]\n",
      " [0.73259387 0.96125049]\n",
      " [0.96682212 0.2528589 ]\n",
      " [0.36555058 0.87296932]]\n"
     ]
    }
   ],
   "source": [
    "h = np.zeros(10) #방이 10개짜리 열 만들어줌\n",
    "print(h)\n",
    "i = np.zeros((5, 5)) #열이 5, 행이5개\n",
    "print (i)\n",
    "j = np.ones(10) #곱셈을 할때 자주 사용\n",
    "print(j)\n",
    "# k = np.random.random(10)\n",
    "# print(type(k))\n",
    "# print(k)\n",
    "k = np.random.random(10) * 100\n",
    "k =[ int(i) for i in k] #반복문을 하나식 꺼내서 반복문을 돌리는 방법, 리스트를 만드는 방법. 다시 np.array하면 바뀜\n",
    "print(type(k))\n",
    "print(k)\n",
    "print(np.random.randint(10, 20))\n",
    "print(np.random.rand(5, 2))"
   ]
  },
  {
   "cell_type": "code",
   "execution_count": 90,
   "id": "8ecca48f-b1d3-40e7-bed7-3b0ba13c75e6",
   "metadata": {},
   "outputs": [
    {
     "name": "stdout",
     "output_type": "stream",
     "text": [
      "[10, 11, 12, 13, 14]\n",
      "[10, 12, 14]\n",
      "[10 11 12 13 14]\n",
      "[10 12 14]\n"
     ]
    }
   ],
   "source": [
    "# 슬라이싱\n",
    "m = [i for i in range(10, 20)]\n",
    "print(m[0:5])  \n",
    "print(m[0:5:2])\n",
    "\n",
    "#ndarray\n",
    "w = np.arange(10, 20)\n",
    "print(w[0:5])\n",
    "print(w[0:5:2])"
   ]
  },
  {
   "cell_type": "code",
   "execution_count": 100,
   "id": "20fabb80-2261-410c-8346-d5bd0e6ed32d",
   "metadata": {},
   "outputs": [
    {
     "name": "stdout",
     "output_type": "stream",
     "text": [
      "[[ 1  2  3  4  5]\n",
      " [ 6  7  8  9 10]\n",
      " [11 12 13 14 15]]\n",
      "13\n",
      "[[1 2]\n",
      " [6 7]]\n"
     ]
    }
   ],
   "source": [
    "# print(r[:, :])는 에러가 남\n",
    "# print(r[:2][:2])할 시 뒤에가 무조건 열이라 생각하면 안됨 print(s[:2, :2])이렇게 써야함\n",
    "s = np.arange(1, 16).reshape(3,5)\n",
    "print(s)\n",
    "print(s[2][2])\n",
    "print(s[:2, :2])"
   ]
  },
  {
   "cell_type": "code",
   "execution_count": 102,
   "id": "3b6ea4be-52e4-4cf4-9398-4d98b8137696",
   "metadata": {},
   "outputs": [
    {
     "name": "stdout",
     "output_type": "stream",
     "text": [
      "[[ 1  2  3  4  5]\n",
      " [ 6  7  8  9 10]\n",
      " [11 12 13 14 15]]\n",
      "[[ 1  6 11]\n",
      " [ 2  7 12]\n",
      " [ 3  8 13]\n",
      " [ 4  9 14]\n",
      " [ 5 10 15]]\n"
     ]
    }
   ],
   "source": [
    "#전치 행렬\n",
    "print(s)  #3행 5열\n",
    "print(s.T)  #5행 3열, 행과 열만 바귀는게 아니라 구조도 바뀜"
   ]
  },
  {
   "cell_type": "code",
   "execution_count": null,
   "id": "b2a39e22-3919-443a-a256-caa87ec05cfb",
   "metadata": {},
   "outputs": [],
   "source": [
    "#배열 여러개를 합치고 쪼개기"
   ]
  },
  {
   "cell_type": "code",
   "execution_count": 106,
   "id": "b36f733f-24be-4404-9ca0-c6f9b9dc159a",
   "metadata": {},
   "outputs": [
    {
     "name": "stdout",
     "output_type": "stream",
     "text": [
      "(1, 4)\n",
      "(2, 5)\n",
      "(3, 6)\n",
      "[(1, 4), (2, 5), (3, 6)]\n"
     ]
    }
   ],
   "source": [
    "a = [1, 2, 3]\n",
    "b = [4, 5, 6]\n",
    "for ab in zip(a, b):  #리스트를 합칠때 zip함수 사용, 합친 값을 튜플로 돌림\n",
    "    print(ab)\n",
    "print(list(zip(a, b)))\n",
    "print( a + b) #리스트는 걍 합치기 써도 됨\n",
    "#단 print(a + 2)는 에러람. 리스트는 더하기안됨"
   ]
  },
  {
   "cell_type": "code",
   "execution_count": 122,
   "id": "a190ddda-21db-4caa-a171-d01c51959184",
   "metadata": {},
   "outputs": [
    {
     "name": "stdout",
     "output_type": "stream",
     "text": [
      "[[48. 11.]\n",
      " [91.  9.]]\n",
      "[[98. 81.]\n",
      " [59. 54.]]\n",
      "[[98. 81.]\n",
      " [59. 54.]]\n",
      "[[48. 11. 98. 81.]\n",
      " [91.  9. 59. 54.]]\n",
      "[[48. 11.]\n",
      " [91.  9.]\n",
      " [98. 81.]\n",
      " [59. 54.]]\n",
      "[[146.  92.]\n",
      " [150.  63.]]\n"
     ]
    }
   ],
   "source": [
    "# c = np.random.rand(2, 2) \n",
    "# print(c)\n",
    "c = np.floor(np.random.rand(2, 2) * 100) \n",
    "print(c)\n",
    "d = np.floor(np.random.rand(2, 2) * 100) \n",
    "print(d)\n",
    "#stack 합치는 함수\n",
    "print(d)\n",
    "print(np.hstack((c,d))) #가로로 합침\n",
    "print(np.vstack((c,d))) #세로로 합침\n",
    "print(c + d)   #앤 그냥 연산해버림 그래서 stack써야함\n",
    "#앤 print(a + 2) 가능"
   ]
  },
  {
   "cell_type": "code",
   "execution_count": 128,
   "id": "a3cad1f0-b15c-404e-b84e-ea40d977b66a",
   "metadata": {},
   "outputs": [
    {
     "name": "stdout",
     "output_type": "stream",
     "text": [
      "[[22. 31. 96. 84. 42. 10. 30. 49. 34. 55. 78. 64.  0. 48. 70.]\n",
      " [43. 66.  4. 91. 86. 43. 13. 45. 21. 84.  7. 94. 36. 55. 68.]]\n",
      "[array([[22., 31., 96., 84., 42.],\n",
      "       [43., 66.,  4., 91., 86.]]), array([[10., 30., 49., 34., 55.],\n",
      "       [43., 13., 45., 21., 84.]]), array([[78., 64.,  0., 48., 70.],\n",
      "       [ 7., 94., 36., 55., 68.]])]\n"
     ]
    }
   ],
   "source": [
    "e = np.floor(np.random.rand(2, 15) * 100)\n",
    "print(e)\n",
    "print(np.hsplit(e, 3)) #3개로 자름\n",
    "for arr in np.hsplit(e, 3):\n",
    "    print(arr)\n",
    "for arr in np.hsplit(e, (3, 7)): #자를 위치[0:3] [3:7]\n",
    "    print(arr)"
   ]
  },
  {
   "cell_type": "code",
   "execution_count": 140,
   "id": "b62b6d7b-2c85-4e6c-b6bd-f3428d76111b",
   "metadata": {},
   "outputs": [
    {
     "name": "stdout",
     "output_type": "stream",
     "text": [
      "[1, 2, 'C', 'D', 5]\n",
      "['1' '2' 'C' 'D' '5']\n",
      "['작다' '작다' '크다' '크다' '크다']\n",
      "['참' '참' '거짓' '거짓' '참']\n"
     ]
    }
   ],
   "source": [
    "f = np.array([1, 2, 3, 4, 5])\n",
    "g = np.array(['A','B', 'C', 'D', 'E'])\n",
    "h = np.array([True, True, False, False, True])\n",
    "# 삼항연산        조건? 참 : 거짓\n",
    "#                  참 if조건 else거짓\n",
    "##where절\n",
    "print([x if z else y for x, y, z in zip(f, g, h)])\n",
    "print(np.where(h, f, g))\n",
    "print(np.where(f < 3, '작다', '크다'))\n",
    "print(np.where(h, '참', '거짓'))"
   ]
  },
  {
   "cell_type": "code",
   "execution_count": null,
   "id": "6195b5a4-c664-4f7a-b40e-751f00f5e20a",
   "metadata": {},
   "outputs": [],
   "source": [
    "i = np.arange(10)\n",
    "#np.save(파일명, i)\n",
    "#ii - np.load('i.py파일명임')\n",
    "# print(type(ii))\n",
    "\n",
    "# j = np.arange(10)\n",
    "# l = np.arange(10)\n",
    "# np.savez('jk.npz, x=j, y=k')\n",
    "# jk = np.load('jk.npz')\n",
    "# print(type(jk))\n",
    "# print(jk['x'])\n",
    "# print(jk['y'])"
   ]
  },
  {
   "cell_type": "code",
   "execution_count": null,
   "id": "0c48d616-e2cd-46c2-b799-b3467bef5e12",
   "metadata": {},
   "outputs": [],
   "source": []
  }
 ],
 "metadata": {
  "kernelspec": {
   "display_name": "Python 3 (ipykernel)",
   "language": "python",
   "name": "python3"
  },
  "language_info": {
   "codemirror_mode": {
    "name": "ipython",
    "version": 3
   },
   "file_extension": ".py",
   "mimetype": "text/x-python",
   "name": "python",
   "nbconvert_exporter": "python",
   "pygments_lexer": "ipython3",
   "version": "3.12.4"
  }
 },
 "nbformat": 4,
 "nbformat_minor": 5
}
