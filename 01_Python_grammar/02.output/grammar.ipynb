{
 "cells": [
  {
   "cell_type": "markdown",
   "id": "ffcaeee9-2913-42c6-883d-df3ef7eaadd6",
   "metadata": {},
   "source": [
    "### 함수와 입출력"
   ]
  },
  {
   "cell_type": "code",
   "execution_count": null,
   "id": "b0fa782f-ad89-49a0-a16f-8cc261b88311",
   "metadata": {},
   "outputs": [],
   "source": [
    "#함수"
   ]
  },
  {
   "cell_type": "code",
   "execution_count": null,
   "id": "1f5de830-4667-4629-9519-7ae38a61e73b",
   "metadata": {},
   "outputs": [],
   "source": [
    "def add(a, b):\n",
    "    return a + b"
   ]
  },
  {
   "cell_type": "code",
   "execution_count": null,
   "id": "cc82908c-9c6c-408c-9bf0-b2bdbf3442d9",
   "metadata": {},
   "outputs": [],
   "source": [
    "a = 3\n",
    "b = 4\n",
    "c = add(a, b)\n",
    "print(c)"
   ]
  },
  {
   "cell_type": "code",
   "execution_count": null,
   "id": "0dee0d61-daf6-4455-8d52-2a3d9029c33e",
   "metadata": {},
   "outputs": [],
   "source": [
    "## 매개변수와 인수"
   ]
  },
  {
   "cell_type": "code",
   "execution_count": null,
   "id": "b96b30ef-39c8-42b7-ba74-7436f1821f3c",
   "metadata": {},
   "outputs": [],
   "source": [
    "def add1(a, b):\n",
    "    return a + b\n",
    "print(add(3,4))  #인수"
   ]
  },
  {
   "cell_type": "code",
   "execution_count": null,
   "id": "c54c9eb2-2c41-4d81-a25e-56f05d3d7416",
   "metadata": {},
   "outputs": [],
   "source": [
    "## 입력깂과 리턴값에 따른 함수의 형태"
   ]
  },
  {
   "cell_type": "code",
   "execution_count": 7,
   "id": "180908be-8bf9-4902-8d70-39158cd32e95",
   "metadata": {},
   "outputs": [],
   "source": [
    "def add1(a, b):\n",
    "    result = a + b\n",
    "    return result"
   ]
  },
  {
   "cell_type": "code",
   "execution_count": 9,
   "id": "1f16e233-eaa1-4f46-9044-dc4cd37b6ab7",
   "metadata": {},
   "outputs": [
    {
     "data": {
      "text/plain": [
       "7"
      ]
     },
     "execution_count": 9,
     "metadata": {},
     "output_type": "execute_result"
    }
   ],
   "source": [
    "add1(3, 4)"
   ]
  },
  {
   "cell_type": "code",
   "execution_count": null,
   "id": "476be64e-1aa6-4ca0-a9cb-7dc3c776535b",
   "metadata": {},
   "outputs": [],
   "source": [
    "#입력값이 없는 함수"
   ]
  },
  {
   "cell_type": "code",
   "execution_count": 25,
   "id": "2731fab6-367e-4a97-8df1-9e448174ae63",
   "metadata": {},
   "outputs": [],
   "source": [
    "def say():\n",
    "    return 'Hi'"
   ]
  },
  {
   "cell_type": "code",
   "execution_count": 27,
   "id": "e8a83318-87f7-4b45-bbc7-d1c8431e954e",
   "metadata": {},
   "outputs": [
    {
     "data": {
      "text/plain": [
       "'Hi'"
      ]
     },
     "execution_count": 27,
     "metadata": {},
     "output_type": "execute_result"
    }
   ],
   "source": [
    "say()"
   ]
  },
  {
   "cell_type": "code",
   "execution_count": 17,
   "id": "61c49ef0-c535-419d-95ad-534d42dde67a",
   "metadata": {},
   "outputs": [],
   "source": [
    "#리턴값이 없는 함수\n",
    "def add2(a, b):\n",
    "    print(\"%d, %d의 합은 %d입니다.\" %(a,b, a+b))"
   ]
  },
  {
   "cell_type": "code",
   "execution_count": 19,
   "id": "4c1509a9-5e3f-46c2-8a87-f3cd7b954f45",
   "metadata": {},
   "outputs": [
    {
     "name": "stdout",
     "output_type": "stream",
     "text": [
      "3, 4의 합은 7입니다.\n"
     ]
    }
   ],
   "source": [
    "add2(3, 4)"
   ]
  },
  {
   "cell_type": "code",
   "execution_count": 21,
   "id": "02c61f33-49f0-4a8f-b88c-65baaf79c9d9",
   "metadata": {},
   "outputs": [
    {
     "name": "stdout",
     "output_type": "stream",
     "text": [
      "3, 4의 합은 7입니다.\n"
     ]
    }
   ],
   "source": [
    "c = add2(3, 4)"
   ]
  },
  {
   "cell_type": "code",
   "execution_count": 23,
   "id": "56c355b0-6e59-489c-a219-a380355446d5",
   "metadata": {},
   "outputs": [
    {
     "name": "stdout",
     "output_type": "stream",
     "text": [
      "None\n"
     ]
    }
   ],
   "source": [
    "print(c)"
   ]
  },
  {
   "cell_type": "code",
   "execution_count": 29,
   "id": "eebb2298-a09a-41d0-9372-5787ecd1d4e0",
   "metadata": {},
   "outputs": [],
   "source": [
    "# 입력값도, 리턴값도 없는 함수\n",
    "def say2():\n",
    "    print('Hi')"
   ]
  },
  {
   "cell_type": "code",
   "execution_count": 31,
   "id": "9af43efc-67ef-4e55-aa5f-71ca7ee78f7e",
   "metadata": {},
   "outputs": [
    {
     "name": "stdout",
     "output_type": "stream",
     "text": [
      "Hi\n"
     ]
    }
   ],
   "source": [
    "say2()"
   ]
  },
  {
   "cell_type": "code",
   "execution_count": null,
   "id": "0eccaf54-0aac-4658-b5ca-056254c94423",
   "metadata": {},
   "outputs": [],
   "source": [
    "## 매개변수를 지정해 호출하기"
   ]
  },
  {
   "cell_type": "code",
   "execution_count": 35,
   "id": "625fa179-3126-4f96-a9d9-8c4af35fb23e",
   "metadata": {},
   "outputs": [],
   "source": [
    "def sub(a,b):\n",
    "    return a-b"
   ]
  },
  {
   "cell_type": "code",
   "execution_count": 37,
   "id": "5cb887be-12ae-447a-ba13-ea7bdc404cf4",
   "metadata": {},
   "outputs": [
    {
     "name": "stdout",
     "output_type": "stream",
     "text": [
      "4\n"
     ]
    }
   ],
   "source": [
    "result = sub(a=7, b=3)\n",
    "print(result)"
   ]
  },
  {
   "cell_type": "code",
   "execution_count": null,
   "id": "d17f70b5-ecf4-43d2-ae3d-a65bf3f57bd6",
   "metadata": {},
   "outputs": [],
   "source": [
    "##입력값이 몇 개가 될지 모를때"
   ]
  },
  {
   "cell_type": "code",
   "execution_count": 39,
   "id": "724971df-749f-43e8-a8b3-fdb50dab21db",
   "metadata": {},
   "outputs": [],
   "source": [
    "#사용자의 입력이 몇개든 전부다 누적해서 더해주는 함수\n",
    "def add_many(*args):\n",
    "    result = 0\n",
    "    for i in args:\n",
    "        result = result+i\n",
    "    return result"
   ]
  },
  {
   "cell_type": "code",
   "execution_count": 43,
   "id": "3e11f2b9-2998-416f-847e-79da810c8a87",
   "metadata": {},
   "outputs": [
    {
     "data": {
      "text/plain": [
       "36"
      ]
     },
     "execution_count": 43,
     "metadata": {},
     "output_type": "execute_result"
    }
   ],
   "source": [
    "add_many(1, 2, 3, 4, 5, 6, 7, 8)"
   ]
  },
  {
   "cell_type": "code",
   "execution_count": null,
   "id": "0754b342-5e57-44a8-858a-054ee2fb5e67",
   "metadata": {},
   "outputs": [],
   "source": [
    "#quiz\n",
    "#사용자에게 다수의입력을 받아서 옵션에 따라서 누적곱 또는 누적합을 출력하는 함수를 만들어라"
   ]
  },
  {
   "cell_type": "code",
   "execution_count": 49,
   "id": "17ff1072-30a3-4abc-8e17-9ecf2d3b4233",
   "metadata": {},
   "outputs": [],
   "source": [
    "def add_mul(option, *args):\n",
    "    if option == 'mul':\n",
    "        data = 1\n",
    "        for i in args:\n",
    "            data = data * i\n",
    "        return data\n",
    "    if option == 'sum':\n",
    "        data = 0\n",
    "        for i in args:\n",
    "            data = data + i\n",
    "        return data"
   ]
  },
  {
   "cell_type": "code",
   "execution_count": 51,
   "id": "9393149c-21d4-4f8b-878c-d57225437619",
   "metadata": {},
   "outputs": [
    {
     "data": {
      "text/plain": [
       "120"
      ]
     },
     "execution_count": 51,
     "metadata": {},
     "output_type": "execute_result"
    }
   ],
   "source": [
    "add_mul('mul', 1, 2, 3, 4, 5)"
   ]
  },
  {
   "cell_type": "code",
   "execution_count": 53,
   "id": "c0988a63-1a31-4593-be7b-50df009b7bb5",
   "metadata": {},
   "outputs": [
    {
     "data": {
      "text/plain": [
       "15"
      ]
     },
     "execution_count": 53,
     "metadata": {},
     "output_type": "execute_result"
    }
   ],
   "source": [
    "add_mul('sum', 1, 2, 3, 4, 5)"
   ]
  },
  {
   "cell_type": "code",
   "execution_count": null,
   "id": "0243dccd-5b8b-4f7b-ae83-28d3eb30aa04",
   "metadata": {},
   "outputs": [],
   "source": [
    "## 키워드 매개변수, kwargs"
   ]
  },
  {
   "cell_type": "code",
   "execution_count": 55,
   "id": "af07132f-5895-4991-ac52-96a13b1f00cd",
   "metadata": {},
   "outputs": [],
   "source": [
    "def print_kwargs(**kwargs):\n",
    "    print(kwargs)"
   ]
  },
  {
   "cell_type": "code",
   "execution_count": 57,
   "id": "638ee9bf-8db1-4e60-af7b-237fdeeea675",
   "metadata": {},
   "outputs": [
    {
     "name": "stdout",
     "output_type": "stream",
     "text": [
      "{'a': 1}\n"
     ]
    }
   ],
   "source": [
    "print_kwargs(a=1)"
   ]
  },
  {
   "cell_type": "code",
   "execution_count": null,
   "id": "a4d653d0-ade9-40d4-a399-56c4abe64a23",
   "metadata": {},
   "outputs": [],
   "source": [
    "##함수의 리턴값은 언제나 하나이다."
   ]
  },
  {
   "cell_type": "code",
   "execution_count": 59,
   "id": "9367a91c-dc44-41f8-9dd3-e50253903ae2",
   "metadata": {},
   "outputs": [],
   "source": [
    "def add_and_mul(a,b): \n",
    "    return a+b, a*b"
   ]
  },
  {
   "cell_type": "code",
   "execution_count": 61,
   "id": "544022ca-46f8-4efa-9c00-b7db91dec021",
   "metadata": {},
   "outputs": [
    {
     "data": {
      "text/plain": [
       "(7, 12)"
      ]
     },
     "execution_count": 61,
     "metadata": {},
     "output_type": "execute_result"
    }
   ],
   "source": [
    "add_and_mul(3, 4)"
   ]
  },
  {
   "cell_type": "code",
   "execution_count": 63,
   "id": "c7c07bd8-28ae-4003-83e2-ab6f4b76fc2c",
   "metadata": {},
   "outputs": [
    {
     "data": {
      "text/plain": [
       "7"
      ]
     },
     "execution_count": 63,
     "metadata": {},
     "output_type": "execute_result"
    }
   ],
   "source": [
    "result1, result2 = add_and_mul(3, 4)\n",
    "result1"
   ]
  },
  {
   "cell_type": "code",
   "execution_count": 65,
   "id": "a61e6cdd-1a91-41c1-b3ce-57af5165bc61",
   "metadata": {},
   "outputs": [
    {
     "data": {
      "text/plain": [
       "12"
      ]
     },
     "execution_count": 65,
     "metadata": {},
     "output_type": "execute_result"
    }
   ],
   "source": [
    "result2"
   ]
  },
  {
   "cell_type": "code",
   "execution_count": 73,
   "id": "58329c67-afe8-4449-82a9-2baeade593b7",
   "metadata": {},
   "outputs": [],
   "source": [
    "def add_and_mul(a,b): \n",
    "    return a+b \n",
    "    return a*b "
   ]
  },
  {
   "cell_type": "code",
   "execution_count": 75,
   "id": "93ecbb15-19b1-415c-8c12-0232f1744bc8",
   "metadata": {},
   "outputs": [
    {
     "name": "stdout",
     "output_type": "stream",
     "text": [
      "5\n"
     ]
    }
   ],
   "source": [
    "result = add_and_mul(2, 3)\n",
    "print(result)"
   ]
  },
  {
   "cell_type": "code",
   "execution_count": null,
   "id": "f69f2d5c-d83c-4b6f-bf5b-41cd098432b3",
   "metadata": {},
   "outputs": [],
   "source": [
    "##return으로 함수 이탈하기"
   ]
  },
  {
   "cell_type": "code",
   "execution_count": 77,
   "id": "234773ce-8ee7-4f7e-a0bf-b51446f9b725",
   "metadata": {},
   "outputs": [],
   "source": [
    "def say_nick(nick): \n",
    "    if nick == \"바보\": \n",
    "        return '옥상으로 따라와'\n",
    "    print(f\"나의 별명은 {nick} 입니다.\")"
   ]
  },
  {
   "cell_type": "code",
   "execution_count": 79,
   "id": "cbad49c8-485c-4994-9020-82c99d5dc406",
   "metadata": {},
   "outputs": [
    {
     "name": "stdout",
     "output_type": "stream",
     "text": [
      "나의 별명은 야호 입니다.\n"
     ]
    }
   ],
   "source": [
    "say_nick('야호')"
   ]
  },
  {
   "cell_type": "code",
   "execution_count": 81,
   "id": "f664cdf8-fa32-4195-bdf4-a74025430686",
   "metadata": {},
   "outputs": [
    {
     "data": {
      "text/plain": [
       "'옥상으로 따라와'"
      ]
     },
     "execution_count": 81,
     "metadata": {},
     "output_type": "execute_result"
    }
   ],
   "source": [
    "say_nick('바보')"
   ]
  },
  {
   "cell_type": "code",
   "execution_count": null,
   "id": "06e57836-f3df-4915-83df-491649082ea7",
   "metadata": {},
   "outputs": [],
   "source": [
    "## 매개변수에 초깃값 미리설정하기"
   ]
  },
  {
   "cell_type": "code",
   "execution_count": 85,
   "id": "d7426989-054e-49b8-862d-e0df1d9a167b",
   "metadata": {},
   "outputs": [],
   "source": [
    "def say_myself(name, age, man=True): \n",
    "    print(f'나의 이름은 {name}입니다.') \n",
    "    print(f'나이는 {age}살입니다.') \n",
    "    if man: \n",
    "        print('삐빅남자입니다.')\n",
    "    else: \n",
    "        print(\"삐빅, 여자입니다.\")"
   ]
  },
  {
   "cell_type": "code",
   "execution_count": 87,
   "id": "cbb70ed2-28e2-499d-8ba0-ff0c18717700",
   "metadata": {},
   "outputs": [
    {
     "name": "stdout",
     "output_type": "stream",
     "text": [
      "나의 이름은 이인재입니다.\n",
      "나이는 20살입니다.\n",
      "삐빅남자입니다.\n"
     ]
    }
   ],
   "source": [
    "say_myself('이인재', 20)"
   ]
  },
  {
   "cell_type": "code",
   "execution_count": null,
   "id": "8d24af6a-39f8-4d06-965b-7e7100bb0d32",
   "metadata": {},
   "outputs": [],
   "source": [
    "##힘수안에서 선언한 변수의 효력 범위"
   ]
  },
  {
   "cell_type": "code",
   "execution_count": 89,
   "id": "0ec5df68-a92a-4f2f-b780-67df0ae67dc0",
   "metadata": {},
   "outputs": [],
   "source": [
    "a = 1\n",
    "def vartest(a):\n",
    "    a = a + 1"
   ]
  },
  {
   "cell_type": "code",
   "execution_count": 91,
   "id": "9ea32a0a-48c7-4d59-b70e-ea04b2201ec3",
   "metadata": {},
   "outputs": [
    {
     "data": {
      "text/plain": [
       "1"
      ]
     },
     "execution_count": 91,
     "metadata": {},
     "output_type": "execute_result"
    }
   ],
   "source": [
    "a"
   ]
  },
  {
   "cell_type": "code",
   "execution_count": 93,
   "id": "ee839423-9a38-48c7-8a4f-8a574201b80c",
   "metadata": {},
   "outputs": [],
   "source": [
    "vartest(a)"
   ]
  },
  {
   "cell_type": "code",
   "execution_count": 95,
   "id": "0c8a612c-d927-4b29-b942-bc12bc9ec93f",
   "metadata": {},
   "outputs": [
    {
     "name": "stdout",
     "output_type": "stream",
     "text": [
      "1\n"
     ]
    }
   ],
   "source": [
    "print(a)"
   ]
  },
  {
   "cell_type": "code",
   "execution_count": null,
   "id": "ad91b375-219d-4eb5-b8cd-b3a4105424cc",
   "metadata": {},
   "outputs": [],
   "source": [
    "## 함수 안에서 함수 밖의 변수를 변경하는 방법"
   ]
  },
  {
   "cell_type": "code",
   "execution_count": 97,
   "id": "b4b77efb-9708-4066-a693-c76f0c649ecb",
   "metadata": {},
   "outputs": [
    {
     "name": "stdout",
     "output_type": "stream",
     "text": [
      "2\n"
     ]
    }
   ],
   "source": [
    "#1. return 사용하기\n",
    "a = 1 \n",
    "def vartest(a): \n",
    "    a = a +1 \n",
    "    return a\n",
    "\n",
    "a = vartest(a) \n",
    "print(a)"
   ]
  },
  {
   "cell_type": "code",
   "execution_count": 99,
   "id": "6f662c9a-cd58-4c81-8296-c64933209b15",
   "metadata": {},
   "outputs": [
    {
     "name": "stdout",
     "output_type": "stream",
     "text": [
      "2\n"
     ]
    }
   ],
   "source": [
    "# 2. global 명령어 사용하기\n",
    "a = 1\n",
    "def vartest():\n",
    "    global a \n",
    "    a = a+1\n",
    "vartest()\n",
    "print(a)"
   ]
  },
  {
   "cell_type": "code",
   "execution_count": null,
   "id": "5ed1a40d-05ee-406e-b536-6383b5056e2d",
   "metadata": {},
   "outputs": [],
   "source": [
    "## lamda 예약어(일회성함수)"
   ]
  },
  {
   "cell_type": "code",
   "execution_count": 101,
   "id": "9ebc6b1d-eb18-43a8-af90-62c6cd29b1cb",
   "metadata": {},
   "outputs": [
    {
     "name": "stdout",
     "output_type": "stream",
     "text": [
      "7\n"
     ]
    }
   ],
   "source": [
    "def add(a, b):\n",
    "    return a+b\n",
    "result = add(3, 4)\n",
    "print(result)"
   ]
  },
  {
   "cell_type": "code",
   "execution_count": 103,
   "id": "0371e149-9c65-4aef-b5c0-96081d4aab7f",
   "metadata": {},
   "outputs": [
    {
     "data": {
      "text/plain": [
       "7"
      ]
     },
     "execution_count": 103,
     "metadata": {},
     "output_type": "execute_result"
    }
   ],
   "source": [
    "add = lambda a, b: a+b\n",
    "add(3, 4)"
   ]
  },
  {
   "cell_type": "code",
   "execution_count": null,
   "id": "78062ba3-6942-4331-b533-a0cc69402cd9",
   "metadata": {},
   "outputs": [],
   "source": [
    "## 사용자 입출력"
   ]
  },
  {
   "cell_type": "code",
   "execution_count": null,
   "id": "0098af1a-2aa6-463c-97f0-5ffa2d80fa0b",
   "metadata": {},
   "outputs": [],
   "source": [
    "## 파일 읽고 쓰기"
   ]
  },
  {
   "cell_type": "code",
   "execution_count": null,
   "id": "46758cac-7877-4a7b-9711-53a7fbdcc69e",
   "metadata": {},
   "outputs": [],
   "source": []
  },
  {
   "cell_type": "code",
   "execution_count": 108,
   "id": "04f616f3-a15b-4903-8c95-f083143797a6",
   "metadata": {},
   "outputs": [],
   "source": [
    "f = open('output/test.txt', 'w')\n",
    "f.close()"
   ]
  },
  {
   "cell_type": "code",
   "execution_count": 114,
   "id": "8757bc41-47d2-4d33-9c26-b2192f85fff2",
   "metadata": {},
   "outputs": [],
   "source": [
    "f = open('output/test.txt', 'w')\n",
    "for i in range(1, 11):\n",
    "    f.write(f'{i}번째 줄입니다.\\n')\n",
    "f.close()"
   ]
  },
  {
   "cell_type": "code",
   "execution_count": 116,
   "id": "eab68a29-f8f8-47ef-87db-15d3fc5f7642",
   "metadata": {},
   "outputs": [
    {
     "name": "stdout",
     "output_type": "stream",
     "text": [
      "1번째 줄입니다.\n",
      "\n"
     ]
    }
   ],
   "source": [
    "#readline 함수 이용하기\n",
    "f = open('output/test.txt', 'r')\n",
    "line = f.readline()\n",
    "print(line)\n",
    "f.close()"
   ]
  },
  {
   "cell_type": "code",
   "execution_count": 118,
   "id": "41df6fce-8a2e-42fd-8103-77b88040a047",
   "metadata": {},
   "outputs": [
    {
     "name": "stdout",
     "output_type": "stream",
     "text": [
      "1번째 줄입니다.\n",
      "\n",
      "2번째 줄입니다.\n",
      "\n",
      "3번째 줄입니다.\n",
      "\n",
      "4번째 줄입니다.\n",
      "\n",
      "5번째 줄입니다.\n",
      "\n"
     ]
    }
   ],
   "source": [
    "f = open('output/test.txt', 'r')\n",
    "for i in range(5):\n",
    "    line = f.readline()\n",
    "    print(line)\n",
    "f.close()"
   ]
  },
  {
   "cell_type": "code",
   "execution_count": 122,
   "id": "cabc911e-feb6-4833-9f32-eb8612e28ae6",
   "metadata": {},
   "outputs": [
    {
     "name": "stdout",
     "output_type": "stream",
     "text": [
      "['1번째 줄입니다.\\n', '2번째 줄입니다.\\n', '3번째 줄입니다.\\n', '4번째 줄입니다.\\n', '5번째 줄입니다.\\n', '6번째 줄입니다.\\n', '7번째 줄입니다.\\n', '8번째 줄입니다.\\n', '9번째 줄입니다.\\n', '10번째 줄입니다.\\n']\n"
     ]
    }
   ],
   "source": [
    "#readlines 함수\n",
    "f = open('output/test.txt', 'r')\n",
    "lines = f.readlines()\n",
    "print(lines)\n"
   ]
  },
  {
   "cell_type": "code",
   "execution_count": 124,
   "id": "fe7d10f1-2640-47e8-86a4-32374e8eec75",
   "metadata": {},
   "outputs": [
    {
     "name": "stdout",
     "output_type": "stream",
     "text": [
      "1번째 줄입니다.\n",
      "\n",
      "2번째 줄입니다.\n",
      "\n",
      "3번째 줄입니다.\n",
      "\n",
      "4번째 줄입니다.\n",
      "\n",
      "5번째 줄입니다.\n",
      "\n",
      "6번째 줄입니다.\n",
      "\n",
      "7번째 줄입니다.\n",
      "\n",
      "8번째 줄입니다.\n",
      "\n",
      "9번째 줄입니다.\n",
      "\n",
      "10번째 줄입니다.\n",
      "\n"
     ]
    }
   ],
   "source": [
    "f = open('output/test.txt', 'r')\n",
    "lines = f.readlines()\n",
    "for line in lines:\n",
    "    print(line)\n",
    "f.close()"
   ]
  },
  {
   "cell_type": "markdown",
   "id": "68c2a954-cc7a-4904-966c-d46f053ecca1",
   "metadata": {},
   "source": [
    "#quiz 메모장을 읽어올때 줄바굼 1개를 없애보세요."
   ]
  },
  {
   "cell_type": "code",
   "execution_count": 126,
   "id": "42959383-eeda-4f12-821c-64a125ad87b5",
   "metadata": {},
   "outputs": [
    {
     "name": "stdout",
     "output_type": "stream",
     "text": [
      "1번째 줄입니다.\n",
      "2번째 줄입니다.\n",
      "3번째 줄입니다.\n",
      "4번째 줄입니다.\n",
      "5번째 줄입니다.\n",
      "6번째 줄입니다.\n",
      "7번째 줄입니다.\n",
      "8번째 줄입니다.\n",
      "9번째 줄입니다.\n",
      "10번째 줄입니다.\n"
     ]
    }
   ],
   "source": [
    "f = open('output/test.txt', 'r')\n",
    "lines = f.readlines()\n",
    "for line in lines:\n",
    "    line = line.strip()  # 줄 끝의 줄 바꿈 문자를 제거한다.\n",
    "    print(line)\n",
    "f.close()"
   ]
  },
  {
   "cell_type": "code",
   "execution_count": 128,
   "id": "d5086d39-480e-4d82-b2e7-0defb4bcb48d",
   "metadata": {},
   "outputs": [
    {
     "name": "stdout",
     "output_type": "stream",
     "text": [
      "<class 'str'>\n",
      "1번째 줄입니다.\n",
      "2번째 줄입니다.\n",
      "3번째 줄입니다.\n",
      "4번째 줄입니다.\n",
      "5번째 줄입니다.\n",
      "6번째 줄입니다.\n",
      "7번째 줄입니다.\n",
      "8번째 줄입니다.\n",
      "9번째 줄입니다.\n",
      "10번째 줄입니다.\n",
      "\n"
     ]
    }
   ],
   "source": [
    "# read함수 사용하기(한줄말고 통째로 가져올때 씀)\n",
    "f = open('output/test.txt', 'r')\n",
    "data = f.read()\n",
    "print(type(data))\n",
    "print(data)\n",
    "f.close()"
   ]
  },
  {
   "cell_type": "code",
   "execution_count": null,
   "id": "88e41e1b-aae6-4393-be4a-0e02dd41e609",
   "metadata": {},
   "outputs": [],
   "source": [
    "##파일에 새로운 내용 추가하기"
   ]
  },
  {
   "cell_type": "code",
   "execution_count": 134,
   "id": "6666436c-65a6-4fb1-b239-2e8a20fe1c07",
   "metadata": {},
   "outputs": [],
   "source": [
    "f = open('output/test.txt', 'a')\n",
    "for i in range(11, 21):\n",
    "    data = (f'{i}번째 줄입니다.\\n')\n",
    "    f.write(data)\n",
    "f.close()"
   ]
  },
  {
   "cell_type": "code",
   "execution_count": null,
   "id": "31de756d-73e7-4f14-b361-dd68ae6b22b3",
   "metadata": {},
   "outputs": [],
   "source": [
    "## with 문"
   ]
  },
  {
   "cell_type": "code",
   "execution_count": 136,
   "id": "ee04d7ae-180e-44f0-9585-67f65fb07ab3",
   "metadata": {},
   "outputs": [],
   "source": [
    "f = open(\"output/foo.txt\", 'w')\n",
    "f.write(\"Life is too short, you need python\")\n",
    "f.close()"
   ]
  },
  {
   "cell_type": "code",
   "execution_count": 142,
   "id": "cb922f43-f35b-4288-84c3-d8d20ca8462c",
   "metadata": {},
   "outputs": [],
   "source": [
    "f = open(\"output/foo.txt\", 'w') \n",
    "f.write(\"Life is too short, you need python\")\n",
    "f.close()"
   ]
  },
  {
   "cell_type": "code",
   "execution_count": 151,
   "id": "ef791c0d-7000-4f62-aef9-175b1e971af5",
   "metadata": {},
   "outputs": [
    {
     "ename": "IndentationError",
     "evalue": "expected an indented block after 'with' statement on line 1 (4084766175.py, line 2)",
     "output_type": "error",
     "traceback": [
      "\u001b[1;36m  Cell \u001b[1;32mIn[151], line 2\u001b[1;36m\u001b[0m\n\u001b[1;33m    f.write(\"Life is too short, you need python\")\u001b[0m\n\u001b[1;37m    ^\u001b[0m\n\u001b[1;31mIndentationError\u001b[0m\u001b[1;31m:\u001b[0m expected an indented block after 'with' statement on line 1\n"
     ]
    }
   ],
   "source": [
    "with open(\"output/foo.txt\", 'w') as f:\n",
    "f.write(\"Life is too short, you need python\")\n"
   ]
  }
 ],
 "metadata": {
  "kernelspec": {
   "display_name": "Python 3 (ipykernel)",
   "language": "python",
   "name": "python3"
  },
  "language_info": {
   "codemirror_mode": {
    "name": "ipython",
    "version": 3
   },
   "file_extension": ".py",
   "mimetype": "text/x-python",
   "name": "python",
   "nbconvert_exporter": "python",
   "pygments_lexer": "ipython3",
   "version": "3.12.4"
  }
 },
 "nbformat": 4,
 "nbformat_minor": 5
}
