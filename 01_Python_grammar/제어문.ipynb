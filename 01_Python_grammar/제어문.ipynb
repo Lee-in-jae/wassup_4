{
 "cells": [
  {
   "cell_type": "code",
   "execution_count": null,
   "id": "53d94a35-97bf-4faf-b27b-346cf13edd02",
   "metadata": {},
   "outputs": [],
   "source": [
    "### 제어문"
   ]
  },
  {
   "cell_type": "code",
   "execution_count": null,
   "id": "14801f7e-0a29-4695-9c22-52d563e9c74d",
   "metadata": {},
   "outputs": [],
   "source": []
  },
  {
   "cell_type": "code",
   "execution_count": null,
   "id": "c39aac99-a269-45fa-9bc5-b47a264667dc",
   "metadata": {},
   "outputs": [],
   "source": []
  },
  {
   "cell_type": "code",
   "execution_count": null,
   "id": "d6f99ef4-d7b7-4199-b7e7-91e2d40c5d16",
   "metadata": {},
   "outputs": [],
   "source": []
  }
 ],
 "metadata": {
  "kernelspec": {
   "display_name": "Python 3 (ipykernel)",
   "language": "python",
   "name": "python3"
  },
  "language_info": {
   "codemirror_mode": {
    "name": "ipython",
    "version": 3
   },
   "file_extension": ".py",
   "mimetype": "text/x-python",
   "name": "python",
   "nbconvert_exporter": "python",
   "pygments_lexer": "ipython3",
   "version": "3.12.4"
  }
 },
 "nbformat": 4,
 "nbformat_minor": 5
}
