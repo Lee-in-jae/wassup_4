{
 "cells": [
  {
   "cell_type": "code",
   "execution_count": null,
   "id": "20e335ea-147d-4a93-8b9b-5d46bce36435",
   "metadata": {},
   "outputs": [],
   "source": [
    "# csv파일 등을 관리하기 위한 것. 다차원 배열로 관리하기가 유용 ai나 머신러닝에도 쓰기 좋음"
   ]
  },
  {
   "cell_type": "code",
   "execution_count": null,
   "id": "1c290571-a37a-40fb-a416-08099e8b1804",
   "metadata": {},
   "outputs": [],
   "source": [
    "# pandas\n",
    "#시리즈는 데이터 한줄, 여러줄은 데이터프래임 2차원"
   ]
  },
  {
   "cell_type": "code",
   "execution_count": 4,
   "id": "046f145f-62fa-499d-89a8-7692614648af",
   "metadata": {},
   "outputs": [
    {
     "name": "stdout",
     "output_type": "stream",
     "text": [
      "<class 'pandas.core.series.Series'>\n",
      "RangeIndex(start=0, stop=9, step=1)\n",
      "int64\n",
      "0    1\n",
      "1    2\n",
      "2    3\n",
      "3    4\n",
      "4    5\n",
      "5    6\n",
      "6    7\n",
      "7    8\n",
      "8    9\n",
      "dtype: int64\n",
      "A    1\n",
      "B    2\n",
      "C    3\n",
      "D    4\n",
      "E    5\n",
      "F    6\n",
      "G    7\n",
      "H    8\n",
      "I    9\n",
      "dtype: int64\n"
     ]
    }
   ],
   "source": [
    "import pandas as pd\n",
    "import numpy as np\n",
    "#series\n",
    "s = pd.Series([1, 2, 3, 4, 5, 6, 7, 8, 9 ])\n",
    "print(type(s))\n",
    "print(s.index)\n",
    "print(s.dtype)\n",
    "print(s)\n",
    "s.index = ['A', 'B', 'C', 'D', 'E', 'F', 'G', 'H', 'I']\n",
    "print(s)"
   ]
  },
  {
   "cell_type": "code",
   "execution_count": 18,
   "id": "fc431cc2-6d6b-4376-9211-cc4480a93e79",
   "metadata": {},
   "outputs": [
    {
     "name": "stdout",
     "output_type": "stream",
     "text": [
      "A    1\n",
      "B    2\n",
      "C    3\n",
      "D    4\n",
      "E    5\n",
      "F    6\n",
      "G    7\n",
      "H    8\n",
      "I    9\n",
      "dtype: int64\n",
      "Index(['A', 'B', 'C', 'D', 'E', 'F', 'G', 'H', 'I'], dtype='object')\n",
      "[1 2 3 4 5 6 7 8 9]\n",
      "1\n",
      "1\n",
      "1\n",
      "A    1\n",
      "B    2\n",
      "C    3\n",
      "D    4\n",
      "E    5\n",
      "dtype: int64\n",
      "A    1\n",
      "B    2\n",
      "C    3\n",
      "D    4\n",
      "dtype: int64\n"
     ]
    },
    {
     "name": "stderr",
     "output_type": "stream",
     "text": [
      "C:\\Users\\leehi\\AppData\\Local\\Temp\\ipykernel_13712\\3518724605.py:5: FutureWarning: Series.__getitem__ treating keys as positions is deprecated. In a future version, integer keys will always be treated as labels (consistent with DataFrame behavior). To access a value by position, use `ser.iloc[pos]`\n",
      "  print(s[0])\n"
     ]
    }
   ],
   "source": [
    "s = pd.Series([1, 2, 3, 4, 5, 6, 7, 8, 9 ], ['A', 'B', 'C', 'D', 'E', 'F', 'G', 'H', 'I'])\n",
    "print(s)\n",
    "print(s.index)\n",
    "print(s.values)\n",
    "print(s[0])\n",
    "print(s['A'])\n",
    "print(s.A)\n",
    "print(s[0:5])\n",
    "print(s['A':'D']) #인덱스 대용들\n"
   ]
  },
  {
   "cell_type": "code",
   "execution_count": 30,
   "id": "94d732ee-af59-4c30-b676-d437ec4007ad",
   "metadata": {},
   "outputs": [
    {
     "name": "stdout",
     "output_type": "stream",
     "text": [
      "<class 'dict'>\n",
      "A : 10\n",
      "D : 20\n",
      "F : 30\n",
      "H : 40\n",
      "10\n",
      "Index(['A', 'D', 'F', 'H'], dtype='object')\n",
      "[10 20 30 40]\n",
      "10\n",
      "10\n",
      "A    10\n",
      "D    20\n",
      "F    30\n",
      "dtype: int64\n",
      "A    10\n",
      "D    20\n",
      "F    30\n",
      "dtype: int64\n"
     ]
    }
   ],
   "source": [
    "#Dictionary -> Series\n",
    "d = {'A':10, 'D':20, 'F':30, 'H':40}\n",
    "print(type(d))\n",
    "for key, value in d.items():  #반복문 돌릴때, 튜플로 돌려서\n",
    "    print(key, \":\", value)\n",
    "print(d['A'])\n",
    "#print(d.A)        #error\n",
    "#print(d[0:3])     #error\n",
    "#print(d['A':'D']) #error 즉 딕셔너리는 슬라이싱 불가능하나 시리즈는 가능함\n",
    "s = pd.Series(d)\n",
    "print(s.index)\n",
    "print(s.values)\n",
    "print(s['A'])\n",
    "print(s.A)\n",
    "print(s[0:3])\n",
    "print(s['A':'F'])"
   ]
  },
  {
   "cell_type": "code",
   "execution_count": 46,
   "id": "7a983f7c-482c-4915-a555-8857016655d0",
   "metadata": {},
   "outputs": [
    {
     "name": "stdout",
     "output_type": "stream",
     "text": [
      "<class 'dict'>\n",
      "   name  age         tel\n",
      "0   kim   25   1111-2222\n",
      "1   lee   30   2222-1111\n",
      "2  park   35   3333-1111\n",
      "3  jung   20  2222-33333\n",
      "RangeIndex(start=0, stop=4, step=1)\n",
      "Index(['name', 'age', 'tel'], dtype='object')\n",
      "[['kim' 25 '1111-2222']\n",
      " ['lee' 30 '2222-1111']\n",
      " ['park' 35 '3333-1111']\n",
      " ['jung' 20 '2222-33333']]\n",
      "RangeIndex(start=0, stop=4, step=1, name='num')\n",
      "Index(['name', 'age', 'tel'], dtype='object', name='user')\n"
     ]
    }
   ],
   "source": [
    "#Dataframe\n",
    "#dictionary -> dataframe 키 하나에 데이터 여러개인 경우\n",
    "d = {\n",
    "    'name' : [ 'kim', 'lee', 'park', 'jung'],\n",
    "    'age' : [ 25, 30, 35, 20],\n",
    "    'tel' : ['1111-2222', '2222-1111', '3333-1111', '2222-33333']\n",
    "}\n",
    "print(type(d))\n",
    "df = pd.DataFrame(d)\n",
    "print(df)\n",
    "print(df.index)\n",
    "print(df.columns)\n",
    "print(df.values)  #애넨 넘파이 인덱스로 출력됨\n",
    "df.index.name = 'num'\n",
    "df.columns.name = 'user'\n",
    "print(df.index)\n",
    "print(df.columns)"
   ]
  },
  {
   "cell_type": "code",
   "execution_count": 69,
   "id": "aeb9db58-1da8-4c51-8872-6eea526a3933",
   "metadata": {},
   "outputs": [
    {
     "name": "stdout",
     "output_type": "stream",
     "text": [
      "<class 'numpy.ndarray'>\n",
      "   name age        tel\n",
      "A   kim  20  1111-2222\n",
      "B   lee  30  2222-1111\n",
      "C  park  35  3333-2222\n",
      "D  jung  25  3333-1111\n",
      "Index(['name', 'age', 'tel'], dtype='object')\n",
      "   name age        tel\n",
      "A   kim  20  1111-2222\n",
      "B   lee  30  2222-1111\n",
      "C  park  35  3333-2222\n",
      "D  jung  25  3333-1111\n",
      "       name age        tel\n",
      "count     4   4          4\n",
      "unique    4   4          4\n",
      "top     kim  20  1111-2222\n",
      "freq      1   1          1\n"
     ]
    }
   ],
   "source": [
    "#numpy -> dataframe\n",
    "n = np.array(\n",
    "    [['kim', 20, '1111-2222'],\n",
    "      ['lee', '30', '2222-1111'],\n",
    "     ['park', 35, '3333-2222'],\n",
    "     ['jung', 25, '3333-1111']]\n",
    ")\n",
    "print(type(n))\n",
    "df = pd.DataFrame(n)\n",
    "df.columns = ['name', 'age', 'tel']\n",
    "df. index = ['A', 'B', 'C', 'D']\n",
    "print(df)\n",
    "print(df.columns)\n",
    "df = pd.DataFrame(n, columns=['name', 'age', 'tel'], index=['A', 'B', 'C', 'D'])\n",
    "print(df)\n",
    "print(df.describe())        #count는 개숫, unique는 다 값이 다르다, top은 값이 젤큰것, freq는 겹치는 것"
   ]
  },
  {
   "cell_type": "code",
   "execution_count": 83,
   "id": "aa7e6a39-de06-42a5-a14e-086f6982981f",
   "metadata": {},
   "outputs": [
    {
     "name": "stdout",
     "output_type": "stream",
     "text": [
      "A     kim\n",
      "B     lee\n",
      "C    park\n",
      "D    jung\n",
      "Name: name, dtype: object\n",
      "   name        tel\n",
      "A   kim  1111-2222\n",
      "B   lee  2222-1111\n",
      "C  park  3333-2222\n",
      "D  jung  3333-1111\n",
      "park\n",
      "park\n",
      "park\n",
      "B     lee\n",
      "C    park\n",
      "D    jung\n",
      "Name: name, dtype: object\n",
      "A     kim\n",
      "B     lee\n",
      "C    park\n",
      "D    jung\n",
      "Name: name, dtype: object A    20\n",
      "B    30\n",
      "C    35\n",
      "D    25\n",
      "Name: age, dtype: object\n",
      "park\n"
     ]
    },
    {
     "name": "stderr",
     "output_type": "stream",
     "text": [
      "C:\\Users\\leehi\\AppData\\Local\\Temp\\ipykernel_13712\\3716037013.py:3: FutureWarning: Series.__getitem__ treating keys as positions is deprecated. In a future version, integer keys will always be treated as labels (consistent with DataFrame behavior). To access a value by position, use `ser.iloc[pos]`\n",
      "  print(df['name'][2])\n"
     ]
    }
   ],
   "source": [
    "print(df['name']) #한줄만 꺼내면 시리즈로 나옴\n",
    "print(df[['name','tel']])\n",
    "print(df['name'][2])\n",
    "print(df['name']['C'])\n",
    "print(df['name'].C)\n",
    "print(df['name']['B':'D'])\n",
    "print(df.name, df.age)\n",
    "print(df.name.C)"
   ]
  },
  {
   "cell_type": "code",
   "execution_count": 93,
   "id": "ce4f8a01-5d23-4a14-95d8-b41f5239f1e0",
   "metadata": {},
   "outputs": [
    {
     "name": "stdout",
     "output_type": "stream",
     "text": [
      "   name age        tel\n",
      "A   kim  20  1111-2222\n",
      "B   lee  30  2222-1111\n",
      "C  park  35  3333-2222\n",
      "D  jung  25  3333-1111\n",
      "  name age        tel\n",
      "A  kim  20  1111-2222\n",
      "   name        tel\n",
      "A   kim  1111-2222\n",
      "B   lee  2222-1111\n",
      "C  park  3333-2222\n",
      "D  jung  3333-1111\n"
     ]
    }
   ],
   "source": [
    "print(df[:][:]) \n",
    "print(df[:2][:1])\n",
    "print(df[['name', 'tel']])\n",
    "#print(df[[0,2]]) 에러 컬럼명이 있는 경우 숫자 쓰면 안됨\n",
    "#print(df[0][0])  에러 그러나 시리즈는 됨. 데이터 프래임 자체에서는 컬럼명있음 숫자 쓰면 안됨"
   ]
  },
  {
   "cell_type": "code",
   "execution_count": 107,
   "id": "600698af-3d6e-4808-9554-4b95fdb29c32",
   "metadata": {},
   "outputs": [
    {
     "name": "stdout",
     "output_type": "stream",
     "text": [
      "   name age        tel address  adult\n",
      "A   kim  30  1111-2222      서울  False\n",
      "B   lee  30  2222-1111      수원  False\n",
      "C  park  35  3333-2222      인천   True\n",
      "D  jung  25  3333-1111      안산  False\n"
     ]
    },
    {
     "name": "stderr",
     "output_type": "stream",
     "text": [
      "C:\\Users\\leehi\\AppData\\Local\\Temp\\ipykernel_13712\\1764906969.py:4: FutureWarning: ChainedAssignmentError: behaviour will change in pandas 3.0!\n",
      "You are setting values through chained assignment. Currently this works in certain cases, but when using Copy-on-Write (which will become the default behaviour in pandas 3.0) this will never work to update the original DataFrame or Series, because the intermediate object on which we are setting values will behave as a copy.\n",
      "A typical example is when you are setting values in a column of a DataFrame, like:\n",
      "\n",
      "df[\"col\"][row_indexer] = value\n",
      "\n",
      "Use `df.loc[row_indexer, \"col\"] = values` instead, to perform the assignment in a single step and ensure this keeps updating the original `df`.\n",
      "\n",
      "See the caveats in the documentation: https://pandas.pydata.org/pandas-docs/stable/user_guide/indexing.html#returning-a-view-versus-a-copy\n",
      "\n",
      "  df['age']['A'] = 30\n",
      "C:\\Users\\leehi\\AppData\\Local\\Temp\\ipykernel_13712\\1764906969.py:4: SettingWithCopyWarning: \n",
      "A value is trying to be set on a copy of a slice from a DataFrame\n",
      "\n",
      "See the caveats in the documentation: https://pandas.pydata.org/pandas-docs/stable/user_guide/indexing.html#returning-a-view-versus-a-copy\n",
      "  df['age']['A'] = 30\n"
     ]
    }
   ],
   "source": [
    "#컬럼 추가하고 싶을때, 단 수 맞춰줘야함\n",
    "df['address'] = ['서울', '수원', '인천', '안산']\n",
    "# df['adult'] = df['age'] > '30' #논리값임\n",
    "df['age']['A'] = 30\n",
    "df['adult'] = df['age'].astype(np.int32)>30\n",
    "print(df)"
   ]
  },
  {
   "cell_type": "code",
   "execution_count": 119,
   "id": "3a26f001-b5ed-4277-b0fd-4c9362d7225e",
   "metadata": {},
   "outputs": [
    {
     "name": "stdout",
     "output_type": "stream",
     "text": [
      "a    10\n",
      "g    20\n",
      "d    40\n",
      "f    50\n",
      "c    60\n",
      "b    70\n",
      "dtype: int64\n"
     ]
    }
   ],
   "source": [
    "# Series 정렬\n",
    "s = pd.Series([10, 40, 50,20, 70, 60], index=['a', 'd', 'f', 'g', 'b', 'c'])\n",
    "s = s.sort_index(ascending = False)\n",
    "s = s.sort_values()\n",
    "print(s)"
   ]
  },
  {
   "cell_type": "code",
   "execution_count": 147,
   "id": "3b51cd09-5b2f-4041-8f44-7ca57715f740",
   "metadata": {},
   "outputs": [
    {
     "name": "stdout",
     "output_type": "stream",
     "text": [
      "     B    D    A   C\n",
      "c    4    5   40   2\n",
      "a  300   10  200   2\n",
      "b   20  400    4  30\n",
      "     A    B   C    D\n",
      "b    4   20  30  400\n",
      "c   40    4   2    5\n",
      "a  200  300   2   10\n"
     ]
    }
   ],
   "source": [
    "# DataFrame 정렬\n",
    "df = pd.DataFrame([[4,5,40,2],\n",
    "                  [300, 10, 200, 2],\n",
    "                  [20, 400, 4, 30]], index = ['c', 'a', 'b'], columns=['B', 'D', 'A', 'C'])\n",
    "print(df)\n",
    "df = df.sort_index()  #index\n",
    "df = df.sort_index(axis = 0)\n",
    "df = df.sort_index(axis = 1, ascending=False) #columns\n",
    "\n",
    "df = df.sort_values(by='A', ascending=False) #행끼리\n",
    "df = df.sort_values(by=['A', 'B'])\n",
    "df = df.sort_values(by='b', axis = 1) #열끼리\n",
    "print(df)\n"
   ]
  },
  {
   "cell_type": "code",
   "execution_count": 157,
   "id": "14a0ddde-e5d8-4038-bdfd-1a4715301482",
   "metadata": {
    "scrolled": true
   },
   "outputs": [
    {
     "name": "stdout",
     "output_type": "stream",
     "text": [
      "[[1, 2, 3], [4, 5, 6], [7, 8, 9]]\n",
      "9\n",
      "[[1, 2, 3], [4, 5, 6], [7, 8, 9]]\n",
      "[[1, 2, 3], [4, 5, 6]]\n",
      "[['kim' '20']\n",
      " ['lee' '30']]\n",
      "      0   1          2\n",
      "0   kim  20  1111-2222\n",
      "1   lee  30  2222-1111\n",
      "2  park  35  3333-2222\n",
      "3  jung  25  3333-1111\n",
      "3333-2222\n",
      "      0   1          2\n",
      "0   kim  20  1111-2222\n",
      "1   lee  30  2222-1111\n",
      "2  park  35  3333-2222\n",
      "3  jung  25  3333-1111\n",
      "     0   1          2\n",
      "0  kim  20  1111-2222\n",
      "1  lee  30  2222-1111\n"
     ]
    }
   ],
   "source": [
    "#슬라이싱\n",
    "# .iloc  정수 인덱스\n",
    "# .loc   라벨(이름) 인덱스\n",
    "# .ix    desprecated (옛날 방식이라 쓰지 말아라)\n",
    "\n",
    "#list\n",
    "m = [[1, 2, 3], [4, 5, 6], [7, 8, 9]]\n",
    "print(m)\n",
    "print(m[2][2])\n",
    "print(m[:][:])\n",
    "print(m[:2][:2]) #상위 2줄 출력됨 어제 배움, 리스트 안됨\n",
    "print(n[:2, :2])   #넘파이와 리스트 가장 큰 차이는 안에다가 컴마를 두고 적을 수있다. 행이 01, 열이 01임\n",
    "#pandas\n",
    "df = pd.DataFrame(n)\n",
    "print(df)\n",
    "print(df[2][2])\n",
    "print(df[:][:])\n",
    "print(df[:2][:2])\n",
    "# print(df[:2, :2] error"
   ]
  },
  {
   "cell_type": "code",
   "execution_count": 163,
   "id": "a4cad91b-a17d-4b3a-8e6a-d8c951234b09",
   "metadata": {},
   "outputs": [
    {
     "name": "stdout",
     "output_type": "stream",
     "text": [
      "    A   B   C   D\n",
      "0   1   2   3   4\n",
      "1   5   6   7   8\n",
      "2   9  10  11  12\n",
      "3  13  14  15  16\n",
      "4  17  18  19  20\n"
     ]
    }
   ],
   "source": [
    "# iloc\n",
    "df = pd.DataFrame(np.arange(1, 21).reshape(5, 4), columns=['A', 'B', 'C', 'D'])\n",
    "print(df)\n",
    "#prnit(df [2][2]) error\n",
    "print(df['c'][2])\n",
    "print(df[['A', 'D']])\n",
    "#print(df['A' : 'C']) error\n",
    "print(df.iloc[:2, :2])\n",
    "print(df.iloc[:3:2, :3:2])\n",
    "print(df.iloc["
   ]
  },
  {
   "cell_type": "code",
   "execution_count": 173,
   "id": "2cdef9ae-519f-4fda-a9c5-3ca233fe31cb",
   "metadata": {},
   "outputs": [
    {
     "name": "stdout",
     "output_type": "stream",
     "text": [
      "    A   B   C   D   E\n",
      "0   1   2   3   4  31\n",
      "1   5   6   7   8  32\n",
      "2   9  10  11  12  33\n",
      "3  13  14  15  16  34\n",
      "4  17  18  19  20  35\n",
      "11\n",
      "   A   B   C\n",
      "0  1   2   3\n",
      "1  5   6   7\n",
      "2  9  10  11\n",
      "   A  B  C  D   E\n",
      "0  1  2  3  4  31\n",
      "1  5  6  7  8  32\n",
      "    B   C   D\n",
      "1   6   7   8\n",
      "2  10  11  12\n",
      "3  14  15  16\n",
      "0     3\n",
      "1     7\n",
      "2    11\n",
      "3    15\n",
      "4    19\n",
      "Name: C, dtype: int32\n",
      "    B   D\n",
      "0   2   4\n",
      "1   6   8\n",
      "2  10  12\n",
      "3  14  16\n",
      "4  18  20\n",
      "    B   D\n",
      "0   2   4\n",
      "1   6   8\n",
      "2  10  12\n",
      "3  14  16\n",
      "4  18  20\n"
     ]
    }
   ],
   "source": [
    "#loc\n",
    "print(df)\n",
    "#print(df.loc[2, 2]) error\n",
    "print(df.loc[2, 'C'])\n",
    "#print(df.loc[:2, :2]) error 열자리에 숫자 들어가면 안됨\n",
    "print(df.loc[:2, :'C']) #문자(라벨)로 찍으면 잘됨\n",
    "print(df[:2])\n",
    "print(df.loc[1:3, 'B':'D'])\n",
    "print(df.loc[:, 'C'])\n",
    "print(df.loc[:, ['B','D']])\n",
    "print(df[['B','D']])"
   ]
  },
  {
   "cell_type": "code",
   "execution_count": 185,
   "id": "74fcc562-a2c9-4a4e-9463-471c3b6e8776",
   "metadata": {},
   "outputs": [
    {
     "ename": "ValueError",
     "evalue": "Length of values (5) does not match length of index (6)",
     "output_type": "error",
     "traceback": [
      "\u001b[1;31m---------------------------------------------------------------------------\u001b[0m",
      "\u001b[1;31mValueError\u001b[0m                                Traceback (most recent call last)",
      "Cell \u001b[1;32mIn[185], line 1\u001b[0m\n\u001b[1;32m----> 1\u001b[0m df[\u001b[38;5;124m'\u001b[39m\u001b[38;5;124mE\u001b[39m\u001b[38;5;124m'\u001b[39m] \u001b[38;5;241m=\u001b[39m [\u001b[38;5;241m31\u001b[39m, \u001b[38;5;241m32\u001b[39m, \u001b[38;5;241m33\u001b[39m, \u001b[38;5;241m34\u001b[39m, \u001b[38;5;241m35\u001b[39m]\n\u001b[0;32m      2\u001b[0m \u001b[38;5;66;03m# df.iloc[:, 5] = [40, 41, 42, 43, 44] error 열추가 힘듦\u001b[39;00m\n\u001b[0;32m      3\u001b[0m \u001b[38;5;66;03m# df.iloc[5, :] = [90,91, 92, 93, 94]       #행에 추가 이것도 에러 iloc는 추가가 안됨\u001b[39;00m\n\u001b[0;32m      4\u001b[0m df\u001b[38;5;241m.\u001b[39mloc[\u001b[38;5;241m5\u001b[39m] \u001b[38;5;241m=\u001b[39m [\u001b[38;5;241m90\u001b[39m,\u001b[38;5;241m91\u001b[39m, \u001b[38;5;241m92\u001b[39m, \u001b[38;5;241m93\u001b[39m, \u001b[38;5;241m94\u001b[39m] \u001b[38;5;66;03m#loc쓰면 행추가가능. 열추도 다 가능 \u001b[39;00m\n",
      "File \u001b[1;32m~\\anaconda3\\Lib\\site-packages\\pandas\\core\\frame.py:4311\u001b[0m, in \u001b[0;36mDataFrame.__setitem__\u001b[1;34m(self, key, value)\u001b[0m\n\u001b[0;32m   4308\u001b[0m     \u001b[38;5;28mself\u001b[39m\u001b[38;5;241m.\u001b[39m_setitem_array([key], value)\n\u001b[0;32m   4309\u001b[0m \u001b[38;5;28;01melse\u001b[39;00m:\n\u001b[0;32m   4310\u001b[0m     \u001b[38;5;66;03m# set column\u001b[39;00m\n\u001b[1;32m-> 4311\u001b[0m     \u001b[38;5;28mself\u001b[39m\u001b[38;5;241m.\u001b[39m_set_item(key, value)\n",
      "File \u001b[1;32m~\\anaconda3\\Lib\\site-packages\\pandas\\core\\frame.py:4524\u001b[0m, in \u001b[0;36mDataFrame._set_item\u001b[1;34m(self, key, value)\u001b[0m\n\u001b[0;32m   4514\u001b[0m \u001b[38;5;28;01mdef\u001b[39;00m \u001b[38;5;21m_set_item\u001b[39m(\u001b[38;5;28mself\u001b[39m, key, value) \u001b[38;5;241m-\u001b[39m\u001b[38;5;241m>\u001b[39m \u001b[38;5;28;01mNone\u001b[39;00m:\n\u001b[0;32m   4515\u001b[0m \u001b[38;5;250m    \u001b[39m\u001b[38;5;124;03m\"\"\"\u001b[39;00m\n\u001b[0;32m   4516\u001b[0m \u001b[38;5;124;03m    Add series to DataFrame in specified column.\u001b[39;00m\n\u001b[0;32m   4517\u001b[0m \n\u001b[1;32m   (...)\u001b[0m\n\u001b[0;32m   4522\u001b[0m \u001b[38;5;124;03m    ensure homogeneity.\u001b[39;00m\n\u001b[0;32m   4523\u001b[0m \u001b[38;5;124;03m    \"\"\"\u001b[39;00m\n\u001b[1;32m-> 4524\u001b[0m     value, refs \u001b[38;5;241m=\u001b[39m \u001b[38;5;28mself\u001b[39m\u001b[38;5;241m.\u001b[39m_sanitize_column(value)\n\u001b[0;32m   4526\u001b[0m     \u001b[38;5;28;01mif\u001b[39;00m (\n\u001b[0;32m   4527\u001b[0m         key \u001b[38;5;129;01min\u001b[39;00m \u001b[38;5;28mself\u001b[39m\u001b[38;5;241m.\u001b[39mcolumns\n\u001b[0;32m   4528\u001b[0m         \u001b[38;5;129;01mand\u001b[39;00m value\u001b[38;5;241m.\u001b[39mndim \u001b[38;5;241m==\u001b[39m \u001b[38;5;241m1\u001b[39m\n\u001b[0;32m   4529\u001b[0m         \u001b[38;5;129;01mand\u001b[39;00m \u001b[38;5;129;01mnot\u001b[39;00m \u001b[38;5;28misinstance\u001b[39m(value\u001b[38;5;241m.\u001b[39mdtype, ExtensionDtype)\n\u001b[0;32m   4530\u001b[0m     ):\n\u001b[0;32m   4531\u001b[0m         \u001b[38;5;66;03m# broadcast across multiple columns if necessary\u001b[39;00m\n\u001b[0;32m   4532\u001b[0m         \u001b[38;5;28;01mif\u001b[39;00m \u001b[38;5;129;01mnot\u001b[39;00m \u001b[38;5;28mself\u001b[39m\u001b[38;5;241m.\u001b[39mcolumns\u001b[38;5;241m.\u001b[39mis_unique \u001b[38;5;129;01mor\u001b[39;00m \u001b[38;5;28misinstance\u001b[39m(\u001b[38;5;28mself\u001b[39m\u001b[38;5;241m.\u001b[39mcolumns, MultiIndex):\n",
      "File \u001b[1;32m~\\anaconda3\\Lib\\site-packages\\pandas\\core\\frame.py:5266\u001b[0m, in \u001b[0;36mDataFrame._sanitize_column\u001b[1;34m(self, value)\u001b[0m\n\u001b[0;32m   5263\u001b[0m     \u001b[38;5;28;01mreturn\u001b[39;00m _reindex_for_setitem(value, \u001b[38;5;28mself\u001b[39m\u001b[38;5;241m.\u001b[39mindex)\n\u001b[0;32m   5265\u001b[0m \u001b[38;5;28;01mif\u001b[39;00m is_list_like(value):\n\u001b[1;32m-> 5266\u001b[0m     com\u001b[38;5;241m.\u001b[39mrequire_length_match(value, \u001b[38;5;28mself\u001b[39m\u001b[38;5;241m.\u001b[39mindex)\n\u001b[0;32m   5267\u001b[0m arr \u001b[38;5;241m=\u001b[39m sanitize_array(value, \u001b[38;5;28mself\u001b[39m\u001b[38;5;241m.\u001b[39mindex, copy\u001b[38;5;241m=\u001b[39m\u001b[38;5;28;01mTrue\u001b[39;00m, allow_2d\u001b[38;5;241m=\u001b[39m\u001b[38;5;28;01mTrue\u001b[39;00m)\n\u001b[0;32m   5268\u001b[0m \u001b[38;5;28;01mif\u001b[39;00m (\n\u001b[0;32m   5269\u001b[0m     \u001b[38;5;28misinstance\u001b[39m(value, Index)\n\u001b[0;32m   5270\u001b[0m     \u001b[38;5;129;01mand\u001b[39;00m value\u001b[38;5;241m.\u001b[39mdtype \u001b[38;5;241m==\u001b[39m \u001b[38;5;124m\"\u001b[39m\u001b[38;5;124mobject\u001b[39m\u001b[38;5;124m\"\u001b[39m\n\u001b[1;32m   (...)\u001b[0m\n\u001b[0;32m   5273\u001b[0m     \u001b[38;5;66;03m# TODO: Remove kludge in sanitize_array for string mode when enforcing\u001b[39;00m\n\u001b[0;32m   5274\u001b[0m     \u001b[38;5;66;03m# this deprecation\u001b[39;00m\n",
      "File \u001b[1;32m~\\anaconda3\\Lib\\site-packages\\pandas\\core\\common.py:573\u001b[0m, in \u001b[0;36mrequire_length_match\u001b[1;34m(data, index)\u001b[0m\n\u001b[0;32m    569\u001b[0m \u001b[38;5;250m\u001b[39m\u001b[38;5;124;03m\"\"\"\u001b[39;00m\n\u001b[0;32m    570\u001b[0m \u001b[38;5;124;03mCheck the length of data matches the length of the index.\u001b[39;00m\n\u001b[0;32m    571\u001b[0m \u001b[38;5;124;03m\"\"\"\u001b[39;00m\n\u001b[0;32m    572\u001b[0m \u001b[38;5;28;01mif\u001b[39;00m \u001b[38;5;28mlen\u001b[39m(data) \u001b[38;5;241m!=\u001b[39m \u001b[38;5;28mlen\u001b[39m(index):\n\u001b[1;32m--> 573\u001b[0m     \u001b[38;5;28;01mraise\u001b[39;00m \u001b[38;5;167;01mValueError\u001b[39;00m(\n\u001b[0;32m    574\u001b[0m         \u001b[38;5;124m\"\u001b[39m\u001b[38;5;124mLength of values \u001b[39m\u001b[38;5;124m\"\u001b[39m\n\u001b[0;32m    575\u001b[0m         \u001b[38;5;124mf\u001b[39m\u001b[38;5;124m\"\u001b[39m\u001b[38;5;124m(\u001b[39m\u001b[38;5;132;01m{\u001b[39;00m\u001b[38;5;28mlen\u001b[39m(data)\u001b[38;5;132;01m}\u001b[39;00m\u001b[38;5;124m) \u001b[39m\u001b[38;5;124m\"\u001b[39m\n\u001b[0;32m    576\u001b[0m         \u001b[38;5;124m\"\u001b[39m\u001b[38;5;124mdoes not match length of index \u001b[39m\u001b[38;5;124m\"\u001b[39m\n\u001b[0;32m    577\u001b[0m         \u001b[38;5;124mf\u001b[39m\u001b[38;5;124m\"\u001b[39m\u001b[38;5;124m(\u001b[39m\u001b[38;5;132;01m{\u001b[39;00m\u001b[38;5;28mlen\u001b[39m(index)\u001b[38;5;132;01m}\u001b[39;00m\u001b[38;5;124m)\u001b[39m\u001b[38;5;124m\"\u001b[39m\n\u001b[0;32m    578\u001b[0m     )\n",
      "\u001b[1;31mValueError\u001b[0m: Length of values (5) does not match length of index (6)"
     ]
    }
   ],
   "source": [
    "df = pd\n",
    "df['E'] = [31, 32, 33, 34, 35]\n",
    "# df.iloc[:, 5] = [40, 41, 42, 43, 44] error 열추가 힘듦\n",
    "# df.iloc[5, :] = [90,91, 92, 93, 94]       #행에 추가 이것도 에러 iloc는 추가가 안됨\n",
    "df.loc[5] = [90,91, 92, 93, 94] #loc쓰면 행추가가능. 열추도 다 가능 \n",
    "df.loc[:, 'F'] = [40, 41, 42, 43,44, 45]\n",
    "df.loc[0, 'A'] = 99\n",
    "df.loc[1, 'A':'C'] = [100, 101, 102]\n",
    "print(df)\n",
    "\n",
    "del(df['E'])\n",
    "#del(df.loc[:, 'F']) 에러\n",
    "#df.drop('F') 이건 열을 지우란 건데 열에 에프가 없어서 에러가 남\n",
    "df.drop('F', axis=1)\n",
    "print(df)"
   ]
  },
  {
   "cell_type": "code",
   "execution_count": 207,
   "id": "dd391a1c-484c-44f7-97ee-2bc22a3e7286",
   "metadata": {},
   "outputs": [
    {
     "name": "stdout",
     "output_type": "stream",
     "text": [
      "   name age        tel\n",
      "0   kim  20  1111-2222\n",
      "1   lee  30  2222-1111\n",
      "2  park  35  3333-2222\n",
      "3  jung  25  3333-1111\n",
      "4  hong  40  1111-3333\n",
      "jung\n",
      "  name age        tel\n",
      "0  kim  20  1111-2222\n"
     ]
    }
   ],
   "source": [
    "#boolean indexing 요소값으로도 갖고 나올 수 있음\n",
    "df = pd.DataFrame(\n",
    "    [['kim', 20, '1111-2222'],\n",
    "      ['lee', '30', '2222-1111'],\n",
    "     ['park', 35, '3333-2222'],\n",
    "     ['jung', 25, '3333-1111'],\n",
    "     ['hong', 40, '1111-3333']], columns=['name', 'age', 'tel']\n",
    ")\n",
    "print(df)\n",
    "\n",
    "print(df.loc[3, 'name'])\n",
    "# print(df.loc[df['age']>30, ['name', 'age']])\n",
    "print(df.loc[df['name'] == 'kim', :])\n",
    "print(df.loc[(df['age']>20)&(df['age']<40), 'name':'tel'])"
   ]
  },
  {
   "cell_type": "code",
   "execution_count": 219,
   "id": "9282dc28-9932-4327-aa08-6b91b8de31c5",
   "metadata": {},
   "outputs": [
    {
     "name": "stdout",
     "output_type": "stream",
     "text": [
      "Series([], Name: address, dtype: object)\n",
      "1    NaN\n",
      "2    NaN\n",
      "4    NaN\n",
      "Name: address, dtype: object\n",
      "   name age        tel address\n",
      "0   kim  20  1111-2222      서울\n",
      "1   lee  30  2222-1111      서울\n",
      "2  park  35  3333-2222      서울\n",
      "3  jung  25  3333-1111      수원\n",
      "4  hong  40  1111-3333      서울\n"
     ]
    }
   ],
   "source": [
    "# 결측값 대체/비어있는 것을 채우는 것\n",
    "df['address'] = ['서울', np.nan, np.nan, '수원', np.nan]\n",
    "print(df.loc[df['address'] == np.nan, 'address'])\n",
    "print(df.loc[df['address'].isnull(),'address']) #반드시 isnull로 데이터 찾아야함. nan한다고 못찾음\n",
    "df.loc[df['address'].isnull(), 'address'] = '서울'\n",
    "\n",
    "df.loc[df['address'] =='', 'address'] = '서울' #''을 사용해 골라 낼 수도 잇음\n",
    "print(df)"
   ]
  },
  {
   "cell_type": "code",
   "execution_count": 245,
   "id": "ebdf9685-361b-4472-8641-aebdec7e1270",
   "metadata": {},
   "outputs": [
    {
     "ename": "ValueError",
     "evalue": "Must have equal len keys and value when setting with an iterable",
     "output_type": "error",
     "traceback": [
      "\u001b[1;31m---------------------------------------------------------------------------\u001b[0m",
      "\u001b[1;31mValueError\u001b[0m                                Traceback (most recent call last)",
      "Cell \u001b[1;32mIn[245], line 4\u001b[0m\n\u001b[0;32m      1\u001b[0m \u001b[38;5;66;03m#결측값 제거\u001b[39;00m\n\u001b[0;32m      3\u001b[0m df\u001b[38;5;241m.\u001b[39mloc[::\u001b[38;5;241m2\u001b[39m,\u001b[38;5;124m'\u001b[39m\u001b[38;5;124mtel\u001b[39m\u001b[38;5;124m'\u001b[39m] \u001b[38;5;241m=\u001b[39m np\u001b[38;5;241m.\u001b[39mnan\n\u001b[1;32m----> 4\u001b[0m df\u001b[38;5;241m.\u001b[39mloc[\u001b[38;5;241m5\u001b[39m, :] \u001b[38;5;241m=\u001b[39m [np\u001b[38;5;241m.\u001b[39mnan, np\u001b[38;5;241m.\u001b[39mnan, np\u001b[38;5;241m.\u001b[39mnan, np\u001b[38;5;241m.\u001b[39mnan]\n\u001b[0;32m      5\u001b[0m \u001b[38;5;66;03m# df.dropna(how='all', inplace=True)\u001b[39;00m\n\u001b[0;32m      6\u001b[0m df[\u001b[38;5;124m'\u001b[39m\u001b[38;5;124mincome\u001b[39m\u001b[38;5;124m'\u001b[39m] \u001b[38;5;241m=\u001b[39m [\u001b[38;5;241m300\u001b[39m, np\u001b[38;5;241m.\u001b[39mnan, \u001b[38;5;241m400\u001b[39m, \u001b[38;5;241m500\u001b[39m, np\u001b[38;5;241m.\u001b[39mnan, \u001b[38;5;241m300\u001b[39m]\n",
      "File \u001b[1;32m~\\anaconda3\\Lib\\site-packages\\pandas\\core\\indexing.py:911\u001b[0m, in \u001b[0;36m_LocationIndexer.__setitem__\u001b[1;34m(self, key, value)\u001b[0m\n\u001b[0;32m    908\u001b[0m \u001b[38;5;28mself\u001b[39m\u001b[38;5;241m.\u001b[39m_has_valid_setitem_indexer(key)\n\u001b[0;32m    910\u001b[0m iloc \u001b[38;5;241m=\u001b[39m \u001b[38;5;28mself\u001b[39m \u001b[38;5;28;01mif\u001b[39;00m \u001b[38;5;28mself\u001b[39m\u001b[38;5;241m.\u001b[39mname \u001b[38;5;241m==\u001b[39m \u001b[38;5;124m\"\u001b[39m\u001b[38;5;124miloc\u001b[39m\u001b[38;5;124m\"\u001b[39m \u001b[38;5;28;01melse\u001b[39;00m \u001b[38;5;28mself\u001b[39m\u001b[38;5;241m.\u001b[39mobj\u001b[38;5;241m.\u001b[39miloc\n\u001b[1;32m--> 911\u001b[0m iloc\u001b[38;5;241m.\u001b[39m_setitem_with_indexer(indexer, value, \u001b[38;5;28mself\u001b[39m\u001b[38;5;241m.\u001b[39mname)\n",
      "File \u001b[1;32m~\\anaconda3\\Lib\\site-packages\\pandas\\core\\indexing.py:1942\u001b[0m, in \u001b[0;36m_iLocIndexer._setitem_with_indexer\u001b[1;34m(self, indexer, value, name)\u001b[0m\n\u001b[0;32m   1939\u001b[0m \u001b[38;5;66;03m# align and set the values\u001b[39;00m\n\u001b[0;32m   1940\u001b[0m \u001b[38;5;28;01mif\u001b[39;00m take_split_path:\n\u001b[0;32m   1941\u001b[0m     \u001b[38;5;66;03m# We have to operate column-wise\u001b[39;00m\n\u001b[1;32m-> 1942\u001b[0m     \u001b[38;5;28mself\u001b[39m\u001b[38;5;241m.\u001b[39m_setitem_with_indexer_split_path(indexer, value, name)\n\u001b[0;32m   1943\u001b[0m \u001b[38;5;28;01melse\u001b[39;00m:\n\u001b[0;32m   1944\u001b[0m     \u001b[38;5;28mself\u001b[39m\u001b[38;5;241m.\u001b[39m_setitem_single_block(indexer, value, name)\n",
      "File \u001b[1;32m~\\anaconda3\\Lib\\site-packages\\pandas\\core\\indexing.py:2027\u001b[0m, in \u001b[0;36m_iLocIndexer._setitem_with_indexer_split_path\u001b[1;34m(self, indexer, value, name)\u001b[0m\n\u001b[0;32m   2024\u001b[0m         \u001b[38;5;28mself\u001b[39m\u001b[38;5;241m.\u001b[39m_setitem_single_column(ilocs[\u001b[38;5;241m0\u001b[39m], value, pi)\n\u001b[0;32m   2026\u001b[0m     \u001b[38;5;28;01melse\u001b[39;00m:\n\u001b[1;32m-> 2027\u001b[0m         \u001b[38;5;28;01mraise\u001b[39;00m \u001b[38;5;167;01mValueError\u001b[39;00m(\n\u001b[0;32m   2028\u001b[0m             \u001b[38;5;124m\"\u001b[39m\u001b[38;5;124mMust have equal len keys and value \u001b[39m\u001b[38;5;124m\"\u001b[39m\n\u001b[0;32m   2029\u001b[0m             \u001b[38;5;124m\"\u001b[39m\u001b[38;5;124mwhen setting with an iterable\u001b[39m\u001b[38;5;124m\"\u001b[39m\n\u001b[0;32m   2030\u001b[0m         )\n\u001b[0;32m   2032\u001b[0m \u001b[38;5;28;01melse\u001b[39;00m:\n\u001b[0;32m   2033\u001b[0m     \u001b[38;5;66;03m# scalar value\u001b[39;00m\n\u001b[0;32m   2034\u001b[0m     \u001b[38;5;28;01mfor\u001b[39;00m loc \u001b[38;5;129;01min\u001b[39;00m ilocs:\n",
      "\u001b[1;31mValueError\u001b[0m: Must have equal len keys and value when setting with an iterable"
     ]
    }
   ],
   "source": [
    "#결측값 제거\n",
    "\n",
    "df.loc[::2,'tel'] = np.nan\n",
    "df.loc[5, :] = [np.nan, np.nan, np.nan, np.nan]\n",
    "# df.dropna(how='all', inplace=True)\n",
    "df['income'] = [300, np.nan, 400, 500, np.nan, 300]\n",
    "df.fillna({'address':'서울'}, inplace=True) \n",
    "df.fillna({'income': np.mean(df['income'])}, inplace = True)\n",
    "print(df)"
   ]
  },
  {
   "cell_type": "code",
   "execution_count": 253,
   "id": "93008b6d-89da-4475-a141-edd2bddc8417",
   "metadata": {},
   "outputs": [
    {
     "ename": "SyntaxError",
     "evalue": "invalid syntax. Perhaps you forgot a comma? (3542124252.py, line 3)",
     "output_type": "error",
     "traceback": [
      "\u001b[1;36m  Cell \u001b[1;32mIn[253], line 3\u001b[1;36m\u001b[0m\n\u001b[1;33m    [['kim', 90, 80, 70],\u001b[0m\n\u001b[1;37m    ^\u001b[0m\n\u001b[1;31mSyntaxError\u001b[0m\u001b[1;31m:\u001b[0m invalid syntax. Perhaps you forgot a comma?\n"
     ]
    }
   ],
   "source": [
    "#pandas 함수\n",
    "df = pd.DataFrame(\n",
    "    [['kim', 90, 80, 70],\n",
    "     ['lee', 45, np.nan, 55 ],\n",
    "     ['park', 76, 77, 83 ],\n",
    "     ['hong', 67, 73, 77 ],\n",
    "     ['kang', 35, 58, 53 ], \n",
    "     ['jang', np.nan, np.nan, np.nan]]columns=['name', 'kor', 'eng', 'mat']\n",
    ")\n",
    "print(df)"
   ]
  }
 ],
 "metadata": {
  "kernelspec": {
   "display_name": "Python 3 (ipykernel)",
   "language": "python",
   "name": "python3"
  },
  "language_info": {
   "codemirror_mode": {
    "name": "ipython",
    "version": 3
   },
   "file_extension": ".py",
   "mimetype": "text/x-python",
   "name": "python",
   "nbconvert_exporter": "python",
   "pygments_lexer": "ipython3",
   "version": "3.12.4"
  }
 },
 "nbformat": 4,
 "nbformat_minor": 5
}
