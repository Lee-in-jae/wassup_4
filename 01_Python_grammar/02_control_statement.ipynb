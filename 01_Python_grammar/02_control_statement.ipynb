{
 "cells": [
  {
   "cell_type": "code",
   "execution_count": null,
   "id": "53d94a35-97bf-4faf-b27b-346cf13edd02",
   "metadata": {},
   "outputs": [],
   "source": [
    "### 제어문\n",
    "#‘돈이 있으면 택시를 타고 가고, 돈이 없으면 걸어간다.’"
   ]
  },
  {
   "cell_type": "code",
   "execution_count": 2,
   "id": "14801f7e-0a29-4695-9c22-52d563e9c74d",
   "metadata": {},
   "outputs": [
    {
     "name": "stdout",
     "output_type": "stream",
     "text": [
      "택시를 타고 가라\n"
     ]
    }
   ],
   "source": [
    "money = True\n",
    "if money:\n",
    "    print(\"택시를 타고 가라\")\n",
    "else:\n",
    "    print(\"걸어 가라\")\n"
   ]
  },
  {
   "cell_type": "code",
   "execution_count": 4,
   "id": "c39aac99-a269-45fa-9bc5-b47a264667dc",
   "metadata": {},
   "outputs": [
    {
     "ename": "IndentationError",
     "evalue": "unexpected indent (1063393936.py, line 6)",
     "output_type": "error",
     "traceback": [
      "\u001b[1;36m  Cell \u001b[1;32mIn[4], line 6\u001b[1;36m\u001b[0m\n\u001b[1;33m    print(\"가라\")\u001b[0m\n\u001b[1;37m    ^\u001b[0m\n\u001b[1;31mIndentationError\u001b[0m\u001b[1;31m:\u001b[0m unexpected indent\n"
     ]
    }
   ],
   "source": [
    "#코듭 즐럭 들여쓰기 에러\n",
    "money = True\n",
    "if money:\n",
    "    print(\"택시를\")\n",
    "print(\"타고\")\n",
    "    print(\"가라\")"
   ]
  },
  {
   "cell_type": "code",
   "execution_count": 6,
   "id": "d6f99ef4-d7b7-4199-b7e7-91e2d40c5d16",
   "metadata": {},
   "outputs": [
    {
     "ename": "IndentationError",
     "evalue": "unexpected indent (3437559722.py, line 5)",
     "output_type": "error",
     "traceback": [
      "\u001b[1;36m  Cell \u001b[1;32mIn[6], line 5\u001b[1;36m\u001b[0m\n\u001b[1;33m    print(\"가라\")\u001b[0m\n\u001b[1;37m    ^\u001b[0m\n\u001b[1;31mIndentationError\u001b[0m\u001b[1;31m:\u001b[0m unexpected indent\n"
     ]
    }
   ],
   "source": [
    "money = True\n",
    "if money:\n",
    "    print(\"택시를\")\n",
    "    print(\"타고\")\n",
    "      print(\"가라\")"
   ]
  },
  {
   "cell_type": "code",
   "execution_count": null,
   "id": "a426c5f4-8e1f-4f8e-bb7e-6fcf10831d02",
   "metadata": {},
   "outputs": [],
   "source": [
    "## 비교연산자"
   ]
  },
  {
   "cell_type": "code",
   "execution_count": 8,
   "id": "5b021b09-f525-4fd7-a04f-e99f7272548c",
   "metadata": {},
   "outputs": [
    {
     "data": {
      "text/plain": [
       "True"
      ]
     },
     "execution_count": 8,
     "metadata": {},
     "output_type": "execute_result"
    }
   ],
   "source": [
    "x = 3\n",
    "y =2\n",
    "x > y"
   ]
  },
  {
   "cell_type": "code",
   "execution_count": null,
   "id": "ebc96152-1994-4ee0-894d-14b7e274e08f",
   "metadata": {},
   "outputs": [],
   "source": [
    "## quiz : 만약 3000원 이상의 돈을 가지고 있으면 택시를 타고 가고, 그렇지 않으면 걸어가라."
   ]
  },
  {
   "cell_type": "code",
   "execution_count": 16,
   "id": "90348565-1a28-41ba-b2ac-3528bd3fbe4e",
   "metadata": {},
   "outputs": [
    {
     "name": "stdout",
     "output_type": "stream",
     "text": [
      "걸어가\n"
     ]
    }
   ],
   "source": [
    "money = 1000\n",
    "if money >= 3000:\n",
    "    print(\"택시 타고 가라\")\n",
    "else:\n",
    "    print(\"걸어가\")"
   ]
  },
  {
   "cell_type": "code",
   "execution_count": 18,
   "id": "a288e277-be06-4d1e-b8ef-d89958e8b35b",
   "metadata": {},
   "outputs": [
    {
     "name": "stdout",
     "output_type": "stream",
     "text": [
      "걸어가\n"
     ]
    }
   ],
   "source": [
    "money = True\n",
    "if money >= 3000:\n",
    "    print(\"택시 타고 가라\")\n",
    "else:\n",
    "    print(\"걸어가\")"
   ]
  },
  {
   "cell_type": "code",
   "execution_count": null,
   "id": "7e9f2fc4-1891-45a6-ba70-cac704b914c1",
   "metadata": {},
   "outputs": [],
   "source": [
    "## quiz 돈이 3000원 이상 있거나 카드가 있다면 택시를 타고 가고, 그렇지 않으면 걸어가라."
   ]
  },
  {
   "cell_type": "code",
   "execution_count": 22,
   "id": "93bc70fb-74c2-4392-b659-5b711cdb06b7",
   "metadata": {},
   "outputs": [
    {
     "name": "stdout",
     "output_type": "stream",
     "text": [
      "택시 타고가\n"
     ]
    }
   ],
   "source": [
    "money = 1000\n",
    "card = True\n",
    "if money >= 3000 or card:\n",
    "    print(\"택시 타고가\")\n",
    "else :\n",
    "    print(\"걸어가\")"
   ]
  },
  {
   "cell_type": "code",
   "execution_count": 24,
   "id": "b37d1de9-753e-433c-b0a6-749afb42a5ba",
   "metadata": {},
   "outputs": [
    {
     "data": {
      "text/plain": [
       "True"
      ]
     },
     "execution_count": 24,
     "metadata": {},
     "output_type": "execute_result"
    }
   ],
   "source": [
    "1 in [1, 2, 3]"
   ]
  },
  {
   "cell_type": "code",
   "execution_count": 26,
   "id": "509248e1-7de2-4187-bf34-46c29165dbcb",
   "metadata": {},
   "outputs": [
    {
     "data": {
      "text/plain": [
       "False"
      ]
     },
     "execution_count": 26,
     "metadata": {},
     "output_type": "execute_result"
    }
   ],
   "source": [
    "1 not in [1, 2, 3]"
   ]
  },
  {
   "cell_type": "code",
   "execution_count": null,
   "id": "e09f919d-55cb-4d5f-aea6-c701a82e57e1",
   "metadata": {},
   "outputs": [],
   "source": [
    "## quiz 만약 주머니에 돈이 있으면 택시를 타고 가고, 없으면 걸어가라."
   ]
  },
  {
   "cell_type": "code",
   "execution_count": 40,
   "id": "25a32442-56c7-42d0-a868-6f5c6552cf50",
   "metadata": {},
   "outputs": [
    {
     "name": "stdout",
     "output_type": "stream",
     "text": [
      "택시 타고가\n"
     ]
    }
   ],
   "source": [
    "pocket = ('money', 'phone', 'card')\n",
    "if 'money' in pocket:\n",
    "    print(\"택시 타고가\")\n",
    "else :\n",
    "    print(\"걸어가\")\n"
   ]
  },
  {
   "cell_type": "code",
   "execution_count": null,
   "id": "90ab9b45-8197-41b6-ac0f-2ef4e006e7b5",
   "metadata": {},
   "outputs": [],
   "source": [
    "## pass\n",
    "#주머니에 돈이 있으면 가만히 있고, 주머니에 돈이 없으면 카드를 꺼내라."
   ]
  },
  {
   "cell_type": "code",
   "execution_count": 42,
   "id": "14e3ba78-74b4-46d9-b6b1-101a4bdea1f0",
   "metadata": {},
   "outputs": [],
   "source": [
    "pocket = ('money', 'phone', 'card')\n",
    "if 'money' in pocket:\n",
    "    pass\n",
    "else :\n",
    "    print(\"걸어가\")"
   ]
  },
  {
   "cell_type": "code",
   "execution_count": null,
   "id": "5da0668e-fa6e-4f06-beca-e60216a312a1",
   "metadata": {},
   "outputs": [],
   "source": [
    "## elif (다양한 조건을 판별)\n",
    "#주머니에 돈이 있으면 택시를 타고 가고, 주머니에 돈은 없지만 카드가 있으면 택시를 타고 가고, 돈도 없고 카드도 없으면 걸어가라."
   ]
  },
  {
   "cell_type": "code",
   "execution_count": 48,
   "id": "b3334b78-de32-472d-8d58-ed756e586604",
   "metadata": {},
   "outputs": [
    {
     "name": "stdout",
     "output_type": "stream",
     "text": [
      "현금 택시 타고가\n"
     ]
    }
   ],
   "source": [
    "pocket = ['money', 'card', 'phone']\n",
    "if 'money' in pocket:\n",
    "    print(\"현금 택시 타고가\")\n",
    "else :\n",
    "    if 'card' in pocket:\n",
    "        print(\"카드 택시 타고가\")\n",
    "    else:\n",
    "        print(\"걸어가\")\n",
    "        "
   ]
  },
  {
   "cell_type": "code",
   "execution_count": 50,
   "id": "ed14cfa1-4e9b-4637-aa70-878a23260ade",
   "metadata": {},
   "outputs": [
    {
     "name": "stdout",
     "output_type": "stream",
     "text": [
      "택시를 타고가라\n"
     ]
    }
   ],
   "source": [
    "pocket = ['paper', 'cellphone']\n",
    "card = True\n",
    "if 'money' in pocket:\n",
    "     print(\"택시를 타고가라\")\n",
    "elif card: \n",
    "     print(\"택시를 타고가라\")\n",
    "else:\n",
    "     print(\"걸어가라\")"
   ]
  },
  {
   "cell_type": "code",
   "execution_count": null,
   "id": "e9cff99e-c95d-424b-a522-a2b37d7aac42",
   "metadata": {},
   "outputs": [],
   "source": [
    "## if문 한줄로 작성하기"
   ]
  },
  {
   "cell_type": "code",
   "execution_count": 56,
   "id": "d9fb7bfa-97c8-456c-be85-d40eca68f282",
   "metadata": {},
   "outputs": [
    {
     "name": "stdout",
     "output_type": "stream",
     "text": [
      "카드를 꺼내라\n"
     ]
    }
   ],
   "source": [
    "pocket = ['paper','', 'cellphone']\n",
    "if 'money' in pocket: pass\n",
    "else: print(\"카드를 꺼내라\")"
   ]
  },
  {
   "cell_type": "code",
   "execution_count": null,
   "id": "59353b25-1dc3-4d42-ba9e-cc53552edc32",
   "metadata": {},
   "outputs": [],
   "source": [
    "### 조건부 표현식"
   ]
  },
  {
   "cell_type": "code",
   "execution_count": 58,
   "id": "627f1228-75c3-4bd6-8751-8804afc2b09e",
   "metadata": {},
   "outputs": [
    {
     "name": "stdout",
     "output_type": "stream",
     "text": [
      "failure\n"
     ]
    }
   ],
   "source": [
    "score = 50\n",
    "if score >= 60:\n",
    "    message = \"success\"\n",
    "    print(message)\n",
    "else:\n",
    "    message = \"failure\"\n",
    "    print(message)"
   ]
  },
  {
   "cell_type": "code",
   "execution_count": null,
   "id": "cd7a38ef-e89c-4ffd-bbc7-57cf572814a8",
   "metadata": {},
   "outputs": [],
   "source": [
    "message = \"success\" if score >= 60 else \"failure\""
   ]
  },
  {
   "cell_type": "code",
   "execution_count": null,
   "id": "967ca788-3286-44e5-8fb8-1f1d42ebf603",
   "metadata": {},
   "outputs": [],
   "source": [
    "### while 반복문"
   ]
  },
  {
   "cell_type": "code",
   "execution_count": 60,
   "id": "5b409c82-458d-4452-acf4-545a34ce384e",
   "metadata": {},
   "outputs": [
    {
     "name": "stdout",
     "output_type": "stream",
     "text": [
      "나무를 1번 찍었습니다.\n",
      "나무를 2번 찍었습니다.\n",
      "나무를 3번 찍었습니다.\n",
      "나무를 4번 찍었습니다.\n",
      "나무를 5번 찍었습니다.\n",
      "나무를 6번 찍었습니다.\n",
      "나무를 7번 찍었습니다.\n",
      "나무를 8번 찍었습니다.\n",
      "나무를 9번 찍었습니다.\n",
      "나무를 10번 찍었습니다.\n",
      "나무 넘어갑니다.\n"
     ]
    }
   ],
   "source": [
    "treeHit = 0\n",
    "while treeHit < 10:\n",
    "    treeHit = treeHit +1\n",
    "    print(\"나무를 %d번 찍었습니다.\" % treeHit)\n",
    "    if treeHit == 10:\n",
    "        print(\"나무 넘어갑니다.\")"
   ]
  },
  {
   "cell_type": "code",
   "execution_count": 64,
   "id": "e83cf66b-e94e-4291-9c54-03db8185f832",
   "metadata": {},
   "outputs": [],
   "source": [
    "prompt = '''\n",
    "1. Add\n",
    "2. Del\n",
    "3. List\n",
    "4. Quit\n",
    "\n",
    "Enter number : '''"
   ]
  },
  {
   "cell_type": "code",
   "execution_count": 74,
   "id": "0d1beeff-4d27-45e1-98c5-7f43fe59c510",
   "metadata": {},
   "outputs": [
    {
     "name": "stdout",
     "output_type": "stream",
     "text": [
      "\n",
      "1. Add\n",
      "2. Del\n",
      "3. List\n",
      "4. Quit\n",
      "\n",
      "Enter number : \n"
     ]
    }
   ],
   "source": [
    "print(prompt)"
   ]
  },
  {
   "cell_type": "code",
   "execution_count": 76,
   "id": "ce47cda0-fa30-489b-82da-65cdbeef7f1d",
   "metadata": {},
   "outputs": [
    {
     "name": "stdin",
     "output_type": "stream",
     "text": [
      " 안녕하세요\n"
     ]
    },
    {
     "data": {
      "text/plain": [
       "'안녕하세요'"
      ]
     },
     "execution_count": 76,
     "metadata": {},
     "output_type": "execute_result"
    }
   ],
   "source": [
    "input()"
   ]
  },
  {
   "cell_type": "code",
   "execution_count": 80,
   "id": "97cb86e7-0c1e-4f05-a980-3cadf2fcc143",
   "metadata": {},
   "outputs": [
    {
     "name": "stdout",
     "output_type": "stream",
     "text": [
      "\n",
      "1. Add\n",
      "2. Del\n",
      "3. List\n",
      "4. Quit\n",
      "\n",
      "Enter number : \n"
     ]
    },
    {
     "name": "stdin",
     "output_type": "stream",
     "text": [
      " 1\n"
     ]
    },
    {
     "name": "stdout",
     "output_type": "stream",
     "text": [
      "\n",
      "1. Add\n",
      "2. Del\n",
      "3. List\n",
      "4. Quit\n",
      "\n",
      "Enter number : \n"
     ]
    },
    {
     "name": "stdin",
     "output_type": "stream",
     "text": [
      " 4\n"
     ]
    }
   ],
   "source": [
    "number = 0\n",
    "while number != 4:\n",
    "    print(prompt)\n",
    "    number = int(input())"
   ]
  },
  {
   "cell_type": "code",
   "execution_count": null,
   "id": "f42efaaf-9d3d-44fe-80f8-862e857b13d6",
   "metadata": {},
   "outputs": [],
   "source": [
    "## 강제로 빠져나가기"
   ]
  },
  {
   "cell_type": "code",
   "execution_count": 82,
   "id": "bdea24a4-e73e-4df5-ae26-d47f7c414b19",
   "metadata": {},
   "outputs": [
    {
     "name": "stdout",
     "output_type": "stream",
     "text": [
      "돈을 받았으니 커피를 줍니다.\n",
      "남은 커피의 양은 9개입니다.\n",
      "돈을 받았으니 커피를 줍니다.\n",
      "남은 커피의 양은 8개입니다.\n",
      "돈을 받았으니 커피를 줍니다.\n",
      "남은 커피의 양은 7개입니다.\n",
      "돈을 받았으니 커피를 줍니다.\n",
      "남은 커피의 양은 6개입니다.\n",
      "돈을 받았으니 커피를 줍니다.\n",
      "남은 커피의 양은 5개입니다.\n",
      "돈을 받았으니 커피를 줍니다.\n",
      "남은 커피의 양은 4개입니다.\n",
      "돈을 받았으니 커피를 줍니다.\n",
      "남은 커피의 양은 3개입니다.\n",
      "돈을 받았으니 커피를 줍니다.\n",
      "남은 커피의 양은 2개입니다.\n",
      "돈을 받았으니 커피를 줍니다.\n",
      "남은 커피의 양은 1개입니다.\n",
      "돈을 받았으니 커피를 줍니다.\n",
      "남은 커피의 양은 0개입니다.\n",
      "커피가 다 떨어졌습니다. 판매를 중지합니다.\n"
     ]
    }
   ],
   "source": [
    "coffee = 10\n",
    "money = 300\n",
    "while money:\n",
    "    print(\"돈을 받았으니 커피를 줍니다.\")\n",
    "    coffee = coffee -1\n",
    "    print(\"남은 커피의 양은 %d개입니다.\" % coffee)\n",
    "    if coffee == 0:\n",
    "        print(\"커피가 다 떨어졌습니다. 판매를 중지합니다.\")\n",
    "        break"
   ]
  },
  {
   "cell_type": "code",
   "execution_count": null,
   "id": "f1f13d0e-3dba-4ed2-a96f-c8c6b859961b",
   "metadata": {},
   "outputs": [],
   "source": [
    "## quiz\n",
    "# money를 사용자 입력 받는 커피 자판기 프로그램을 만들어보자"
   ]
  },
  {
   "cell_type": "code",
   "execution_count": 92,
   "id": "86decc46-74dc-43a9-bf31-36f3bb4758d7",
   "metadata": {},
   "outputs": [
    {
     "ename": "KeyboardInterrupt",
     "evalue": "Interrupted by user",
     "output_type": "error",
     "traceback": [
      "\u001b[1;31m---------------------------------------------------------------------------\u001b[0m",
      "\u001b[1;31mKeyboardInterrupt\u001b[0m                         Traceback (most recent call last)",
      "Cell \u001b[1;32mIn[92], line 3\u001b[0m\n\u001b[0;32m      1\u001b[0m coffee \u001b[38;5;241m=\u001b[39m \u001b[38;5;241m10\u001b[39m\n\u001b[0;32m      2\u001b[0m \u001b[38;5;28;01mwhile\u001b[39;00m \u001b[38;5;28;01mTrue\u001b[39;00m:\n\u001b[1;32m----> 3\u001b[0m     money \u001b[38;5;241m=\u001b[39m \u001b[38;5;28mint\u001b[39m(\u001b[38;5;28minput\u001b[39m(\u001b[38;5;124m'\u001b[39m\u001b[38;5;124m돈을 넣어주세요.: \u001b[39m\u001b[38;5;124m'\u001b[39m)) \n\u001b[0;32m      4\u001b[0m     \u001b[38;5;28;01mif\u001b[39;00m money \u001b[38;5;241m==\u001b[39m \u001b[38;5;241m300\u001b[39m:\n\u001b[0;32m      5\u001b[0m         \u001b[38;5;28mprint\u001b[39m(\u001b[38;5;124m'\u001b[39m\u001b[38;5;124m커피를 줍니다.\u001b[39m\u001b[38;5;124m'\u001b[39m)\n",
      "File \u001b[1;32m~\\anaconda3\\Lib\\site-packages\\ipykernel\\kernelbase.py:1262\u001b[0m, in \u001b[0;36mKernel.raw_input\u001b[1;34m(self, prompt)\u001b[0m\n\u001b[0;32m   1260\u001b[0m     msg \u001b[38;5;241m=\u001b[39m \u001b[38;5;124m\"\u001b[39m\u001b[38;5;124mraw_input was called, but this frontend does not support input requests.\u001b[39m\u001b[38;5;124m\"\u001b[39m\n\u001b[0;32m   1261\u001b[0m     \u001b[38;5;28;01mraise\u001b[39;00m StdinNotImplementedError(msg)\n\u001b[1;32m-> 1262\u001b[0m \u001b[38;5;28;01mreturn\u001b[39;00m \u001b[38;5;28mself\u001b[39m\u001b[38;5;241m.\u001b[39m_input_request(\n\u001b[0;32m   1263\u001b[0m     \u001b[38;5;28mstr\u001b[39m(prompt),\n\u001b[0;32m   1264\u001b[0m     \u001b[38;5;28mself\u001b[39m\u001b[38;5;241m.\u001b[39m_parent_ident[\u001b[38;5;124m\"\u001b[39m\u001b[38;5;124mshell\u001b[39m\u001b[38;5;124m\"\u001b[39m],\n\u001b[0;32m   1265\u001b[0m     \u001b[38;5;28mself\u001b[39m\u001b[38;5;241m.\u001b[39mget_parent(\u001b[38;5;124m\"\u001b[39m\u001b[38;5;124mshell\u001b[39m\u001b[38;5;124m\"\u001b[39m),\n\u001b[0;32m   1266\u001b[0m     password\u001b[38;5;241m=\u001b[39m\u001b[38;5;28;01mFalse\u001b[39;00m,\n\u001b[0;32m   1267\u001b[0m )\n",
      "File \u001b[1;32m~\\anaconda3\\Lib\\site-packages\\ipykernel\\kernelbase.py:1305\u001b[0m, in \u001b[0;36mKernel._input_request\u001b[1;34m(self, prompt, ident, parent, password)\u001b[0m\n\u001b[0;32m   1302\u001b[0m \u001b[38;5;28;01mexcept\u001b[39;00m \u001b[38;5;167;01mKeyboardInterrupt\u001b[39;00m:\n\u001b[0;32m   1303\u001b[0m     \u001b[38;5;66;03m# re-raise KeyboardInterrupt, to truncate traceback\u001b[39;00m\n\u001b[0;32m   1304\u001b[0m     msg \u001b[38;5;241m=\u001b[39m \u001b[38;5;124m\"\u001b[39m\u001b[38;5;124mInterrupted by user\u001b[39m\u001b[38;5;124m\"\u001b[39m\n\u001b[1;32m-> 1305\u001b[0m     \u001b[38;5;28;01mraise\u001b[39;00m \u001b[38;5;167;01mKeyboardInterrupt\u001b[39;00m(msg) \u001b[38;5;28;01mfrom\u001b[39;00m \u001b[38;5;28;01mNone\u001b[39;00m\n\u001b[0;32m   1306\u001b[0m \u001b[38;5;28;01mexcept\u001b[39;00m \u001b[38;5;167;01mException\u001b[39;00m:\n\u001b[0;32m   1307\u001b[0m     \u001b[38;5;28mself\u001b[39m\u001b[38;5;241m.\u001b[39mlog\u001b[38;5;241m.\u001b[39mwarning(\u001b[38;5;124m\"\u001b[39m\u001b[38;5;124mInvalid Message:\u001b[39m\u001b[38;5;124m\"\u001b[39m, exc_info\u001b[38;5;241m=\u001b[39m\u001b[38;5;28;01mTrue\u001b[39;00m)\n",
      "\u001b[1;31mKeyboardInterrupt\u001b[0m: Interrupted by user"
     ]
    }
   ],
   "source": [
    "coffee = 10\n",
    "while True:\n",
    "    money = int(input('돈을 넣어주세요.: ')) \n",
    "    if money == 300:\n",
    "        print('커피를 줍니다.')\n",
    "        coffee -= 1\n",
    "        print(f'남은 커피의양은 {coffee}개 입니다.')\n",
    "    elif money > 300 :\n",
    "        print(f'거스름돈{money-300}을 주고 커피를 줍니다')\n",
    "        coffee -= 1\n",
    "        print(f'남은 커피의양은 {coffee}개 입니다.')\n",
    "    else :\n",
    "        print('돈을 다시 돌려주고 커피를 주지 않습니다.')\n",
    "        print(f'남은 커피의양은 {coffee}개 입니다.')\n",
    "    if  coffee == 0:\n",
    "        print('커피가 떨어졌습니다.')\n",
    "        break"
   ]
  },
  {
   "cell_type": "code",
   "execution_count": null,
   "id": "bb74669e-c754-4399-b39f-fa599cfabf96",
   "metadata": {},
   "outputs": [],
   "source": [
    "## while문 맨 처음으로 돌아가기 continue\n",
    "#1부터 10까지 숫자 중에서 홀수만 출력하는 프로그램을 whil3문으로 만들어보자"
   ]
  },
  {
   "cell_type": "code",
   "execution_count": 94,
   "id": "48c2bc6e-3541-4c37-8e64-4494e35d531b",
   "metadata": {},
   "outputs": [
    {
     "name": "stdout",
     "output_type": "stream",
     "text": [
      "1\n",
      "3\n",
      "5\n",
      "7\n",
      "9\n"
     ]
    }
   ],
   "source": [
    "a = 0\n",
    "while a < 10:\n",
    "    a += 1\n",
    "\n",
    "    if a % 2 == 0:\n",
    "        continue\n",
    "    print(a)\n",
    "    "
   ]
  },
  {
   "cell_type": "code",
   "execution_count": null,
   "id": "d742078a-f6c8-4cdb-a599-6024d2050192",
   "metadata": {},
   "outputs": [],
   "source": [
    "### For반복문"
   ]
  },
  {
   "cell_type": "code",
   "execution_count": 96,
   "id": "158d82fc-f641-4e9b-8411-1f9dca3209b1",
   "metadata": {},
   "outputs": [
    {
     "name": "stdout",
     "output_type": "stream",
     "text": [
      "one\n",
      "two\n",
      "three\n"
     ]
    }
   ],
   "source": [
    "# 젼형적인 for 문\n",
    "test_list = ['one', 'two', 'three']\n",
    "for i in test_list:\n",
    "    print(i)"
   ]
  },
  {
   "cell_type": "code",
   "execution_count": 98,
   "id": "6dfa3ba5-afd6-46df-a147-f0b2d66ae7ef",
   "metadata": {},
   "outputs": [
    {
     "name": "stdout",
     "output_type": "stream",
     "text": [
      "(1, 2)\n",
      "(3, 4)\n",
      "(5, 6)\n"
     ]
    }
   ],
   "source": [
    "a = [(1,2), (3,4), (5,6)]\n",
    "for i in a:\n",
    "    print(i)"
   ]
  },
  {
   "cell_type": "code",
   "execution_count": 12,
   "id": "ef389085-b252-4a85-bfac-5ac8ecbba5f1",
   "metadata": {},
   "outputs": [
    {
     "name": "stdout",
     "output_type": "stream",
     "text": [
      "3\n",
      "7\n",
      "11\n"
     ]
    }
   ],
   "source": [
    "a = [(1,2), (3,4), (5,6)]\n",
    "for first, last in a:\n",
    "    print(first+last)"
   ]
  },
  {
   "cell_type": "code",
   "execution_count": null,
   "id": "0a834bb4-c5c3-41c8-8f75-33c09be17353",
   "metadata": {},
   "outputs": [],
   "source": [
    "## quiz\n",
    "#총 5명의 학생이 시험을 보았는데 시험 점수가 60점 이상이면 합격이고 그렇지 않으면 불합격이다. 합격인지, 불합격인지 결과를 보여 주시오."
   ]
  },
  {
   "cell_type": "code",
   "execution_count": 108,
   "id": "7bd67117-e3d1-41c6-804d-ed17da7934ac",
   "metadata": {},
   "outputs": [
    {
     "name": "stdout",
     "output_type": "stream",
     "text": [
      "90\n",
      "1번 학생은 90 합격입니다.\n",
      "25\n",
      "2번 학생은 25 불합격입니다.\n",
      "67\n",
      "3번 학생은 67 합격입니다.\n",
      "45\n",
      "4번 학생은 45 불합격입니다.\n",
      "80\n",
      "5번 학생은 80 합격입니다.\n"
     ]
    }
   ],
   "source": [
    "scores = [90, 25, 67, 45,80]\n",
    "number = 0\n",
    "for s in scores:\n",
    "    print(s)\n",
    "    number += 1\n",
    "    if s >= 60:\n",
    "        print(f'{number}번 학생은 {s} 합격입니다.')\n",
    "    else:\n",
    "        print(f'{number}번 학생은 {s} 불합격입니다.')"
   ]
  },
  {
   "cell_type": "code",
   "execution_count": null,
   "id": "77ab3f75-3205-47ab-a0b6-b068e7953d22",
   "metadata": {},
   "outputs": [],
   "source": [
    "## for문과 continure문"
   ]
  },
  {
   "cell_type": "code",
   "execution_count": 14,
   "id": "e6ad73cd-1265-464a-be7a-215604a83a89",
   "metadata": {},
   "outputs": [],
   "source": [
    "scores = [90, 25, 67, 45, 80]\n",
    "number = 0\n",
    "for s in scores:\n",
    "    number += 1\n",
    "    if s < 60:\n",
    "        continue\n",
    "        print(f\"{number}번 학생 축하합니다. 합격입니다.\")"
   ]
  },
  {
   "cell_type": "code",
   "execution_count": null,
   "id": "d79e394a-9e64-45bc-be6a-29b53e21cd6b",
   "metadata": {},
   "outputs": [],
   "source": [
    "## for문과 함께 자주 사용하는 range 함수"
   ]
  },
  {
   "cell_type": "code",
   "execution_count": 16,
   "id": "1e62a2e9-8755-4178-9e22-36ac30b03010",
   "metadata": {},
   "outputs": [
    {
     "data": {
      "text/plain": [
       "\u001b[1;31mInit signature:\u001b[0m \u001b[0mrange\u001b[0m\u001b[1;33m(\u001b[0m\u001b[0mself\u001b[0m\u001b[1;33m,\u001b[0m \u001b[1;33m/\u001b[0m\u001b[1;33m,\u001b[0m \u001b[1;33m*\u001b[0m\u001b[0margs\u001b[0m\u001b[1;33m,\u001b[0m \u001b[1;33m**\u001b[0m\u001b[0mkwargs\u001b[0m\u001b[1;33m)\u001b[0m\u001b[1;33m\u001b[0m\u001b[1;33m\u001b[0m\u001b[0m\n",
       "\u001b[1;31mDocstring:\u001b[0m     \n",
       "range(stop) -> range object\n",
       "range(start, stop[, step]) -> range object\n",
       "\n",
       "Return an object that produces a sequence of integers from start (inclusive)\n",
       "to stop (exclusive) by step.  range(i, j) produces i, i+1, i+2, ..., j-1.\n",
       "start defaults to 0, and stop is omitted!  range(4) produces 0, 1, 2, 3.\n",
       "These are exactly the valid indices for a list of 4 elements.\n",
       "When step is given, it specifies the increment (or decrement).\n",
       "\u001b[1;31mType:\u001b[0m           type\n",
       "\u001b[1;31mSubclasses:\u001b[0m     "
      ]
     },
     "metadata": {},
     "output_type": "display_data"
    }
   ],
   "source": [
    "range?"
   ]
  },
  {
   "cell_type": "code",
   "execution_count": 18,
   "id": "893a56e7-7db1-422c-80de-cbfd1cb9791b",
   "metadata": {},
   "outputs": [
    {
     "data": {
      "text/plain": [
       "range(0, 10)"
      ]
     },
     "execution_count": 18,
     "metadata": {},
     "output_type": "execute_result"
    }
   ],
   "source": [
    "range(10)"
   ]
  },
  {
   "cell_type": "code",
   "execution_count": 22,
   "id": "0ad7762e-f87d-4e43-8aea-85b619ec4de5",
   "metadata": {},
   "outputs": [
    {
     "data": {
      "text/plain": [
       "range"
      ]
     },
     "execution_count": 22,
     "metadata": {},
     "output_type": "execute_result"
    }
   ],
   "source": [
    "type(range(10))"
   ]
  },
  {
   "cell_type": "code",
   "execution_count": 28,
   "id": "59700c9f-6245-442d-9d48-45f057bf8397",
   "metadata": {},
   "outputs": [
    {
     "name": "stdout",
     "output_type": "stream",
     "text": [
      "0\n",
      "1\n",
      "2\n",
      "3\n",
      "4\n",
      "5\n",
      "6\n",
      "7\n",
      "8\n",
      "9\n"
     ]
    }
   ],
   "source": [
    "for i in range(10):\n",
    "    print(i)"
   ]
  },
  {
   "cell_type": "code",
   "execution_count": 30,
   "id": "62cb5dac-f882-4a56-b54a-6c1ca18b6d28",
   "metadata": {},
   "outputs": [
    {
     "name": "stdout",
     "output_type": "stream",
     "text": [
      "1\n",
      "2\n",
      "3\n",
      "4\n",
      "5\n",
      "6\n",
      "7\n",
      "8\n",
      "9\n",
      "10\n"
     ]
    }
   ],
   "source": [
    "for i in range(1, 11):\n",
    "    print(i)"
   ]
  },
  {
   "cell_type": "code",
   "execution_count": null,
   "id": "763d8d99-0efe-487f-9dac-27394e5d2836",
   "metadata": {},
   "outputs": [],
   "source": [
    "##quiz\n",
    "#for와 range 함수를 사용하면 1부터 10까지 더하는 것을 다음과 같이 쉽게 구현할 수 있다."
   ]
  },
  {
   "cell_type": "code",
   "execution_count": 42,
   "id": "b0a9a3e0-8b31-4301-b251-13a44b6f579a",
   "metadata": {},
   "outputs": [
    {
     "name": "stdout",
     "output_type": "stream",
     "text": [
      "55\n"
     ]
    }
   ],
   "source": [
    "# total = 0\n",
    "\n",
    "# for number in range(1, 11):\n",
    "#     total += number \n",
    "#     print(total)\n",
    "num = 0\n",
    "for i in range(1, 11):\n",
    "    num = num + i\n",
    "print(num)\n"
   ]
  },
  {
   "cell_type": "code",
   "execution_count": 48,
   "id": "64e8e24c-521c-4f2d-8c01-5a7cfa4ce03f",
   "metadata": {},
   "outputs": [
    {
     "name": "stdout",
     "output_type": "stream",
     "text": [
      "0\n",
      "0번 학생은 0 합격입니다.\n",
      "1\n",
      "1번 학생은 1 불합격입니다.\n",
      "2\n",
      "2번 학생은 2 합격입니다.\n",
      "3\n",
      "3번 학생은 3 불합격입니다.\n",
      "4\n",
      "4번 학생은 4 합격입니다.\n"
     ]
    }
   ],
   "source": [
    "scores = [90, 25, 67, 45,80]\n",
    "# number = 0\n",
    "for s in range(len(scores)):\n",
    "    print(s)\n",
    "    # number += 1\n",
    "    if scores[s] >= 60:\n",
    "        print(f'{s}번 학생은 {s} 합격입니다.')\n",
    "    else:\n",
    "        print(f'{s}번 학생은 {s} 불합격입니다.')"
   ]
  },
  {
   "cell_type": "code",
   "execution_count": null,
   "id": "7f6c366e-b1b4-40d2-8682-9b8ce03a467d",
   "metadata": {},
   "outputs": [],
   "source": [
    "### for 와 range를 이용한 구구단"
   ]
  },
  {
   "cell_type": "code",
   "execution_count": 68,
   "id": "ad14d1e3-c0cc-48f1-a72e-2c220999f0ec",
   "metadata": {},
   "outputs": [
    {
     "name": "stdout",
     "output_type": "stream",
     "text": [
      "==========\n",
      "2단\n",
      "2X1=2\n",
      "2X2=4\n",
      "2X3=6\n",
      "2X4=8\n",
      "2X5=10\n",
      "2X6=12\n",
      "2X7=14\n",
      "2X8=16\n",
      "2X9=18\n",
      "==========\n",
      "3단\n",
      "3X1=3\n",
      "3X2=6\n",
      "3X3=9\n",
      "3X4=12\n",
      "3X5=15\n",
      "3X6=18\n",
      "3X7=21\n",
      "3X8=24\n",
      "3X9=27\n",
      "==========\n",
      "4단\n",
      "4X1=4\n",
      "4X2=8\n",
      "4X3=12\n",
      "4X4=16\n",
      "4X5=20\n",
      "4X6=24\n",
      "4X7=28\n",
      "4X8=32\n",
      "4X9=36\n",
      "==========\n",
      "5단\n",
      "5X1=5\n",
      "5X2=10\n",
      "5X3=15\n",
      "5X4=20\n",
      "5X5=25\n",
      "5X6=30\n",
      "5X7=35\n",
      "5X8=40\n",
      "5X9=45\n",
      "==========\n",
      "6단\n",
      "6X1=6\n",
      "6X2=12\n",
      "6X3=18\n",
      "6X4=24\n",
      "6X5=30\n",
      "6X6=36\n",
      "6X7=42\n",
      "6X8=48\n",
      "6X9=54\n",
      "==========\n",
      "7단\n",
      "7X1=7\n",
      "7X2=14\n",
      "7X3=21\n",
      "7X4=28\n",
      "7X5=35\n",
      "7X6=42\n",
      "7X7=49\n",
      "7X8=56\n",
      "7X9=63\n",
      "==========\n",
      "8단\n",
      "8X1=8\n",
      "8X2=16\n",
      "8X3=24\n",
      "8X4=32\n",
      "8X5=40\n",
      "8X6=48\n",
      "8X7=56\n",
      "8X8=64\n",
      "8X9=72\n",
      "==========\n",
      "9단\n",
      "9X1=9\n",
      "9X2=18\n",
      "9X3=27\n",
      "9X4=36\n",
      "9X5=45\n",
      "9X6=54\n",
      "9X7=63\n",
      "9X8=72\n",
      "9X9=81\n"
     ]
    }
   ],
   "source": [
    "for i in range(2, 10):\n",
    "    print('='*10)\n",
    "    print(f'{i}단')\n",
    "    for l in range(1, 10):\n",
    "        print(f'{i}X{l}={i*l}')\n",
    "    "
   ]
  },
  {
   "cell_type": "code",
   "execution_count": 70,
   "id": "8eafddc3-7b05-48c6-9614-f81029332d29",
   "metadata": {},
   "outputs": [
    {
     "data": {
      "text/plain": [
       "\u001b[1;31mSignature:\u001b[0m \u001b[0mprint\u001b[0m\u001b[1;33m(\u001b[0m\u001b[1;33m*\u001b[0m\u001b[0margs\u001b[0m\u001b[1;33m,\u001b[0m \u001b[0msep\u001b[0m\u001b[1;33m=\u001b[0m\u001b[1;34m' '\u001b[0m\u001b[1;33m,\u001b[0m \u001b[0mend\u001b[0m\u001b[1;33m=\u001b[0m\u001b[1;34m'\\n'\u001b[0m\u001b[1;33m,\u001b[0m \u001b[0mfile\u001b[0m\u001b[1;33m=\u001b[0m\u001b[1;32mNone\u001b[0m\u001b[1;33m,\u001b[0m \u001b[0mflush\u001b[0m\u001b[1;33m=\u001b[0m\u001b[1;32mFalse\u001b[0m\u001b[1;33m)\u001b[0m\u001b[1;33m\u001b[0m\u001b[1;33m\u001b[0m\u001b[0m\n",
       "\u001b[1;31mDocstring:\u001b[0m\n",
       "Prints the values to a stream, or to sys.stdout by default.\n",
       "\n",
       "sep\n",
       "  string inserted between values, default a space.\n",
       "end\n",
       "  string appended after the last value, default a newline.\n",
       "file\n",
       "  a file-like object (stream); defaults to the current sys.stdout.\n",
       "flush\n",
       "  whether to forcibly flush the stream.\n",
       "\u001b[1;31mType:\u001b[0m      builtin_function_or_method"
      ]
     },
     "metadata": {},
     "output_type": "display_data"
    }
   ],
   "source": [
    "print?"
   ]
  },
  {
   "cell_type": "code",
   "execution_count": null,
   "id": "475c150d-6446-4f2f-8582-3aac392d5c62",
   "metadata": {},
   "outputs": [],
   "source": [
    "###리스트 컴프리헨션"
   ]
  },
  {
   "cell_type": "code",
   "execution_count": 72,
   "id": "90fb0575-13c6-46d9-b6ae-24340aa27d53",
   "metadata": {},
   "outputs": [
    {
     "name": "stdout",
     "output_type": "stream",
     "text": [
      "[3, 6, 9, 12]\n"
     ]
    }
   ],
   "source": [
    "a = [1, 2, 3, 4]\n",
    "result = []\n",
    "for num in a:\n",
    "    result.append(num*3)\n",
    "print(result)"
   ]
  },
  {
   "cell_type": "code",
   "execution_count": 74,
   "id": "5eaea511-e958-47bf-97a8-c862432a7bd6",
   "metadata": {},
   "outputs": [
    {
     "name": "stdout",
     "output_type": "stream",
     "text": [
      "[6, 12]\n"
     ]
    }
   ],
   "source": [
    "a = [1, 2, 3, 4]\n",
    "result = [num * 3 for num in a if num % 2 == 0]\n",
    "print(result)"
   ]
  },
  {
   "cell_type": "code",
   "execution_count": 76,
   "id": "dfc00096-ff0c-44e0-b180-65ebab847a1b",
   "metadata": {},
   "outputs": [
    {
     "name": "stdout",
     "output_type": "stream",
     "text": [
      "List Comprehension Time: 0.05824732780456543\n",
      "For loop Time: 0.16032695770263672\n"
     ]
    }
   ],
   "source": [
    "import time\n",
    "\n",
    "start = time.time() \n",
    "numbers = [i for i in range(1000000)] \n",
    "end = time.time() \n",
    "print('List Comprehension Time:', end-start)\n",
    "\n",
    "start = time.time() \n",
    "numbers = []\n",
    "for i in range(1000000):\n",
    "    numbers.append(i)\n",
    "end = time.time() \n",
    "print('For loop Time:', end-start)"
   ]
  },
  {
   "cell_type": "code",
   "execution_count": null,
   "id": "35152ee2-7994-4163-a349-40819d805181",
   "metadata": {},
   "outputs": [],
   "source": [
    "# 실습"
   ]
  },
  {
   "cell_type": "code",
   "execution_count": null,
   "id": "fff626ca-8a65-458e-860a-4510c59a850a",
   "metadata": {},
   "outputs": [],
   "source": [
    "# 1. 전화번호 프로그램 만들기\n",
    "# -홍길동 010-123-4567\n",
    "# -기능1: 연락처추가\n",
    "# -기능2: 연락처 전체 보기\n",
    "# -기능3: 검색, 이름을 입력받아서 전화번호 조회\n",
    "# -기능4: 수정, 이름을입력받아서전화번호 입력수정\n",
    "# -기능5: 삭제,이름 입력받아서 삭제\n",
    "# -기능6: 프로그램 종료\n"
   ]
  },
  {
   "cell_type": "code",
   "execution_count": null,
   "id": "d3b2a8dd-558a-43bc-a2cd-66fb6c5a30dd",
   "metadata": {},
   "outputs": [],
   "source": [
    "# l1 = {}\n",
    "# for i in range(10):\n",
    "#     print(\"1. 연락처 추가\")\n",
    "#     print(\"2. 연락처 전체 보기\")\n",
    "#     print(\"3. 연락처 검색\")\n",
    "#     print(\"4. 연락처 수정\")\n",
    "#     print(\"5. 연락처 삭제\")\n",
    "#     print(\"6. 프로그램 종료\")\n",
    "#     input = input(\"운하는 기능을 선택하시오: \")\n",
    "#     if input == '1':\n",
    "#         name = input(\"이름\")\n",
    "#         number = input(\"전화번호\")\n",
    "#         list[name] = phone\n"
   ]
  },
  {
   "cell_type": "code",
   "execution_count": null,
   "id": "4704c005-55dd-45ba-8042-2a6012f60793",
   "metadata": {},
   "outputs": [],
   "source": [
    "## 설계\n",
    "1. 입출력 정의: 문자열, 딕셔너리\n",
    "2. 인터페이스: input(), 프롬프트\n",
    "3. 구조: while 반복문, 6개 기능을구현 -> if 분기문\n",
    "4. 기능 구현 + 인테페이스정책\n",
    "-1번 연락처 추가 : dic[key] = value\n",
    "-2번 연락처 전체 보기: print(dict)\n",
    "-3번 연락처 검색: dict[key]\n",
    "-4번 연락처 수정: dict[key] = value\n",
    "-5번 연착처 삭제: del\n",
    "-6번 종료: break 정책"
   ]
  },
  {
   "cell_type": "code",
   "execution_count": null,
   "id": "d5302989-8095-41f5-bb75-9e6b73f9ef0b",
   "metadata": {},
   "outputs": [
    {
     "name": "stdout",
     "output_type": "stream",
     "text": [
      "--------전화번호부 프로그램-------\n",
      "1.추가   2.조회   3.검색   4.수정   5.삭제   9.종료\n"
     ]
    }
   ],
   "source": [
    "contact = {}\n",
    "while True:\n",
    "    print('--------전화번호부 프로그램-------')\n",
    "    print('1.추가   2.조회   3.검색   4.수정   5.삭제   9.종료')\n",
    "    menu = int(input('메뉴를 선택해주세요.(숫자 only) : '))\n",
    "\n",
    "    if menu == 1:\n",
    "      print('연락처를 추가합니다.')\n",
    "      new_name = input('이름 : ')\n",
    "      new_tel = input('전화번호 : ')\n",
    "      print(new_name,new_tel)\n",
    "\n",
    "      # contact[new_name] = new_tel\n",
    "      contact.setdefault(new_name, new_tel)\n",
    "    elif menu == 2:\n",
    "      print('연락처를 조회합니다.')\n",
    "      print(contact)\n",
    "      for name, tel in contact.items():\n",
    "          print(name, ':', tel)\n",
    "    elif menu == 3:\n",
    "      print('연락처를 검색합니다.')\n",
    "      search_name = input('검색 이름: ')\n",
    "      contact.get(search_name, ('없는 이름입니다.'))\n",
    "    elif menu == 4:\n",
    "      print('연락처를 수정합니다.')\n",
    "      mod_name = input('수정 이름: ')\n",
    "      if mod_name in contact:\n",
    "          mod_name = input('새 전화번호: ')\n",
    "          contact[mod_name] = mod_tel\n",
    "      else:\n",
    "        print('동록되지 않은 이름')\n",
    "        \n",
    "    elif menu == 5:\n",
    "      print('연락처를 사게합니다.')\n",
    "      del_name = input('삭제이름 :')\n",
    "      if del_name in contact:\n",
    "          del contact[del_name]\n",
    "      \n",
    "    elif menu == 9:\n",
    "      print('프로그램을 종료합니다.')\n",
    "      break\n",
    "    else:\n",
    "      print('잘못된 형식입니다.')\n",
    "    \n",
    "       "
   ]
  }
 ],
 "metadata": {
  "kernelspec": {
   "display_name": "Python 3 (ipykernel)",
   "language": "python",
   "name": "python3"
  },
  "language_info": {
   "codemirror_mode": {
    "name": "ipython",
    "version": 3
   },
   "file_extension": ".py",
   "mimetype": "text/x-python",
   "name": "python",
   "nbconvert_exporter": "python",
   "pygments_lexer": "ipython3",
   "version": "3.12.4"
  }
 },
 "nbformat": 4,
 "nbformat_minor": 5
}
