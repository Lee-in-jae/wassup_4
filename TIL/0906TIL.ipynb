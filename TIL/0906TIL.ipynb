{
 "cells": [
  {
   "cell_type": "code",
   "execution_count": null,
   "id": "e8761026-a51c-4cdf-8906-cecfcc47c468",
   "metadata": {},
   "outputs": [],
   "source": [
    "#101\n",
    "#파이썬에서 True 혹은 False를 갖는 데이터 타입은 무엇인가?\n",
    "#bool"
   ]
  },
  {
   "cell_type": "code",
   "execution_count": 1,
   "id": "cb2c77af-6a24-4839-9966-3dbc4fb7a2e0",
   "metadata": {},
   "outputs": [
    {
     "name": "stdout",
     "output_type": "stream",
     "text": [
      "False\n"
     ]
    }
   ],
   "source": [
    "#102\n",
    "#아래 코드의 출력 결과를 예상하라\n",
    "print(3 == 5)\n",
    "#false"
   ]
  },
  {
   "cell_type": "code",
   "execution_count": 3,
   "id": "a121ded6-9bc0-4dbf-bf90-230119ca92b7",
   "metadata": {},
   "outputs": [
    {
     "name": "stdout",
     "output_type": "stream",
     "text": [
      "True\n"
     ]
    }
   ],
   "source": [
    "#103\n",
    "#아래 코드의 출력 결과를 예상하라\n",
    "print(3 < 5) \n",
    "# true"
   ]
  },
  {
   "cell_type": "code",
   "execution_count": 5,
   "id": "e309dd19-0ebc-43fd-97b3-69a7195a1717",
   "metadata": {},
   "outputs": [
    {
     "name": "stdout",
     "output_type": "stream",
     "text": [
      "True\n"
     ]
    }
   ],
   "source": [
    "#104\n",
    "#아래 코드의 결과를 예상하라.\n",
    "x = 4\n",
    "print(1 < x < 5) \n",
    "#true"
   ]
  },
  {
   "cell_type": "code",
   "execution_count": null,
   "id": "c6477a75-8226-41a6-a52a-26e6d7a671cf",
   "metadata": {},
   "outputs": [],
   "source": [
    "#105\n",
    "#아래 코드의 결과를 예상하라.\n",
    "print ((3 == 3) and (4 != 3))"
   ]
  },
  {
   "cell_type": "code",
   "execution_count": null,
   "id": "1f88dd16-2230-4aa4-9339-f4f4c086c7e8",
   "metadata": {},
   "outputs": [],
   "source": [
    "#106\n",
    "#아래 코드에서 에러가 발생하는 원인에 대해 설명하라.\n",
    "#print(3 => 4)"
   ]
  },
  {
   "cell_type": "code",
   "execution_count": 19,
   "id": "0527cf57-21f6-4149-920e-4664b7bd2999",
   "metadata": {},
   "outputs": [],
   "source": [
    "#107\n",
    "#아래 코드의 출력 결과를 예상하라\n",
    "if 4 < 3:\n",
    "    print(\"Hello World\") \n",
    "#출력 안됨"
   ]
  },
  {
   "cell_type": "code",
   "execution_count": null,
   "id": "3952bf06-b6b2-4468-9a5a-69358d575f5f",
   "metadata": {},
   "outputs": [],
   "source": [
    "#108\n",
    "#아래 코드의 출력 결과를 예상하라\n",
    "if 4 < 3:\n",
    "    print(\"Hello World.\")\n",
    "else:\n",
    "    print(\"Hi, there.\")\n"
   ]
  },
  {
   "cell_type": "code",
   "execution_count": null,
   "id": "c00b685d-275a-463d-826b-805832e3ae49",
   "metadata": {},
   "outputs": [],
   "source": [
    "#109\n",
    "#아래 코드의 출력 결과를 예상하라\n",
    "if True :\n",
    "    print (\"1\")\n",
    "    print (\"2\")\n",
    "else :\n",
    "    print(\"3\")\n",
    "print(\"4\")"
   ]
  },
  {
   "cell_type": "code",
   "execution_count": null,
   "id": "4a38ee99-79d8-49a5-8ff7-48bc1eccc386",
   "metadata": {},
   "outputs": [],
   "source": [
    "#110\n",
    "#아래 코드의 출력 결과를 예상하라\n",
    "if True :\n",
    "    if False:\n",
    "        print(\"1\")\n",
    "        print(\"2\")\n",
    "    else:\n",
    "        print(\"3\")\n",
    "else :\n",
    "    print(\"4\")\n",
    "print(\"5\")"
   ]
  }
 ],
 "metadata": {
  "kernelspec": {
   "display_name": "Python 3 (ipykernel)",
   "language": "python",
   "name": "python3"
  },
  "language_info": {
   "codemirror_mode": {
    "name": "ipython",
    "version": 3
   },
   "file_extension": ".py",
   "mimetype": "text/x-python",
   "name": "python",
   "nbconvert_exporter": "python",
   "pygments_lexer": "ipython3",
   "version": "3.12.4"
  }
 },
 "nbformat": 4,
 "nbformat_minor": 5
}
