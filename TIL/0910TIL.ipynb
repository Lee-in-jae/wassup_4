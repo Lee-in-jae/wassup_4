{
 "cells": [
  {
   "cell_type": "code",
   "execution_count": 34,
   "id": "f2ebbcb3-e59c-4c0b-87cc-a11f08585cae",
   "metadata": {},
   "outputs": [],
   "source": [
    "# 201\n",
    "# \"비트코인\" 문자열을 화면에 출력하는 print_coin() 함수를 정의하라.\n",
    "def print_coin():\n",
    "    print('비트코인')\n",
    "\n"
   ]
  },
  {
   "cell_type": "code",
   "execution_count": 32,
   "id": "2bb236be-ddd2-4584-ad33-8e014dfbb5d5",
   "metadata": {},
   "outputs": [
    {
     "data": {
      "text/plain": [
       "'비트코인'"
      ]
     },
     "execution_count": 32,
     "metadata": {},
     "output_type": "execute_result"
    }
   ],
   "source": [
    "# 202\n",
    "# 201번에서 정의한 함수를 호출하라.\n",
    "\n",
    "print_coin()"
   ]
  },
  {
   "cell_type": "code",
   "execution_count": 36,
   "id": "e9f1fa1d-b29f-4089-a908-9bc3ca61435b",
   "metadata": {},
   "outputs": [
    {
     "name": "stdout",
     "output_type": "stream",
     "text": [
      "비트코인\n",
      "비트코인\n",
      "비트코인\n",
      "비트코인\n",
      "비트코인\n",
      "비트코인\n",
      "비트코인\n",
      "비트코인\n",
      "비트코인\n",
      "비트코인\n",
      "비트코인\n",
      "비트코인\n",
      "비트코인\n",
      "비트코인\n",
      "비트코인\n",
      "비트코인\n",
      "비트코인\n",
      "비트코인\n",
      "비트코인\n",
      "비트코인\n",
      "비트코인\n",
      "비트코인\n",
      "비트코인\n",
      "비트코인\n",
      "비트코인\n",
      "비트코인\n",
      "비트코인\n",
      "비트코인\n",
      "비트코인\n",
      "비트코인\n",
      "비트코인\n",
      "비트코인\n",
      "비트코인\n",
      "비트코인\n",
      "비트코인\n",
      "비트코인\n",
      "비트코인\n",
      "비트코인\n",
      "비트코인\n",
      "비트코인\n",
      "비트코인\n",
      "비트코인\n",
      "비트코인\n",
      "비트코인\n",
      "비트코인\n",
      "비트코인\n",
      "비트코인\n",
      "비트코인\n",
      "비트코인\n",
      "비트코인\n",
      "비트코인\n",
      "비트코인\n",
      "비트코인\n",
      "비트코인\n",
      "비트코인\n",
      "비트코인\n",
      "비트코인\n",
      "비트코인\n",
      "비트코인\n",
      "비트코인\n",
      "비트코인\n",
      "비트코인\n",
      "비트코인\n",
      "비트코인\n",
      "비트코인\n",
      "비트코인\n",
      "비트코인\n",
      "비트코인\n",
      "비트코인\n",
      "비트코인\n",
      "비트코인\n",
      "비트코인\n",
      "비트코인\n",
      "비트코인\n",
      "비트코인\n",
      "비트코인\n",
      "비트코인\n",
      "비트코인\n",
      "비트코인\n",
      "비트코인\n",
      "비트코인\n",
      "비트코인\n",
      "비트코인\n",
      "비트코인\n",
      "비트코인\n",
      "비트코인\n",
      "비트코인\n",
      "비트코인\n",
      "비트코인\n",
      "비트코인\n",
      "비트코인\n",
      "비트코인\n",
      "비트코인\n",
      "비트코인\n",
      "비트코인\n",
      "비트코인\n",
      "비트코인\n",
      "비트코인\n",
      "비트코인\n",
      "비트코인\n"
     ]
    }
   ],
   "source": [
    "# 203\n",
    "# 201번에서 정의한 print_coin 함수를 100번호출하라.\n",
    "\n",
    "for i in range(100):\n",
    "    print_coin()"
   ]
  },
  {
   "cell_type": "code",
   "execution_count": 46,
   "id": "499725a7-3577-425a-80be-715042231015",
   "metadata": {},
   "outputs": [],
   "source": [
    "# 204\n",
    "# \"비트코인\" 문자열을 100번 화면에 출력하는 print_coins() 함수를 정의하라.\n",
    "def print_coins():\n",
    "    for i in range(100):\n",
    "        print(\"비트코인\")"
   ]
  },
  {
   "cell_type": "code",
   "execution_count": 60,
   "id": "686a780e-a30f-4d27-b3a0-291f95eed225",
   "metadata": {},
   "outputs": [],
   "source": [
    "# 205\n",
    "# 아래의 에러가 발생하는 이유에 대해 설명하라.\n",
    "\n",
    "\n",
    "def hello():\n",
    "    print(\"Hi\")\n",
    "    \n",
    "hello()\n",
    "\n",
    "# NameError: name 'hello' is not defined\n"
   ]
  },
  {
   "cell_type": "code",
   "execution_count": 62,
   "id": "b0a09645-5d0e-450d-958c-db4e38140568",
   "metadata": {},
   "outputs": [
    {
     "name": "stdout",
     "output_type": "stream",
     "text": [
      "A\n",
      "B\n",
      "C\n",
      "A\n",
      "B\n"
     ]
    }
   ],
   "source": [
    "# 206\n",
    "# 아래 코드의 실행 결과를 예측하라.\n",
    "\n",
    "def message() :\n",
    "    print(\"A\")\n",
    "    print(\"B\")\n",
    "\n",
    "message()\n",
    "print(\"C\")\n",
    "message()\n",
    "#"
   ]
  },
  {
   "cell_type": "code",
   "execution_count": null,
   "id": "260aff6a-a88e-4326-bc43-f446f4820847",
   "metadata": {},
   "outputs": [],
   "source": [
    "# 207\n",
    "# 아래 코드의 실행 결과를 예측하라. (읽기 어려운 코드의 예입니다.)\n",
    "\n",
    "# print(\"A\")\n",
    "\n",
    "# def message() :\n",
    "#     print(\"B\")\n",
    "\n",
    "# print(\"C\")\n",
    "# message()"
   ]
  },
  {
   "cell_type": "code",
   "execution_count": 64,
   "id": "3e030df4-e29e-4275-928a-62a3b23db934",
   "metadata": {},
   "outputs": [
    {
     "name": "stdout",
     "output_type": "stream",
     "text": [
      "A\n",
      "C\n",
      "B\n",
      "E\n",
      "D\n"
     ]
    }
   ],
   "source": [
    "# 208\n",
    "# 아래 코드의 실행 결과를 예측하라. (읽기 어려운 코드의 예입니다.)\n",
    "\n",
    "print(\"A\")\n",
    "def message1() :\n",
    "    print(\"B\")\n",
    "print(\"C\")\n",
    "def message2() :\n",
    "    print(\"D\")\n",
    "message1()\n",
    "print(\"E\")\n",
    "message2()"
   ]
  },
  {
   "cell_type": "code",
   "execution_count": 66,
   "id": "13a289be-6070-4911-94cb-d1260c71b655",
   "metadata": {},
   "outputs": [
    {
     "name": "stdout",
     "output_type": "stream",
     "text": [
      "B\n",
      "A\n"
     ]
    }
   ],
   "source": [
    "# 209\n",
    "# 아래 코드의 실행 결과를 예측하라.\n",
    "\n",
    "def message1():\n",
    "    print(\"A\")\n",
    "\n",
    "def message2():\n",
    "    print(\"B\")\n",
    "    message1()\n",
    "\n",
    "message2()"
   ]
  },
  {
   "cell_type": "code",
   "execution_count": 68,
   "id": "99c0a321-3508-46af-bfa0-a332a7055c66",
   "metadata": {},
   "outputs": [
    {
     "name": "stdout",
     "output_type": "stream",
     "text": [
      "B\n",
      "C\n",
      "B\n",
      "C\n",
      "B\n",
      "C\n",
      "A\n"
     ]
    }
   ],
   "source": [
    "# 210\n",
    "# 아래 코드의 실행 결과를 예측하라.\n",
    "\n",
    "def message1():\n",
    "    print(\"A\")\n",
    "\n",
    "def message2():\n",
    "    print(\"B\")\n",
    "\n",
    "def message3():\n",
    "    for i in range (3) :\n",
    "        message2() #B\n",
    "        print(\"C\")\n",
    "    message1()\n",
    "\n",
    "message3()"
   ]
  },
  {
   "cell_type": "code",
   "execution_count": null,
   "id": "0c4137b7-4cc0-47b6-b955-cd9d3f00485e",
   "metadata": {},
   "outputs": [],
   "source": [
    "# 211\n",
    "# 함수의 호출 결과를 예측하라.\n",
    "\n",
    "def 함수(문자열) :\n",
    "    print(문자열)\n",
    "\n",
    "함수(\"안녕\")\n",
    "함수(\"Hi\")\n",
    "#\"안녕\"\n",
    "#\"Hi\""
   ]
  },
  {
   "cell_type": "code",
   "execution_count": 82,
   "id": "a2c6300f-ac85-4b15-bd90-f4805e787993",
   "metadata": {},
   "outputs": [
    {
     "name": "stdout",
     "output_type": "stream",
     "text": [
      "7\n",
      "15\n"
     ]
    }
   ],
   "source": [
    "# 212\n",
    "# 함수의 호출 결과를 예측하라.\n",
    "\n",
    "def 함수(a, b) :\n",
    "    print(a + b)\n",
    "\n",
    "함수(3, 4)\n",
    "함수(7, 8)\n",
    "#7\n",
    "#15"
   ]
  },
  {
   "cell_type": "code",
   "execution_count": 86,
   "id": "e3066b54-0d3c-4785-8802-cc9743c04c55",
   "metadata": {},
   "outputs": [
    {
     "ename": "TypeError",
     "evalue": "함수() missing 1 required positional argument: '문자열'",
     "output_type": "error",
     "traceback": [
      "\u001b[1;31m---------------------------------------------------------------------------\u001b[0m",
      "\u001b[1;31mTypeError\u001b[0m                                 Traceback (most recent call last)",
      "Cell \u001b[1;32mIn[86], line 6\u001b[0m\n\u001b[0;32m      4\u001b[0m \u001b[38;5;28;01mdef\u001b[39;00m \u001b[38;5;21m함수\u001b[39m(문자열) :\n\u001b[0;32m      5\u001b[0m     \u001b[38;5;28mprint\u001b[39m(문자열)\n\u001b[1;32m----> 6\u001b[0m 함수()\n",
      "\u001b[1;31mTypeError\u001b[0m: 함수() missing 1 required positional argument: '문자열'"
     ]
    }
   ],
   "source": [
    "# 213\n",
    "# 아래와 같은 에러가 발생하는 원인을 설명하라.\n",
    "\n",
    "def 함수(문자열) :\n",
    "    print(문자열)\n",
    "함수()\n",
    "# TypeError: 함수() missing 1 required positional argument: '문자열'"
   ]
  },
  {
   "cell_type": "code",
   "execution_count": null,
   "id": "72176119-7341-47f6-925d-f9a4ec9d40f5",
   "metadata": {},
   "outputs": [],
   "source": [
    "214\n",
    "아래와 같은 에러가 발생하는 원인을 설명하라.\n",
    "\n",
    "def 함수(a, b) :\n",
    "    print(a + b)\n",
    "\n",
    "함수(\"안녕\", 3)\n",
    "TypeError: must be str, not int\n",
    "#안녕은 숫자열이 아니라서"
   ]
  },
  {
   "cell_type": "code",
   "execution_count": 88,
   "id": "406283f6-18cd-4867-94c3-d67679308924",
   "metadata": {},
   "outputs": [],
   "source": [
    "# 215\n",
    "# 하나의 문자를 입력받아 문자열 끝에 \":D\" 스마일 문자열을 이어 붙여 출력하는 print_with_smile 함수를 정의하라.\n",
    "def print_with_smile(string):\n",
    "    print(string + \":D\")\n"
   ]
  },
  {
   "cell_type": "code",
   "execution_count": 90,
   "id": "307ce034-5f33-4b39-bc69-f181c21ef229",
   "metadata": {},
   "outputs": [
    {
     "name": "stdout",
     "output_type": "stream",
     "text": [
      "아녕:D\n"
     ]
    }
   ],
   "source": [
    "# 216\n",
    "# 215에서 정의한 함수를 호출하라. 파라미터는 \"안녕하세요\"로 입력하라.\n",
    "print_with_smile('아녕')"
   ]
  },
  {
   "cell_type": "code",
   "execution_count": 92,
   "id": "f0f1e75d-d671-43af-8fc9-4ffbcdaa6762",
   "metadata": {},
   "outputs": [],
   "source": [
    "# 217\n",
    "# 현재 가격을 입력 받아 상한가 (30%)를 출력하는 print_upper_price 함수를 정의하라.\n",
    "def print_upper_price(a):\n",
    "    print(a*1.3)"
   ]
  },
  {
   "cell_type": "code",
   "execution_count": null,
   "id": "f65d8bc9-dfa0-4c4d-ba7a-c13f13f4061b",
   "metadata": {},
   "outputs": [],
   "source": []
  },
  {
   "cell_type": "code",
   "execution_count": 94,
   "id": "dcd8f609-1f85-464e-b475-ab3cf3570e01",
   "metadata": {},
   "outputs": [],
   "source": [
    "# 218\n",
    "# 두 개의 숫자를 입력받아 두 수의 합을 출력하는 print_sum 함수를 정의하라.\n",
    "def print_sum(a,b):\n",
    "    print(a+b)"
   ]
  },
  {
   "cell_type": "code",
   "execution_count": 100,
   "id": "730e4e59-3a6f-4615-8e02-75f71cdb497a",
   "metadata": {},
   "outputs": [
    {
     "name": "stdout",
     "output_type": "stream",
     "text": [
      "4 6\n"
     ]
    }
   ],
   "source": [
    "print(4,6)"
   ]
  },
  {
   "cell_type": "code",
   "execution_count": null,
   "id": "7f63fd25-3c52-45f8-89eb-11ba996dd8f3",
   "metadata": {},
   "outputs": [],
   "source": [
    "# 219\n",
    "# 두 개의 숫자를 입력받아 합/차/곱/나눗셈을 출력하는 print_arithmetic_operation 함수를 작성하라.\n",
    "\n",
    "# print_arithmetic_operation(3, 4)\n",
    "# 3 + 4 = 7\n",
    "# 3 - 4 = -1\n",
    "# 3 * 4 = 12\n",
    "# 3 / 4 = 0.75\n",
    "def print_arithmetic_operation(a, b):\n",
    "    print(a,\"+\",b,\"=\",a+b)\n",
    "    print(a,\"+\",b,\"=\",a+b)\n",
    "    print(a,\"+\",b,\"=\",a+b)\n",
    "\n"
   ]
  },
  {
   "cell_type": "code",
   "execution_count": null,
   "id": "95d9fd4b-c87a-4407-b255-2ff28d00ed98",
   "metadata": {},
   "outputs": [],
   "source": []
  },
  {
   "cell_type": "code",
   "execution_count": 96,
   "id": "fde01347-8244-42ee-bc8b-ad306a3eae55",
   "metadata": {},
   "outputs": [],
   "source": [
    "# 220\n",
    "# 세 개의 숫자를 입력받아 가장 큰수를 출력하는 print_max 함수를 정의하라. 단 if 문을 사용해서 수를 비교하라.\n",
    "def print_max(a, b, c):\n",
    "    if a>b and a>c:\n",
    "        print(a)\n",
    "    elif b>a and b>c:\n",
    "        print(b)\n",
    "    else:\n",
    "        print(c)\n",
    "    "
   ]
  },
  {
   "cell_type": "code",
   "execution_count": 98,
   "id": "23bb74ce-8a84-4d02-972d-55ee80d12555",
   "metadata": {},
   "outputs": [
    {
     "name": "stdout",
     "output_type": "stream",
     "text": [
      "100\n"
     ]
    }
   ],
   "source": [
    "print_max(100, 30, 50)"
   ]
  },
  {
   "cell_type": "code",
   "execution_count": null,
   "id": "e5e5633c-6462-44d6-b964-4119fa7614ac",
   "metadata": {},
   "outputs": [],
   "source": [
    "# 221\n",
    "# 입력된 문자열을 역순으로 출력하는 print_reverse 함수를 정의하라.\n",
    "\n",
    "# print_reverse(\"python\")\n",
    "# nohtyp\n",
    "\n",
    "def print_reverse(string):\n",
    "    print(string[::-1])"
   ]
  },
  {
   "cell_type": "code",
   "execution_count": 3,
   "id": "37d485dd-f3b2-44d0-a212-cd737c284b8b",
   "metadata": {},
   "outputs": [],
   "source": [
    "# 222\n",
    "# 성적 리스트를 입력 받아 평균을 출력하는 print_score 함수를 정의하라.\n",
    "\n",
    "# print_score ([1, 2, 3])\n",
    "# 2.0\n",
    "\n",
    "def print_score(s):\n",
    "    print(sum(s)/len(s))\n",
    "    "
   ]
  },
  {
   "cell_type": "code",
   "execution_count": 7,
   "id": "6998579b-e7ab-41b2-ae60-de0d7393043a",
   "metadata": {},
   "outputs": [],
   "source": [
    "# 223\n",
    "# 하나의 리스트를 입력받아 짝수만 화면에 출력하는 print_even 함수를 정의하라.\n",
    "\n",
    "# print_even ([1, 3, 2, 10, 12, 11, 15])\n",
    "# 2\n",
    "# 10\n",
    "# 12\n",
    "\n",
    "def print_even(num):\n",
    "    for i in num:\n",
    "        if i % 2 == 0:\n",
    "            print(i)"
   ]
  },
  {
   "cell_type": "code",
   "execution_count": null,
   "id": "fe761574-c7c2-4786-ad22-97ea8cf0744a",
   "metadata": {},
   "outputs": [],
   "source": []
  },
  {
   "cell_type": "code",
   "execution_count": 33,
   "id": "14275345-6dfc-4670-9dde-8de3655e5f77",
   "metadata": {},
   "outputs": [],
   "source": [
    "# 224\n",
    "# 하나의 딕셔너리를 입력받아 딕셔너리의 key 값을 화면에 출력하는 print_keys 함수를 정의하라.\n",
    "\n",
    "# print_keys ({\"이름\":\"김말똥\", \"나이\":30, \"성별\":0})\n",
    "# 이름\n",
    "# 나이\n",
    "# 성별\n",
    "def print_keys(key_dict):\n",
    "    \n",
    "    for i in key_dict.keys():\n",
    "        \n",
    "        print(i)\n",
    "        \n",
    "    "
   ]
  },
  {
   "cell_type": "code",
   "execution_count": 35,
   "id": "1071ad4f-a4d7-4019-92cc-acd3be7363de",
   "metadata": {},
   "outputs": [
    {
     "name": "stdout",
     "output_type": "stream",
     "text": [
      "이름\n",
      "나이\n",
      "성별\n"
     ]
    }
   ],
   "source": [
    "print_keys({\"이름\":\"김말똥\", \"나이\":30, \"성별\":0})"
   ]
  },
  {
   "cell_type": "code",
   "execution_count": 41,
   "id": "50a69147-6d99-400e-b8ed-c29e58d32bd8",
   "metadata": {},
   "outputs": [],
   "source": [
    "#225\n",
    "#my_dict에는 날짜를 키값으로 OHLC가 리스트로 저장돼 있다.\n",
    "\n",
    "#my_dict = {\"10/26\" : [100, 130, 100, 100],\n",
    "           #\"10/27\" : [10, 12, 10, 11]}\n",
    "#my_dict와 날짜 키값을 입력받아 OHLC 리스트를 출력하는 print_value_by_key 함수를 정의하라.\n",
    "\n",
    "#print_value_by_key  (my_dict, \"10/26\")\n",
    "#[100, 130, 100, 100]\n",
    "\n",
    "my_dict = {\"10/26\" : [100, 130, 100, 100], \"10/27\" : [10, 12, 10, 11]}\n",
    "def print_value_key(my_dict, b):\n",
    "    print(my_dict.get(b),)\n",
    "    print(b)"
   ]
  },
  {
   "cell_type": "code",
   "execution_count": 47,
   "id": "d7cb2919-f99b-4616-8471-d9adb73798b5",
   "metadata": {},
   "outputs": [
    {
     "name": "stdout",
     "output_type": "stream",
     "text": [
      "[100, 130, 100, 100]\n",
      "10/26\n"
     ]
    }
   ],
   "source": [
    " print_value_key(my_dict,\"10/26\")"
   ]
  },
  {
   "cell_type": "code",
   "execution_count": 61,
   "id": "1253c063-a02c-4cda-9a6a-1ad2644f3f26",
   "metadata": {},
   "outputs": [],
   "source": [
    "#226\n",
    "#입력 문자열을 한 줄에 다섯글자씩 출력하는 print_5xn(string) 함수를 작성하라.\n",
    "\n",
    "#print_5xn(\"아이엠어보이유알어걸\")\n",
    "#아이엠어보\n",
    "#이유알어걸\n",
    "list = ['아이엠어보', '이유알어걸']\n",
    "def print_5xn(string):\n",
    "    for i in range(len(string[::5])):\n",
    "        i = string[i*5:i*5+5]\n",
    "        print(i)\n",
    "def print_5xn(line):\n",
    "    chunk_num = int(len(line) / 5)\n",
    "    for x in range(chunk_num + 1) :\n",
    "        print(line[x * 5: x * 5 + 5])"
   ]
  },
  {
   "cell_type": "code",
   "execution_count": 63,
   "id": "de968522-988b-430c-94c9-53d62ffb95d1",
   "metadata": {},
   "outputs": [
    {
     "name": "stdout",
     "output_type": "stream",
     "text": [
      "아이엠어보\n",
      "이유알어걸\n"
     ]
    }
   ],
   "source": [
    "print_5xn(\"아이엠어보이유알어걸\")"
   ]
  },
  {
   "cell_type": "code",
   "execution_count": 69,
   "id": "541f87d8-982f-44e8-9419-026f36006cdf",
   "metadata": {},
   "outputs": [],
   "source": [
    "#227\n",
    "#문자열과 한줄에 출력될 글자 수를 입력을 받아 한 줄에 입력된 글자 수만큼 출력하는 print_mxn(string) 함수를 작성하라.\n",
    "\n",
    "#printmxn(\"아이엠어보이유알어걸\", 3)\n",
    "#아이엠\n",
    "#어보이\n",
    "#유알어\n",
    "#걸\n",
    "def print_mxn(string,n):\n",
    "    for i in range(len(string[::3])):\n",
    "        i = string[i*n:i*n+n]\n",
    "        print(i)"
   ]
  },
  {
   "cell_type": "raw",
   "id": "78a2d94b-71c4-4271-bd12-05956e74e064",
   "metadata": {},
   "source": [
    "print_mxn(\"아이엠어보이유알어걸\", 3)"
   ]
  },
  {
   "cell_type": "code",
   "execution_count": 71,
   "id": "3d6c4798-8c7c-49af-b034-6387c06c695e",
   "metadata": {},
   "outputs": [],
   "source": [
    "#228\n",
    "#연봉을 입력받아 월급을 계산하는 calc_monthly_salary(annual_salary) 함수를 정의하라. 회사는 연봉을 12개월로 나누어 분할 지급하며, 이 때 1원 미만은 버림한다.\n",
    "\n",
    "#calc_monthly_salary(12000000)\n",
    "#1000000\n",
    "def calc_monthly_salary(annual_salary):\n",
    "    print(int(annual_salary/12))\n"
   ]
  },
  {
   "cell_type": "code",
   "execution_count": 73,
   "id": "24b39ae5-05c2-47d4-9876-136d2d61dce8",
   "metadata": {},
   "outputs": [
    {
     "ename": "IndentationError",
     "evalue": "unexpected indent (1604993330.py, line 5)",
     "output_type": "error",
     "traceback": [
      "\u001b[1;36m  Cell \u001b[1;32mIn[73], line 5\u001b[1;36m\u001b[0m\n\u001b[1;33m    print(\"왼쪽:\", a)\u001b[0m\n\u001b[1;37m    ^\u001b[0m\n\u001b[1;31mIndentationError\u001b[0m\u001b[1;31m:\u001b[0m unexpected indent\n"
     ]
    }
   ],
   "source": [
    "#229\n",
    "#아래 코드의 실행 결과를 예측하라.\n",
    "\n",
    "#def my_print (a, b) :\n",
    "    print(\"왼쪽:\", a)\n",
    "    print(\"오른쪽:\", b)\n",
    "\n",
    "my_print(a=100, b=200)"
   ]
  },
  {
   "cell_type": "code",
   "execution_count": null,
   "id": "f239d21a-4b72-456b-91af-787fd01dec16",
   "metadata": {},
   "outputs": [],
   "source": [
    "230\n",
    "아래 코드의 실행 결과를 예측하라.\n",
    "\n",
    "def my_print (a, b) :\n",
    "    print(\"왼쪽:\", a)\n",
    "    print(\"오른쪽:\", b)\n",
    "\n",
    "my_print(b=100, a=200)"
   ]
  },
  {
   "cell_type": "code",
   "execution_count": null,
   "id": "37105d88-7ba2-4d97-bda3-6da445f4c994",
   "metadata": {},
   "outputs": [],
   "source": [
    "231\n",
    "아래 코드를 실행한 결과를 예상하라.\n",
    "\n",
    "def n_plus_1 (n) :\n",
    "    result = n + 1\n",
    "\n",
    "n_plus_1(3)\n",
    "print (result)"
   ]
  },
  {
   "cell_type": "code",
   "execution_count": null,
   "id": "14fd4a9d-588d-437c-a587-dd3b2f1ed20b",
   "metadata": {},
   "outputs": [],
   "source": [
    "232\n",
    "문자열 하나를 입력받아 인터넷 주소를 반환하는 make_url 함수를 정의하라.\n",
    "\n",
    "make_url(\"naver\")\n",
    "www.naver.com"
   ]
  },
  {
   "cell_type": "code",
   "execution_count": null,
   "id": "c73f4bef-ce6b-45ec-bbb2-fabd68aaeca8",
   "metadata": {},
   "outputs": [],
   "source": [
    "문자열을 입력받아 각 문자들로 구성된 리스트로 반환하는 make_list 함수를 정의하라.\n",
    "\n",
    "make_list(\"abcd\")\n",
    "['a', 'b', 'c', 'd']"
   ]
  },
  {
   "cell_type": "code",
   "execution_count": null,
   "id": "8b491bdb-d1b8-4b79-b1bf-166adf8df3e9",
   "metadata": {},
   "outputs": [],
   "source": [
    "234\n",
    "숫자로 구성된 하나의 리스트를 입력받아, 짝수들을 추출하여 리스트로 반환하는 pickup_even 함수를 구현하라.\n",
    "\n",
    "pickup_even([3, 4, 5, 6, 7, 8])\n",
    "[4, 6, 8]"
   ]
  },
  {
   "cell_type": "code",
   "execution_count": null,
   "id": "b850b382-6892-48a4-899f-306263338d64",
   "metadata": {},
   "outputs": [],
   "source": [
    "235\n",
    "콤마가 포함된 문자열 숫자를 입력받아 정수로 변환하는 convert_int 함수를 정의하라.\n",
    "\n",
    "convert_int(\"1,234,567\")\n",
    "1234567"
   ]
  },
  {
   "cell_type": "code",
   "execution_count": null,
   "id": "5ce8e707-729a-4667-a944-ba48b29a49dc",
   "metadata": {},
   "outputs": [],
   "source": [
    "236\n",
    "아래 코드의 실행 결과를 예측하라.\n",
    "\n",
    "def 함수(num) :\n",
    "    return num + 4\n",
    "\n",
    "a = 함수(10)\n",
    "b = 함수(a)\n",
    "c = 함수(b)\n",
    "print(c)"
   ]
  },
  {
   "cell_type": "code",
   "execution_count": null,
   "id": "4f14fcd9-47bc-4e09-b1a4-2c130e4bba88",
   "metadata": {},
   "outputs": [],
   "source": [
    "237\n",
    "아래 코드의 실행 결과를 예측하라.\n",
    "\n",
    "def 함수(num) :\n",
    "    return num + 4\n",
    "\n",
    "c = 함수(함수(함수(10)))\n",
    "print(c)"
   ]
  },
  {
   "cell_type": "code",
   "execution_count": null,
   "id": "51b5fb1e-22c1-46e9-8297-aa8c6771b433",
   "metadata": {},
   "outputs": [],
   "source": [
    "238\n",
    "아래 코드의 실행 결과를 예측하라.\n",
    "\n",
    "def 함수1(num) :\n",
    "    return num + 4\n",
    "\n",
    "def 함수2(num) :\n",
    "    return num * 10\n",
    "\n",
    "a = 함수1(10)\n",
    "c = 함수2(a)\n",
    "print(c)"
   ]
  },
  {
   "cell_type": "code",
   "execution_count": null,
   "id": "28c7e3ea-2ed8-45aa-81ea-70829ff54a16",
   "metadata": {},
   "outputs": [],
   "source": [
    "239\n",
    "아래 코드의 실행 결과를 예측하라.\n",
    "\n",
    "def 함수1(num) :\n",
    "    return num + 4\n",
    "\n",
    "def 함수2(num) :\n",
    "    num = num + 2\n",
    "    return 함수1(num)\n",
    "\n",
    "c = 함수2(10)\n",
    "print(c)"
   ]
  },
  {
   "cell_type": "code",
   "execution_count": null,
   "id": "f61c4177-da04-4254-9905-5f7fdade0bb8",
   "metadata": {},
   "outputs": [],
   "source": [
    "아래 코드의 실행 결과를 예측하라.\n",
    "\n",
    "def 함수0(num) :\n",
    "    return num * 2\n",
    "\n",
    "def 함수1(num) :\n",
    "    return 함수0(num + 2)\n",
    "\n",
    "def 함수2(num) :\n",
    "    num = num + 10\n",
    "    return 함수1(num)\n",
    "\n",
    "c = 함수2(2)\n",
    "print(c)"
   ]
  }
 ],
 "metadata": {
  "kernelspec": {
   "display_name": "Python 3 (ipykernel)",
   "language": "python",
   "name": "python3"
  },
  "language_info": {
   "codemirror_mode": {
    "name": "ipython",
    "version": 3
   },
   "file_extension": ".py",
   "mimetype": "text/x-python",
   "name": "python",
   "nbconvert_exporter": "python",
   "pygments_lexer": "ipython3",
   "version": "3.12.4"
  }
 },
 "nbformat": 4,
 "nbformat_minor": 5
}
